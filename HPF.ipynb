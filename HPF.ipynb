{
  "nbformat": 4,
  "nbformat_minor": 0,
  "metadata": {
    "colab": {
      "provenance": []
    },
    "kernelspec": {
      "name": "python3",
      "display_name": "Python 3"
    },
    "language_info": {
      "name": "python"
    }
  },
  "cells": [
    {
      "cell_type": "markdown",
      "source": [
        "# **Importing all the libraries that are required**"
      ],
      "metadata": {
        "id": "fLkhTnL0m86-"
      }
    },
    {
      "cell_type": "code",
      "execution_count": 60,
      "metadata": {
        "id": "3xqGSUZDw24x"
      },
      "outputs": [],
      "source": [
        "import numpy as np\n",
        "import pandas as pd\n",
        "import matplotlib.pyplot as plt\n",
        "%matplotlib inline\n",
        "import seaborn as sns"
      ]
    },
    {
      "cell_type": "markdown",
      "source": [
        "# **This step is to import the dataset into colab**"
      ],
      "metadata": {
        "id": "vl8qF7pYni7D"
      }
    },
    {
      "cell_type": "code",
      "source": [
        "from google.colab import files\n",
        "uploaded = files.upload()\n"
      ],
      "metadata": {
        "colab": {
          "base_uri": "https://localhost:8080/",
          "height": 73
        },
        "id": "1u91UGVvxdR8",
        "outputId": "4d9518ce-fe5d-4960-b00f-1f2770c6ec8c"
      },
      "execution_count": 61,
      "outputs": [
        {
          "output_type": "display_data",
          "data": {
            "text/plain": [
              "<IPython.core.display.HTML object>"
            ],
            "text/html": [
              "\n",
              "     <input type=\"file\" id=\"files-a46068f2-95cc-4575-9225-ea0e073098b4\" name=\"files[]\" multiple disabled\n",
              "        style=\"border:none\" />\n",
              "     <output id=\"result-a46068f2-95cc-4575-9225-ea0e073098b4\">\n",
              "      Upload widget is only available when the cell has been executed in the\n",
              "      current browser session. Please rerun this cell to enable.\n",
              "      </output>\n",
              "      <script>// Copyright 2017 Google LLC\n",
              "//\n",
              "// Licensed under the Apache License, Version 2.0 (the \"License\");\n",
              "// you may not use this file except in compliance with the License.\n",
              "// You may obtain a copy of the License at\n",
              "//\n",
              "//      http://www.apache.org/licenses/LICENSE-2.0\n",
              "//\n",
              "// Unless required by applicable law or agreed to in writing, software\n",
              "// distributed under the License is distributed on an \"AS IS\" BASIS,\n",
              "// WITHOUT WARRANTIES OR CONDITIONS OF ANY KIND, either express or implied.\n",
              "// See the License for the specific language governing permissions and\n",
              "// limitations under the License.\n",
              "\n",
              "/**\n",
              " * @fileoverview Helpers for google.colab Python module.\n",
              " */\n",
              "(function(scope) {\n",
              "function span(text, styleAttributes = {}) {\n",
              "  const element = document.createElement('span');\n",
              "  element.textContent = text;\n",
              "  for (const key of Object.keys(styleAttributes)) {\n",
              "    element.style[key] = styleAttributes[key];\n",
              "  }\n",
              "  return element;\n",
              "}\n",
              "\n",
              "// Max number of bytes which will be uploaded at a time.\n",
              "const MAX_PAYLOAD_SIZE = 100 * 1024;\n",
              "\n",
              "function _uploadFiles(inputId, outputId) {\n",
              "  const steps = uploadFilesStep(inputId, outputId);\n",
              "  const outputElement = document.getElementById(outputId);\n",
              "  // Cache steps on the outputElement to make it available for the next call\n",
              "  // to uploadFilesContinue from Python.\n",
              "  outputElement.steps = steps;\n",
              "\n",
              "  return _uploadFilesContinue(outputId);\n",
              "}\n",
              "\n",
              "// This is roughly an async generator (not supported in the browser yet),\n",
              "// where there are multiple asynchronous steps and the Python side is going\n",
              "// to poll for completion of each step.\n",
              "// This uses a Promise to block the python side on completion of each step,\n",
              "// then passes the result of the previous step as the input to the next step.\n",
              "function _uploadFilesContinue(outputId) {\n",
              "  const outputElement = document.getElementById(outputId);\n",
              "  const steps = outputElement.steps;\n",
              "\n",
              "  const next = steps.next(outputElement.lastPromiseValue);\n",
              "  return Promise.resolve(next.value.promise).then((value) => {\n",
              "    // Cache the last promise value to make it available to the next\n",
              "    // step of the generator.\n",
              "    outputElement.lastPromiseValue = value;\n",
              "    return next.value.response;\n",
              "  });\n",
              "}\n",
              "\n",
              "/**\n",
              " * Generator function which is called between each async step of the upload\n",
              " * process.\n",
              " * @param {string} inputId Element ID of the input file picker element.\n",
              " * @param {string} outputId Element ID of the output display.\n",
              " * @return {!Iterable<!Object>} Iterable of next steps.\n",
              " */\n",
              "function* uploadFilesStep(inputId, outputId) {\n",
              "  const inputElement = document.getElementById(inputId);\n",
              "  inputElement.disabled = false;\n",
              "\n",
              "  const outputElement = document.getElementById(outputId);\n",
              "  outputElement.innerHTML = '';\n",
              "\n",
              "  const pickedPromise = new Promise((resolve) => {\n",
              "    inputElement.addEventListener('change', (e) => {\n",
              "      resolve(e.target.files);\n",
              "    });\n",
              "  });\n",
              "\n",
              "  const cancel = document.createElement('button');\n",
              "  inputElement.parentElement.appendChild(cancel);\n",
              "  cancel.textContent = 'Cancel upload';\n",
              "  const cancelPromise = new Promise((resolve) => {\n",
              "    cancel.onclick = () => {\n",
              "      resolve(null);\n",
              "    };\n",
              "  });\n",
              "\n",
              "  // Wait for the user to pick the files.\n",
              "  const files = yield {\n",
              "    promise: Promise.race([pickedPromise, cancelPromise]),\n",
              "    response: {\n",
              "      action: 'starting',\n",
              "    }\n",
              "  };\n",
              "\n",
              "  cancel.remove();\n",
              "\n",
              "  // Disable the input element since further picks are not allowed.\n",
              "  inputElement.disabled = true;\n",
              "\n",
              "  if (!files) {\n",
              "    return {\n",
              "      response: {\n",
              "        action: 'complete',\n",
              "      }\n",
              "    };\n",
              "  }\n",
              "\n",
              "  for (const file of files) {\n",
              "    const li = document.createElement('li');\n",
              "    li.append(span(file.name, {fontWeight: 'bold'}));\n",
              "    li.append(span(\n",
              "        `(${file.type || 'n/a'}) - ${file.size} bytes, ` +\n",
              "        `last modified: ${\n",
              "            file.lastModifiedDate ? file.lastModifiedDate.toLocaleDateString() :\n",
              "                                    'n/a'} - `));\n",
              "    const percent = span('0% done');\n",
              "    li.appendChild(percent);\n",
              "\n",
              "    outputElement.appendChild(li);\n",
              "\n",
              "    const fileDataPromise = new Promise((resolve) => {\n",
              "      const reader = new FileReader();\n",
              "      reader.onload = (e) => {\n",
              "        resolve(e.target.result);\n",
              "      };\n",
              "      reader.readAsArrayBuffer(file);\n",
              "    });\n",
              "    // Wait for the data to be ready.\n",
              "    let fileData = yield {\n",
              "      promise: fileDataPromise,\n",
              "      response: {\n",
              "        action: 'continue',\n",
              "      }\n",
              "    };\n",
              "\n",
              "    // Use a chunked sending to avoid message size limits. See b/62115660.\n",
              "    let position = 0;\n",
              "    do {\n",
              "      const length = Math.min(fileData.byteLength - position, MAX_PAYLOAD_SIZE);\n",
              "      const chunk = new Uint8Array(fileData, position, length);\n",
              "      position += length;\n",
              "\n",
              "      const base64 = btoa(String.fromCharCode.apply(null, chunk));\n",
              "      yield {\n",
              "        response: {\n",
              "          action: 'append',\n",
              "          file: file.name,\n",
              "          data: base64,\n",
              "        },\n",
              "      };\n",
              "\n",
              "      let percentDone = fileData.byteLength === 0 ?\n",
              "          100 :\n",
              "          Math.round((position / fileData.byteLength) * 100);\n",
              "      percent.textContent = `${percentDone}% done`;\n",
              "\n",
              "    } while (position < fileData.byteLength);\n",
              "  }\n",
              "\n",
              "  // All done.\n",
              "  yield {\n",
              "    response: {\n",
              "      action: 'complete',\n",
              "    }\n",
              "  };\n",
              "}\n",
              "\n",
              "scope.google = scope.google || {};\n",
              "scope.google.colab = scope.google.colab || {};\n",
              "scope.google.colab._files = {\n",
              "  _uploadFiles,\n",
              "  _uploadFilesContinue,\n",
              "};\n",
              "})(self);\n",
              "</script> "
            ]
          },
          "metadata": {}
        },
        {
          "output_type": "stream",
          "name": "stdout",
          "text": [
            "Saving dataset.xlsx to dataset (1).xlsx\n"
          ]
        }
      ]
    },
    {
      "cell_type": "markdown",
      "source": [
        "# **Now let's explore the data**"
      ],
      "metadata": {
        "id": "ebGpp2_vn4Z_"
      }
    },
    {
      "cell_type": "code",
      "source": [
        "#read dataset\n",
        "df = pd.read_excel('dataset.xlsx')\n",
        "#head displays the first five rows of the dataframe by default \n",
        "df.head()"
      ],
      "metadata": {
        "colab": {
          "base_uri": "https://localhost:8080/",
          "height": 268
        },
        "id": "q_Aw0rvWxTEg",
        "outputId": "09a9193d-0bb8-417d-e8c3-399975f1f5cb"
      },
      "execution_count": 62,
      "outputs": [
        {
          "output_type": "execute_result",
          "data": {
            "text/plain": [
              "   Transaction date  House Age  Distance from nearest Metro station (km)  \\\n",
              "0       2012.916667       32.0                                  84.87882   \n",
              "1       2012.916667       19.5                                 306.59470   \n",
              "2       2013.583333       13.3                                 561.98450   \n",
              "3       2013.500000       13.3                                 561.98450   \n",
              "4       2012.833333        5.0                                 390.56840   \n",
              "\n",
              "   Number of convenience stores  latitude  longitude  Number of bedrooms  \\\n",
              "0                            10  24.98298  121.54024                   1   \n",
              "1                             9  24.98034  121.53951                   2   \n",
              "2                             5  24.98746  121.54391                   3   \n",
              "3                             5  24.98746  121.54391                   2   \n",
              "4                             5  24.97937  121.54245                   1   \n",
              "\n",
              "   House size (sqft)  House price of unit area  \n",
              "0                575                      37.9  \n",
              "1               1240                      42.2  \n",
              "2               1060                      47.3  \n",
              "3                875                      54.8  \n",
              "4                491                      43.1  "
            ],
            "text/html": [
              "\n",
              "  <div id=\"df-146f9c09-6ec5-4f37-a0e7-e581b59fd0ec\">\n",
              "    <div class=\"colab-df-container\">\n",
              "      <div>\n",
              "<style scoped>\n",
              "    .dataframe tbody tr th:only-of-type {\n",
              "        vertical-align: middle;\n",
              "    }\n",
              "\n",
              "    .dataframe tbody tr th {\n",
              "        vertical-align: top;\n",
              "    }\n",
              "\n",
              "    .dataframe thead th {\n",
              "        text-align: right;\n",
              "    }\n",
              "</style>\n",
              "<table border=\"1\" class=\"dataframe\">\n",
              "  <thead>\n",
              "    <tr style=\"text-align: right;\">\n",
              "      <th></th>\n",
              "      <th>Transaction date</th>\n",
              "      <th>House Age</th>\n",
              "      <th>Distance from nearest Metro station (km)</th>\n",
              "      <th>Number of convenience stores</th>\n",
              "      <th>latitude</th>\n",
              "      <th>longitude</th>\n",
              "      <th>Number of bedrooms</th>\n",
              "      <th>House size (sqft)</th>\n",
              "      <th>House price of unit area</th>\n",
              "    </tr>\n",
              "  </thead>\n",
              "  <tbody>\n",
              "    <tr>\n",
              "      <th>0</th>\n",
              "      <td>2012.916667</td>\n",
              "      <td>32.0</td>\n",
              "      <td>84.87882</td>\n",
              "      <td>10</td>\n",
              "      <td>24.98298</td>\n",
              "      <td>121.54024</td>\n",
              "      <td>1</td>\n",
              "      <td>575</td>\n",
              "      <td>37.9</td>\n",
              "    </tr>\n",
              "    <tr>\n",
              "      <th>1</th>\n",
              "      <td>2012.916667</td>\n",
              "      <td>19.5</td>\n",
              "      <td>306.59470</td>\n",
              "      <td>9</td>\n",
              "      <td>24.98034</td>\n",
              "      <td>121.53951</td>\n",
              "      <td>2</td>\n",
              "      <td>1240</td>\n",
              "      <td>42.2</td>\n",
              "    </tr>\n",
              "    <tr>\n",
              "      <th>2</th>\n",
              "      <td>2013.583333</td>\n",
              "      <td>13.3</td>\n",
              "      <td>561.98450</td>\n",
              "      <td>5</td>\n",
              "      <td>24.98746</td>\n",
              "      <td>121.54391</td>\n",
              "      <td>3</td>\n",
              "      <td>1060</td>\n",
              "      <td>47.3</td>\n",
              "    </tr>\n",
              "    <tr>\n",
              "      <th>3</th>\n",
              "      <td>2013.500000</td>\n",
              "      <td>13.3</td>\n",
              "      <td>561.98450</td>\n",
              "      <td>5</td>\n",
              "      <td>24.98746</td>\n",
              "      <td>121.54391</td>\n",
              "      <td>2</td>\n",
              "      <td>875</td>\n",
              "      <td>54.8</td>\n",
              "    </tr>\n",
              "    <tr>\n",
              "      <th>4</th>\n",
              "      <td>2012.833333</td>\n",
              "      <td>5.0</td>\n",
              "      <td>390.56840</td>\n",
              "      <td>5</td>\n",
              "      <td>24.97937</td>\n",
              "      <td>121.54245</td>\n",
              "      <td>1</td>\n",
              "      <td>491</td>\n",
              "      <td>43.1</td>\n",
              "    </tr>\n",
              "  </tbody>\n",
              "</table>\n",
              "</div>\n",
              "      <button class=\"colab-df-convert\" onclick=\"convertToInteractive('df-146f9c09-6ec5-4f37-a0e7-e581b59fd0ec')\"\n",
              "              title=\"Convert this dataframe to an interactive table.\"\n",
              "              style=\"display:none;\">\n",
              "        \n",
              "  <svg xmlns=\"http://www.w3.org/2000/svg\" height=\"24px\"viewBox=\"0 0 24 24\"\n",
              "       width=\"24px\">\n",
              "    <path d=\"M0 0h24v24H0V0z\" fill=\"none\"/>\n",
              "    <path d=\"M18.56 5.44l.94 2.06.94-2.06 2.06-.94-2.06-.94-.94-2.06-.94 2.06-2.06.94zm-11 1L8.5 8.5l.94-2.06 2.06-.94-2.06-.94L8.5 2.5l-.94 2.06-2.06.94zm10 10l.94 2.06.94-2.06 2.06-.94-2.06-.94-.94-2.06-.94 2.06-2.06.94z\"/><path d=\"M17.41 7.96l-1.37-1.37c-.4-.4-.92-.59-1.43-.59-.52 0-1.04.2-1.43.59L10.3 9.45l-7.72 7.72c-.78.78-.78 2.05 0 2.83L4 21.41c.39.39.9.59 1.41.59.51 0 1.02-.2 1.41-.59l7.78-7.78 2.81-2.81c.8-.78.8-2.07 0-2.86zM5.41 20L4 18.59l7.72-7.72 1.47 1.35L5.41 20z\"/>\n",
              "  </svg>\n",
              "      </button>\n",
              "      \n",
              "  <style>\n",
              "    .colab-df-container {\n",
              "      display:flex;\n",
              "      flex-wrap:wrap;\n",
              "      gap: 12px;\n",
              "    }\n",
              "\n",
              "    .colab-df-convert {\n",
              "      background-color: #E8F0FE;\n",
              "      border: none;\n",
              "      border-radius: 50%;\n",
              "      cursor: pointer;\n",
              "      display: none;\n",
              "      fill: #1967D2;\n",
              "      height: 32px;\n",
              "      padding: 0 0 0 0;\n",
              "      width: 32px;\n",
              "    }\n",
              "\n",
              "    .colab-df-convert:hover {\n",
              "      background-color: #E2EBFA;\n",
              "      box-shadow: 0px 1px 2px rgba(60, 64, 67, 0.3), 0px 1px 3px 1px rgba(60, 64, 67, 0.15);\n",
              "      fill: #174EA6;\n",
              "    }\n",
              "\n",
              "    [theme=dark] .colab-df-convert {\n",
              "      background-color: #3B4455;\n",
              "      fill: #D2E3FC;\n",
              "    }\n",
              "\n",
              "    [theme=dark] .colab-df-convert:hover {\n",
              "      background-color: #434B5C;\n",
              "      box-shadow: 0px 1px 3px 1px rgba(0, 0, 0, 0.15);\n",
              "      filter: drop-shadow(0px 1px 2px rgba(0, 0, 0, 0.3));\n",
              "      fill: #FFFFFF;\n",
              "    }\n",
              "  </style>\n",
              "\n",
              "      <script>\n",
              "        const buttonEl =\n",
              "          document.querySelector('#df-146f9c09-6ec5-4f37-a0e7-e581b59fd0ec button.colab-df-convert');\n",
              "        buttonEl.style.display =\n",
              "          google.colab.kernel.accessAllowed ? 'block' : 'none';\n",
              "\n",
              "        async function convertToInteractive(key) {\n",
              "          const element = document.querySelector('#df-146f9c09-6ec5-4f37-a0e7-e581b59fd0ec');\n",
              "          const dataTable =\n",
              "            await google.colab.kernel.invokeFunction('convertToInteractive',\n",
              "                                                     [key], {});\n",
              "          if (!dataTable) return;\n",
              "\n",
              "          const docLinkHtml = 'Like what you see? Visit the ' +\n",
              "            '<a target=\"_blank\" href=https://colab.research.google.com/notebooks/data_table.ipynb>data table notebook</a>'\n",
              "            + ' to learn more about interactive tables.';\n",
              "          element.innerHTML = '';\n",
              "          dataTable['output_type'] = 'display_data';\n",
              "          await google.colab.output.renderOutput(dataTable, element);\n",
              "          const docLink = document.createElement('div');\n",
              "          docLink.innerHTML = docLinkHtml;\n",
              "          element.appendChild(docLink);\n",
              "        }\n",
              "      </script>\n",
              "    </div>\n",
              "  </div>\n",
              "  "
            ]
          },
          "metadata": {},
          "execution_count": 62
        }
      ]
    },
    {
      "cell_type": "code",
      "source": [
        "#columns returns the label of each column in the DataFrame\n",
        "df.columns"
      ],
      "metadata": {
        "colab": {
          "base_uri": "https://localhost:8080/"
        },
        "id": "Pz4t6U0Rxoby",
        "outputId": "f0d92901-09a2-4b55-d7d3-853cb598bdaa"
      },
      "execution_count": 63,
      "outputs": [
        {
          "output_type": "execute_result",
          "data": {
            "text/plain": [
              "Index(['Transaction date', 'House Age',\n",
              "       'Distance from nearest Metro station (km)',\n",
              "       'Number of convenience stores', 'latitude', 'longitude',\n",
              "       'Number of bedrooms', 'House size (sqft)', 'House price of unit area'],\n",
              "      dtype='object')"
            ]
          },
          "metadata": {},
          "execution_count": 63
        }
      ]
    },
    {
      "cell_type": "code",
      "source": [
        "#info prints information about the DataFrame\n",
        "df.info()"
      ],
      "metadata": {
        "colab": {
          "base_uri": "https://localhost:8080/"
        },
        "id": "je3mNucRyCls",
        "outputId": "497d1cea-3651-4856-89d6-919cc04eb3ed"
      },
      "execution_count": 64,
      "outputs": [
        {
          "output_type": "stream",
          "name": "stdout",
          "text": [
            "<class 'pandas.core.frame.DataFrame'>\n",
            "RangeIndex: 414 entries, 0 to 413\n",
            "Data columns (total 9 columns):\n",
            " #   Column                                    Non-Null Count  Dtype  \n",
            "---  ------                                    --------------  -----  \n",
            " 0   Transaction date                          414 non-null    float64\n",
            " 1   House Age                                 414 non-null    float64\n",
            " 2   Distance from nearest Metro station (km)  414 non-null    float64\n",
            " 3   Number of convenience stores              414 non-null    int64  \n",
            " 4   latitude                                  414 non-null    float64\n",
            " 5   longitude                                 414 non-null    float64\n",
            " 6   Number of bedrooms                        414 non-null    int64  \n",
            " 7   House size (sqft)                         414 non-null    int64  \n",
            " 8   House price of unit area                  414 non-null    float64\n",
            "dtypes: float64(6), int64(3)\n",
            "memory usage: 29.2 KB\n"
          ]
        }
      ]
    },
    {
      "cell_type": "code",
      "source": [
        "#df. isna(). sum() returns the number of missing values in each column\n",
        "df.isna().sum()"
      ],
      "metadata": {
        "colab": {
          "base_uri": "https://localhost:8080/"
        },
        "id": "XyvHnmo3yLQm",
        "outputId": "ed7a89ce-6e71-4266-d406-ea550004c78f"
      },
      "execution_count": 65,
      "outputs": [
        {
          "output_type": "execute_result",
          "data": {
            "text/plain": [
              "Transaction date                            0\n",
              "House Age                                   0\n",
              "Distance from nearest Metro station (km)    0\n",
              "Number of convenience stores                0\n",
              "latitude                                    0\n",
              "longitude                                   0\n",
              "Number of bedrooms                          0\n",
              "House size (sqft)                           0\n",
              "House price of unit area                    0\n",
              "dtype: int64"
            ]
          },
          "metadata": {},
          "execution_count": 65
        }
      ]
    },
    {
      "cell_type": "markdown",
      "source": [
        "## **Let's see the data in histogram**"
      ],
      "metadata": {
        "id": "eyM13hwlqnx-"
      }
    },
    {
      "cell_type": "code",
      "source": [
        "# displot is to represent data in histogram form\n",
        "sns.displot(data= df, x='House price of unit area' , bins=25 , kde=True, height=6)\n",
        "plt.title(\"Distribution of House Price per Unit Area\")"
      ],
      "metadata": {
        "colab": {
          "base_uri": "https://localhost:8080/",
          "height": 474
        },
        "id": "bipkrpqPyWJ4",
        "outputId": "7e44fffb-1351-47b1-a4f3-537970dcd6f4"
      },
      "execution_count": 66,
      "outputs": [
        {
          "output_type": "execute_result",
          "data": {
            "text/plain": [
              "Text(0.5, 1.0, 'Distribution of House Price per Unit Area')"
            ]
          },
          "metadata": {},
          "execution_count": 66
        },
        {
          "output_type": "display_data",
          "data": {
            "text/plain": [
              "<Figure size 432x432 with 1 Axes>"
            ],
            "image/png": "[encoded data removed]"
          },
          "metadata": {
            "needs_background": "light"
          }
        }
      ]
    },
    {
      "cell_type": "code",
      "source": [
        "sns.displot(data= df, x='Transaction date' , bins=25 , kde=True, height=6)\n",
        "plt.title(\"Distribution Transaction date\")"
      ],
      "metadata": {
        "colab": {
          "base_uri": "https://localhost:8080/",
          "height": 474
        },
        "id": "QoW2DDIgyctC",
        "outputId": "ea6b9aa2-06b5-41de-e134-12268eb94e81"
      },
      "execution_count": 67,
      "outputs": [
        {
          "output_type": "execute_result",
          "data": {
            "text/plain": [
              "Text(0.5, 1.0, 'Distribution Transaction date')"
            ]
          },
          "metadata": {},
          "execution_count": 67
        },
        {
          "output_type": "display_data",
          "data": {
            "text/plain": [
              "<Figure size 432x432 with 1 Axes>"
            ],
            "image/png": "[encoded data removed]"
          },
          "metadata": {
            "needs_background": "light"
          }
        }
      ]
    },
    {
      "cell_type": "code",
      "source": [
        "sns.displot(data= df, x='House Age' , bins=25 , kde=True, height=6)\n",
        "plt.title(\"Distribution of House Age\")"
      ],
      "metadata": {
        "colab": {
          "base_uri": "https://localhost:8080/",
          "height": 474
        },
        "id": "18PuE-uOzZuD",
        "outputId": "6e6e85dc-f814-4c23-f3e6-418c764f664a"
      },
      "execution_count": 68,
      "outputs": [
        {
          "output_type": "execute_result",
          "data": {
            "text/plain": [
              "Text(0.5, 1.0, 'Distribution of House Age')"
            ]
          },
          "metadata": {},
          "execution_count": 68
        },
        {
          "output_type": "display_data",
          "data": {
            "text/plain": [
              "<Figure size 432x432 with 1 Axes>"
            ],
            "image/png": "[encoded data removed]"
          },
          "metadata": {
            "needs_background": "light"
          }
        }
      ]
    },
    {
      "cell_type": "code",
      "source": [
        "sns.displot(data= df, x='Distance from nearest Metro station (km)' , bins=25 , kde=True, height=6)\n",
        "plt.title(\"Distribution of Distance from nearest Metro station (km)\")"
      ],
      "metadata": {
        "colab": {
          "base_uri": "https://localhost:8080/",
          "height": 474
        },
        "id": "qMDzJ2bSzl7g",
        "outputId": "f01ae6a7-23f4-411a-a1f7-40cb40fa3780"
      },
      "execution_count": 69,
      "outputs": [
        {
          "output_type": "execute_result",
          "data": {
            "text/plain": [
              "Text(0.5, 1.0, 'Distribution of Distance from nearest Metro station (km)')"
            ]
          },
          "metadata": {},
          "execution_count": 69
        },
        {
          "output_type": "display_data",
          "data": {
            "text/plain": [
              "<Figure size 432x432 with 1 Axes>"
            ],
            "image/png": "[encoded data removed]"
          },
          "metadata": {
            "needs_background": "light"
          }
        }
      ]
    },
    {
      "cell_type": "code",
      "source": [
        "sns.displot(data= df, x='Number of convenience stores' , bins=25 , kde=True, height=6)\n",
        "plt.title(\"Distribution of Number of convenience stores\")"
      ],
      "metadata": {
        "colab": {
          "base_uri": "https://localhost:8080/",
          "height": 472
        },
        "id": "MQtZZ8bDz3H2",
        "outputId": "e55d6510-a3d6-410c-bdb1-e5c9345ab6a0"
      },
      "execution_count": 70,
      "outputs": [
        {
          "output_type": "execute_result",
          "data": {
            "text/plain": [
              "Text(0.5, 1.0, 'Distribution of Number of convenience stores')"
            ]
          },
          "metadata": {},
          "execution_count": 70
        },
        {
          "output_type": "display_data",
          "data": {
            "text/plain": [
              "<Figure size 432x432 with 1 Axes>"
            ],
            "image/png": "[encoded data removed]"
          },
          "metadata": {
            "needs_background": "light"
          }
        }
      ]
    },
    {
      "cell_type": "code",
      "source": [
        "sns.displot(data= df, x='latitude' , bins=25 , kde=True, height=6)\n",
        "plt.title(\"Distribution of latitude\")"
      ],
      "metadata": {
        "colab": {
          "base_uri": "https://localhost:8080/",
          "height": 474
        },
        "id": "aLrcDozH0V8G",
        "outputId": "8eba86f1-ca6d-4274-ceb6-644a4aa2c2e5"
      },
      "execution_count": 71,
      "outputs": [
        {
          "output_type": "execute_result",
          "data": {
            "text/plain": [
              "Text(0.5, 1.0, 'Distribution of latitude')"
            ]
          },
          "metadata": {},
          "execution_count": 71
        },
        {
          "output_type": "display_data",
          "data": {
            "text/plain": [
              "<Figure size 432x432 with 1 Axes>"
            ],
            "image/png": "[encoded data removed]"
          },
          "metadata": {
            "needs_background": "light"
          }
        }
      ]
    },
    {
      "cell_type": "code",
      "source": [
        "sns.displot(data= df, x='longitude' , bins=25 , kde=True, height=6)\n",
        "plt.title(\"Distribution of longitude\")"
      ],
      "metadata": {
        "colab": {
          "base_uri": "https://localhost:8080/",
          "height": 474
        },
        "id": "x0n_bCZU0j5m",
        "outputId": "21a97a63-87ee-47dd-fa75-b5cf46b4aeb7"
      },
      "execution_count": 72,
      "outputs": [
        {
          "output_type": "execute_result",
          "data": {
            "text/plain": [
              "Text(0.5, 1.0, 'Distribution of longitude')"
            ]
          },
          "metadata": {},
          "execution_count": 72
        },
        {
          "output_type": "display_data",
          "data": {
            "text/plain": [
              "<Figure size 432x432 with 1 Axes>"
            ],
            "image/png": "[encoded data removed]"
          },
          "metadata": {
            "needs_background": "light"
          }
        }
      ]
    },
    {
      "cell_type": "markdown",
      "source": [
        "# **Creating the map **\n"
      ],
      "metadata": {
        "id": "Z15Hb_Pvq6As"
      }
    },
    {
      "cell_type": "code",
      "source": [
        "#Importing libraries to plot the data on map\n",
        "import folium\n",
        "from folium import Choropleth, Circle, Marker\n",
        "from folium.plugins import HeatMap, MarkerCluster"
      ],
      "metadata": {
        "id": "QkI8NnRA0urb"
      },
      "execution_count": 73,
      "outputs": []
    },
    {
      "cell_type": "code",
      "source": [
        "# Create a map\n",
        "city= folium.Map(location=[24.98, 121.52], tiles='Stamen Toner', zoom_start=12)\n",
        "city"
      ],
      "metadata": {
        "colab": {
          "base_uri": "https://localhost:8080/",
          "height": 681
        },
        "id": "QqbWGskm0xyp",
        "outputId": "fe98f2a4-3696-43f3-f06b-7579e5bd6e5d"
      },
      "execution_count": 74,
      "outputs": [
        {
          "output_type": "execute_result",
          "data": {
            "text/plain": [
              "<folium.folium.Map at 0x7f8a2fb21e80>"
            ],
            "text/html": [
              "<div style=\"width:100%;\"><div style=\"position:relative;width:100%;height:0;padding-bottom:60%;\"><span style=\"color:#565656\">Make this Notebook Trusted to load map: File -> Trust Notebook</span><iframe srcdoc=\"&lt;!DOCTYPE html&gt;\n",
              "&lt;html&gt;\n",
              "&lt;head&gt;\n",
              "    \n",
              "    &lt;meta http-equiv=&quot;content-type&quot; content=&quot;text/html; charset=UTF-8&quot; /&gt;\n",
              "    \n",
              "        &lt;script&gt;\n",
              "            L_NO_TOUCH = false;\n",
              "            L_DISABLE_3D = false;\n",
              "        &lt;/script&gt;\n",
              "    \n",
              "    &lt;style&gt;html, body {width: 100%;height: 100%;margin: 0;padding: 0;}&lt;/style&gt;\n",
              "    &lt;style&gt;#map {position:absolute;top:0;bottom:0;right:0;left:0;}&lt;/style&gt;\n",
              "    &lt;script src=&quot;https://cdn.jsdelivr.net/npm/leaflet@1.6.0/dist/leaflet.js&quot;&gt;&lt;/script&gt;\n",
              "    &lt;script src=&quot;https://code.jquery.com/jquery-1.12.4.min.js&quot;&gt;&lt;/script&gt;\n",
              "    &lt;script src=&quot;https://maxcdn.bootstrapcdn.com/bootstrap/3.2.0/js/bootstrap.min.js&quot;&gt;&lt;/script&gt;\n",
              "    &lt;script src=&quot;https://cdnjs.cloudflare.com/ajax/libs/Leaflet.awesome-markers/2.0.2/leaflet.awesome-markers.js&quot;&gt;&lt;/script&gt;\n",
              "    &lt;link rel=&quot;stylesheet&quot; href=&quot;https://cdn.jsdelivr.net/npm/leaflet@1.6.0/dist/leaflet.css&quot;/&gt;\n",
              "    &lt;link rel=&quot;stylesheet&quot; href=&quot;https://maxcdn.bootstrapcdn.com/bootstrap/3.2.0/css/bootstrap.min.css&quot;/&gt;\n",
              "    &lt;link rel=&quot;stylesheet&quot; href=&quot;https://maxcdn.bootstrapcdn.com/bootstrap/3.2.0/css/bootstrap-theme.min.css&quot;/&gt;\n",
              "    &lt;link rel=&quot;stylesheet&quot; href=&quot;https://maxcdn.bootstrapcdn.com/font-awesome/4.6.3/css/font-awesome.min.css&quot;/&gt;\n",
              "    &lt;link rel=&quot;stylesheet&quot; href=&quot;https://cdnjs.cloudflare.com/ajax/libs/Leaflet.awesome-markers/2.0.2/leaflet.awesome-markers.css&quot;/&gt;\n",
              "    &lt;link rel=&quot;stylesheet&quot; href=&quot;https://cdn.jsdelivr.net/gh/python-visualization/folium/folium/templates/leaflet.awesome.rotate.min.css&quot;/&gt;\n",
              "    \n",
              "            &lt;meta name=&quot;viewport&quot; content=&quot;width=device-width,\n",
              "                initial-scale=1.0, maximum-scale=1.0, user-scalable=no&quot; /&gt;\n",
              "            &lt;style&gt;\n",
              "                #map_812cb4e538371487227b1b2221422d43 {\n",
              "                    position: relative;\n",
              "                    width: 100.0%;\n",
              "                    height: 100.0%;\n",
              "                    left: 0.0%;\n",
              "                    top: 0.0%;\n",
              "                }\n",
              "            &lt;/style&gt;\n",
              "        \n",
              "&lt;/head&gt;\n",
              "&lt;body&gt;\n",
              "    \n",
              "    \n",
              "            &lt;div class=&quot;folium-map&quot; id=&quot;map_812cb4e538371487227b1b2221422d43&quot; &gt;&lt;/div&gt;\n",
              "        \n",
              "&lt;/body&gt;\n",
              "&lt;script&gt;\n",
              "    \n",
              "    \n",
              "            var map_812cb4e538371487227b1b2221422d43 = L.map(\n",
              "                &quot;map_812cb4e538371487227b1b2221422d43&quot;,\n",
              "                {\n",
              "                    center: [24.98, 121.52],\n",
              "                    crs: L.CRS.EPSG3857,\n",
              "                    zoom: 12,\n",
              "                    zoomControl: true,\n",
              "                    preferCanvas: false,\n",
              "                }\n",
              "            );\n",
              "\n",
              "            \n",
              "\n",
              "        \n",
              "    \n",
              "            var tile_layer_4d78403c2015aa7b1cec0d7f83d4b501 = L.tileLayer(\n",
              "                &quot;https://stamen-tiles-{s}.a.ssl.fastly.net/toner/{z}/{x}/{y}.png&quot;,\n",
              "                {&quot;attribution&quot;: &quot;Map tiles by \\u003ca href=\\&quot;http://stamen.com\\&quot;\\u003eStamen Design\\u003c/a\\u003e, under \\u003ca href=\\&quot;http://creativecommons.org/licenses/by/3.0\\&quot;\\u003eCC BY 3.0\\u003c/a\\u003e. Data by \\u0026copy; \\u003ca href=\\&quot;http://openstreetmap.org\\&quot;\\u003eOpenStreetMap\\u003c/a\\u003e, under \\u003ca href=\\&quot;http://www.openstreetmap.org/copyright\\&quot;\\u003eODbL\\u003c/a\\u003e.&quot;, &quot;detectRetina&quot;: false, &quot;maxNativeZoom&quot;: 18, &quot;maxZoom&quot;: 18, &quot;minZoom&quot;: 0, &quot;noWrap&quot;: false, &quot;opacity&quot;: 1, &quot;subdomains&quot;: &quot;abc&quot;, &quot;tms&quot;: false}\n",
              "            ).addTo(map_812cb4e538371487227b1b2221422d43);\n",
              "        \n",
              "&lt;/script&gt;\n",
              "&lt;/html&gt;\" style=\"position:absolute;width:100%;height:100%;left:0;top:0;border:none !important;\" allowfullscreen webkitallowfullscreen mozallowfullscreen></iframe></div></div>"
            ]
          },
          "metadata": {},
          "execution_count": 74
        }
      ]
    },
    {
      "cell_type": "code",
      "source": [
        "for i in range (0,len(df)):\n",
        "    lat=df[\"latitude\"][i]\n",
        "    long=df[\"longitude\"][i]\n",
        "    folium.Marker(\n",
        "    [lat, long], ).add_to(city)"
      ],
      "metadata": {
        "id": "iFImCFUa03QP"
      },
      "execution_count": 75,
      "outputs": []
    },
    {
      "cell_type": "code",
      "source": [
        "city"
      ],
      "metadata": {
        "colab": {
          "base_uri": "https://localhost:8080/",
          "height": 681
        },
        "id": "GDUrCwjq0-U_",
        "outputId": "5c55cc22-3956-4bc0-be5d-726725a7509b"
      },
      "execution_count": 76,
      "outputs": [
        {
          "output_type": "execute_result",
          "data": {
            "text/plain": [
              "<folium.folium.Map at 0x7f8a2fb21e80>"
            ],
            "text/html": [
              "<div style=\"width:100%;\"><div style=\"position:relative;width:100%;height:0;padding-bottom:60%;\"><span style=\"color:#565656\">Make this Notebook Trusted to load map: File -> Trust Notebook</span><iframe srcdoc=\"&lt;!DOCTYPE html&gt;\n",
              "&lt;html&gt;\n",
              "&lt;head&gt;\n",
              "    \n",
              "    &lt;meta http-equiv=&quot;content-type&quot; content=&quot;text/html; charset=UTF-8&quot; /&gt;\n",
              "    \n",
              "        &lt;script&gt;\n",
              "            L_NO_TOUCH = false;\n",
              "            L_DISABLE_3D = false;\n",
              "        &lt;/script&gt;\n",
              "    \n",
              "    &lt;style&gt;html, body {width: 100%;height: 100%;margin: 0;padding: 0;}&lt;/style&gt;\n",
              "    &lt;style&gt;#map {position:absolute;top:0;bottom:0;right:0;left:0;}&lt;/style&gt;\n",
              "    &lt;script src=&quot;https://cdn.jsdelivr.net/npm/leaflet@1.6.0/dist/leaflet.js&quot;&gt;&lt;/script&gt;\n",
              "    &lt;script src=&quot;https://code.jquery.com/jquery-1.12.4.min.js&quot;&gt;&lt;/script&gt;\n",
              "    &lt;script src=&quot;https://maxcdn.bootstrapcdn.com/bootstrap/3.2.0/js/bootstrap.min.js&quot;&gt;&lt;/script&gt;\n",
              "    &lt;script src=&quot;https://cdnjs.cloudflare.com/ajax/libs/Leaflet.awesome-markers/2.0.2/leaflet.awesome-markers.js&quot;&gt;&lt;/script&gt;\n",
              "    &lt;link rel=&quot;stylesheet&quot; href=&quot;https://cdn.jsdelivr.net/npm/leaflet@1.6.0/dist/leaflet.css&quot;/&gt;\n",
              "    &lt;link rel=&quot;stylesheet&quot; href=&quot;https://maxcdn.bootstrapcdn.com/bootstrap/3.2.0/css/bootstrap.min.css&quot;/&gt;\n",
              "    &lt;link rel=&quot;stylesheet&quot; href=&quot;https://maxcdn.bootstrapcdn.com/bootstrap/3.2.0/css/bootstrap-theme.min.css&quot;/&gt;\n",
              "    &lt;link rel=&quot;stylesheet&quot; href=&quot;https://maxcdn.bootstrapcdn.com/font-awesome/4.6.3/css/font-awesome.min.css&quot;/&gt;\n",
              "    &lt;link rel=&quot;stylesheet&quot; href=&quot;https://cdnjs.cloudflare.com/ajax/libs/Leaflet.awesome-markers/2.0.2/leaflet.awesome-markers.css&quot;/&gt;\n",
              "    &lt;link rel=&quot;stylesheet&quot; href=&quot;https://cdn.jsdelivr.net/gh/python-visualization/folium/folium/templates/leaflet.awesome.rotate.min.css&quot;/&gt;\n",
              "    \n",
              "            &lt;meta name=&quot;viewport&quot; content=&quot;width=device-width,\n",
              "                initial-scale=1.0, maximum-scale=1.0, user-scalable=no&quot; /&gt;\n",
              "            &lt;style&gt;\n",
              "                #map_812cb4e538371487227b1b2221422d43 {\n",
              "                    position: relative;\n",
              "                    width: 100.0%;\n",
              "                    height: 100.0%;\n",
              "                    left: 0.0%;\n",
              "                    top: 0.0%;\n",
              "                }\n",
              "            &lt;/style&gt;\n",
              "        \n",
              "&lt;/head&gt;\n",
              "&lt;body&gt;\n",
              "    \n",
              "    \n",
              "            &lt;div class=&quot;folium-map&quot; id=&quot;map_812cb4e538371487227b1b2221422d43&quot; &gt;&lt;/div&gt;\n",
              "        \n",
              "&lt;/body&gt;\n",
              "&lt;script&gt;\n",
              "    \n",
              "    \n",
              "            var map_812cb4e538371487227b1b2221422d43 = L.map(\n",
              "                &quot;map_812cb4e538371487227b1b2221422d43&quot;,\n",
              "                {\n",
              "                    center: [24.98, 121.52],\n",
              "                    crs: L.CRS.EPSG3857,\n",
              "                    zoom: 12,\n",
              "                    zoomControl: true,\n",
              "                    preferCanvas: false,\n",
              "                }\n",
              "            );\n",
              "\n",
              "            \n",
              "\n",
              "        \n",
              "    \n",
              "            var tile_layer_4d78403c2015aa7b1cec0d7f83d4b501 = L.tileLayer(\n",
              "                &quot;https://stamen-tiles-{s}.a.ssl.fastly.net/toner/{z}/{x}/{y}.png&quot;,\n",
              "                {&quot;attribution&quot;: &quot;Map tiles by \\u003ca href=\\&quot;http://stamen.com\\&quot;\\u003eStamen Design\\u003c/a\\u003e, under \\u003ca href=\\&quot;http://creativecommons.org/licenses/by/3.0\\&quot;\\u003eCC BY 3.0\\u003c/a\\u003e. Data by \\u0026copy; \\u003ca href=\\&quot;http://openstreetmap.org\\&quot;\\u003eOpenStreetMap\\u003c/a\\u003e, under \\u003ca href=\\&quot;http://www.openstreetmap.org/copyright\\&quot;\\u003eODbL\\u003c/a\\u003e.&quot;, &quot;detectRetina&quot;: false, &quot;maxNativeZoom&quot;: 18, &quot;maxZoom&quot;: 18, &quot;minZoom&quot;: 0, &quot;noWrap&quot;: false, &quot;opacity&quot;: 1, &quot;subdomains&quot;: &quot;abc&quot;, &quot;tms&quot;: false}\n",
              "            ).addTo(map_812cb4e538371487227b1b2221422d43);\n",
              "        \n",
              "    \n",
              "            var marker_a3561962f3bbd2a635346d7ece21bdc4 = L.marker(\n",
              "                [24.98298, 121.54024],\n",
              "                {}\n",
              "            ).addTo(map_812cb4e538371487227b1b2221422d43);\n",
              "        \n",
              "    \n",
              "            var marker_4d9305d20773bc5b96f37d0876113d7d = L.marker(\n",
              "                [24.98034, 121.53951],\n",
              "                {}\n",
              "            ).addTo(map_812cb4e538371487227b1b2221422d43);\n",
              "        \n",
              "    \n",
              "            var marker_66833ddf153972d927ad9c819e08b906 = L.marker(\n",
              "                [24.98746, 121.54391],\n",
              "                {}\n",
              "            ).addTo(map_812cb4e538371487227b1b2221422d43);\n",
              "        \n",
              "    \n",
              "            var marker_091aff0ac929b544d0713daf77483c0c = L.marker(\n",
              "                [24.98746, 121.54391],\n",
              "                {}\n",
              "            ).addTo(map_812cb4e538371487227b1b2221422d43);\n",
              "        \n",
              "    \n",
              "            var marker_d48767af77d488785fd36735dc57937c = L.marker(\n",
              "                [24.97937, 121.54245],\n",
              "                {}\n",
              "            ).addTo(map_812cb4e538371487227b1b2221422d43);\n",
              "        \n",
              "    \n",
              "            var marker_9b45bd5c186f9f5525b17122182a3300 = L.marker(\n",
              "                [24.96305, 121.51254],\n",
              "                {}\n",
              "            ).addTo(map_812cb4e538371487227b1b2221422d43);\n",
              "        \n",
              "    \n",
              "            var marker_bb23b928475fa3885017391113451097 = L.marker(\n",
              "                [24.97933, 121.53642],\n",
              "                {}\n",
              "            ).addTo(map_812cb4e538371487227b1b2221422d43);\n",
              "        \n",
              "    \n",
              "            var marker_8d6aa6012fb7ea2c87186bdbbaf7643b = L.marker(\n",
              "                [24.98042, 121.54228],\n",
              "                {}\n",
              "            ).addTo(map_812cb4e538371487227b1b2221422d43);\n",
              "        \n",
              "    \n",
              "            var marker_14834ccc47ce43f1a36f708ba397a326 = L.marker(\n",
              "                [24.95095, 121.48458],\n",
              "                {}\n",
              "            ).addTo(map_812cb4e538371487227b1b2221422d43);\n",
              "        \n",
              "    \n",
              "            var marker_00ee0e18b8f9c62268e92f33793e7762 = L.marker(\n",
              "                [24.96731, 121.51486],\n",
              "                {}\n",
              "            ).addTo(map_812cb4e538371487227b1b2221422d43);\n",
              "        \n",
              "    \n",
              "            var marker_2c9c656b5575fe607d841d2748972246 = L.marker(\n",
              "                [24.97349, 121.53372],\n",
              "                {}\n",
              "            ).addTo(map_812cb4e538371487227b1b2221422d43);\n",
              "        \n",
              "    \n",
              "            var marker_09d3e164adc2aed9d23aa14511f5fafc = L.marker(\n",
              "                [24.97433, 121.5431],\n",
              "                {}\n",
              "            ).addTo(map_812cb4e538371487227b1b2221422d43);\n",
              "        \n",
              "    \n",
              "            var marker_b778cbe5d04571ef8575aa10a2b8f825 = L.marker(\n",
              "                [24.96515, 121.53737],\n",
              "                {}\n",
              "            ).addTo(map_812cb4e538371487227b1b2221422d43);\n",
              "        \n",
              "    \n",
              "            var marker_f4d3b37971345d337c375379f0b54a66 = L.marker(\n",
              "                [24.96108, 121.51046],\n",
              "                {}\n",
              "            ).addTo(map_812cb4e538371487227b1b2221422d43);\n",
              "        \n",
              "    \n",
              "            var marker_69af84833a4d6cf5c8c0c2cc36b1f181 = L.marker(\n",
              "                [24.99156, 121.53406],\n",
              "                {}\n",
              "            ).addTo(map_812cb4e538371487227b1b2221422d43);\n",
              "        \n",
              "    \n",
              "            var marker_0810876ebdce07b4ad1b45b426e3fa41 = L.marker(\n",
              "                [24.9824, 121.54619],\n",
              "                {}\n",
              "            ).addTo(map_812cb4e538371487227b1b2221422d43);\n",
              "        \n",
              "    \n",
              "            var marker_2243d1e5be4ebbc48e5909055dbc2e3e = L.marker(\n",
              "                [24.97744, 121.54458],\n",
              "                {}\n",
              "            ).addTo(map_812cb4e538371487227b1b2221422d43);\n",
              "        \n",
              "    \n",
              "            var marker_08fcd8c8296946919194e2c64548a3c5 = L.marker(\n",
              "                [24.97544, 121.53119],\n",
              "                {}\n",
              "            ).addTo(map_812cb4e538371487227b1b2221422d43);\n",
              "        \n",
              "    \n",
              "            var marker_2fd16b3ef9838c2c93e5d81c0e0f0a5a = L.marker(\n",
              "                [24.9675, 121.54451],\n",
              "                {}\n",
              "            ).addTo(map_812cb4e538371487227b1b2221422d43);\n",
              "        \n",
              "    \n",
              "            var marker_bfec62bcb37c7d3c12ea294f423d2d7f = L.marker(\n",
              "                [24.96772, 121.54102],\n",
              "                {}\n",
              "            ).addTo(map_812cb4e538371487227b1b2221422d43);\n",
              "        \n",
              "    \n",
              "            var marker_50bdc5cf6ee6fcf9ad16dc6bef05a0ac = L.marker(\n",
              "                [24.96314, 121.51151],\n",
              "                {}\n",
              "            ).addTo(map_812cb4e538371487227b1b2221422d43);\n",
              "        \n",
              "    \n",
              "            var marker_ab0cbdd178c922f78de63089d64499eb = L.marker(\n",
              "                [24.97528, 121.54541],\n",
              "                {}\n",
              "            ).addTo(map_812cb4e538371487227b1b2221422d43);\n",
              "        \n",
              "    \n",
              "            var marker_9d65670d6c0925d87c2831ad3286f27c = L.marker(\n",
              "                [24.95204, 121.54842],\n",
              "                {}\n",
              "            ).addTo(map_812cb4e538371487227b1b2221422d43);\n",
              "        \n",
              "    \n",
              "            var marker_a93e6f5416e9a837e60602f28229e79a = L.marker(\n",
              "                [24.97528, 121.54541],\n",
              "                {}\n",
              "            ).addTo(map_812cb4e538371487227b1b2221422d43);\n",
              "        \n",
              "    \n",
              "            var marker_f20ee2f5a6a75e408ffb23b7f56a2a72 = L.marker(\n",
              "                [24.97353, 121.53885],\n",
              "                {}\n",
              "            ).addTo(map_812cb4e538371487227b1b2221422d43);\n",
              "        \n",
              "    \n",
              "            var marker_a8d6bbcaae0378306386d3e06b374def = L.marker(\n",
              "                [24.97542, 121.51726],\n",
              "                {}\n",
              "            ).addTo(map_812cb4e538371487227b1b2221422d43);\n",
              "        \n",
              "    \n",
              "            var marker_68c0b06f473cb9277ceb766d6a3c4587 = L.marker(\n",
              "                [24.98085, 121.54391],\n",
              "                {}\n",
              "            ).addTo(map_812cb4e538371487227b1b2221422d43);\n",
              "        \n",
              "    \n",
              "            var marker_b79290c080973d4380f74df940773400 = L.marker(\n",
              "                [24.95593, 121.53913],\n",
              "                {}\n",
              "            ).addTo(map_812cb4e538371487227b1b2221422d43);\n",
              "        \n",
              "    \n",
              "            var marker_d9a4b61a5322282523c70d1e623f2694 = L.marker(\n",
              "                [24.97419, 121.53797],\n",
              "                {}\n",
              "            ).addTo(map_812cb4e538371487227b1b2221422d43);\n",
              "        \n",
              "    \n",
              "            var marker_c0cf53594c9c2130bbd71bc7abcb4b6b = L.marker(\n",
              "                [24.97563, 121.54694],\n",
              "                {}\n",
              "            ).addTo(map_812cb4e538371487227b1b2221422d43);\n",
              "        \n",
              "    \n",
              "            var marker_528156f3c97209cc59e58925031ab2aa = L.marker(\n",
              "                [24.94826, 121.49587],\n",
              "                {}\n",
              "            ).addTo(map_812cb4e538371487227b1b2221422d43);\n",
              "        \n",
              "    \n",
              "            var marker_fcc0380b1e6fb07ecb0dab427acb18d3 = L.marker(\n",
              "                [24.98281, 121.53408],\n",
              "                {}\n",
              "            ).addTo(map_812cb4e538371487227b1b2221422d43);\n",
              "        \n",
              "    \n",
              "            var marker_776dfb9f64454aa8d45939ddf24643d6 = L.marker(\n",
              "                [24.97349, 121.53451],\n",
              "                {}\n",
              "            ).addTo(map_812cb4e538371487227b1b2221422d43);\n",
              "        \n",
              "    \n",
              "            var marker_8c92e99b20bc6f701ede86ba8464f0f6 = L.marker(\n",
              "                [24.97841, 121.54281],\n",
              "                {}\n",
              "            ).addTo(map_812cb4e538371487227b1b2221422d43);\n",
              "        \n",
              "    \n",
              "            var marker_6d40b02af248c89069af1a5e29c992c0 = L.marker(\n",
              "                [24.98419, 121.54243],\n",
              "                {}\n",
              "            ).addTo(map_812cb4e538371487227b1b2221422d43);\n",
              "        \n",
              "    \n",
              "            var marker_6aa7140d1adf4c57a0f4c3cf685d5d87 = L.marker(\n",
              "                [25.01459, 121.51816],\n",
              "                {}\n",
              "            ).addTo(map_812cb4e538371487227b1b2221422d43);\n",
              "        \n",
              "    \n",
              "            var marker_e4ce354dd7cd55bf181a7798b4e04e98 = L.marker(\n",
              "                [24.96386, 121.51458],\n",
              "                {}\n",
              "            ).addTo(map_812cb4e538371487227b1b2221422d43);\n",
              "        \n",
              "    \n",
              "            var marker_7b31ea0dd4374ea85b135cae4d7ed450 = L.marker(\n",
              "                [24.95204, 121.54842],\n",
              "                {}\n",
              "            ).addTo(map_812cb4e538371487227b1b2221422d43);\n",
              "        \n",
              "    \n",
              "            var marker_17362ac82ce7daddc4030c418573acdd = L.marker(\n",
              "                [24.97201, 121.54722],\n",
              "                {}\n",
              "            ).addTo(map_812cb4e538371487227b1b2221422d43);\n",
              "        \n",
              "    \n",
              "            var marker_3104800514af50585cefc3094bdf2a83 = L.marker(\n",
              "                [24.98203, 121.54348],\n",
              "                {}\n",
              "            ).addTo(map_812cb4e538371487227b1b2221422d43);\n",
              "        \n",
              "    \n",
              "            var marker_5390c41119788fb96f14bd7fb186f825 = L.marker(\n",
              "                [24.94155, 121.50381],\n",
              "                {}\n",
              "            ).addTo(map_812cb4e538371487227b1b2221422d43);\n",
              "        \n",
              "    \n",
              "            var marker_6bfce013a0254eee48db8e16f25f7e59 = L.marker(\n",
              "                [24.94297, 121.50342],\n",
              "                {}\n",
              "            ).addTo(map_812cb4e538371487227b1b2221422d43);\n",
              "        \n",
              "    \n",
              "            var marker_ab3da0adc00ef0f2ac38cab7b555cbdf = L.marker(\n",
              "                [24.96305, 121.53758],\n",
              "                {}\n",
              "            ).addTo(map_812cb4e538371487227b1b2221422d43);\n",
              "        \n",
              "    \n",
              "            var marker_abbc1da23630ad249bc5f400f7812c2e = L.marker(\n",
              "                [24.98748, 121.54301],\n",
              "                {}\n",
              "            ).addTo(map_812cb4e538371487227b1b2221422d43);\n",
              "        \n",
              "    \n",
              "            var marker_9f0f7e09ea6b8d6542869505f3cb0b24 = L.marker(\n",
              "                [24.97445, 121.54765],\n",
              "                {}\n",
              "            ).addTo(map_812cb4e538371487227b1b2221422d43);\n",
              "        \n",
              "    \n",
              "            var marker_693b7f65d3efe144378ab6e601d4eed6 = L.marker(\n",
              "                [24.97015, 121.54494],\n",
              "                {}\n",
              "            ).addTo(map_812cb4e538371487227b1b2221422d43);\n",
              "        \n",
              "    \n",
              "            var marker_9665ed75dccf21b2b0e5d96848feadea = L.marker(\n",
              "                [24.9703, 121.54458],\n",
              "                {}\n",
              "            ).addTo(map_812cb4e538371487227b1b2221422d43);\n",
              "        \n",
              "    \n",
              "            var marker_b2190e49fe0527cbcd6cff2f14715ac1 = L.marker(\n",
              "                [24.97563, 121.53715],\n",
              "                {}\n",
              "            ).addTo(map_812cb4e538371487227b1b2221422d43);\n",
              "        \n",
              "    \n",
              "            var marker_934a4c73e8cbb4311f9ae50ec07ae53d = L.marker(\n",
              "                [24.94684, 121.49578],\n",
              "                {}\n",
              "            ).addTo(map_812cb4e538371487227b1b2221422d43);\n",
              "        \n",
              "    \n",
              "            var marker_21bf86d34b58db4fb5292ce34d9dabaf = L.marker(\n",
              "                [24.94925, 121.49542],\n",
              "                {}\n",
              "            ).addTo(map_812cb4e538371487227b1b2221422d43);\n",
              "        \n",
              "    \n",
              "            var marker_f4b4ac1ccd4d927c13382722b25b618b = L.marker(\n",
              "                [24.974, 121.53842],\n",
              "                {}\n",
              "            ).addTo(map_812cb4e538371487227b1b2221422d43);\n",
              "        \n",
              "    \n",
              "            var marker_6c4cdb48192f871178d32b9e2d4301c0 = L.marker(\n",
              "                [24.95402, 121.55282],\n",
              "                {}\n",
              "            ).addTo(map_812cb4e538371487227b1b2221422d43);\n",
              "        \n",
              "    \n",
              "            var marker_ccf7cfd74ec261466ca5bda893c40044 = L.marker(\n",
              "                [24.97419, 121.5175],\n",
              "                {}\n",
              "            ).addTo(map_812cb4e538371487227b1b2221422d43);\n",
              "        \n",
              "    \n",
              "            var marker_bd81a05e288bb7182d91c943b377d758 = L.marker(\n",
              "                [24.96515, 121.53737],\n",
              "                {}\n",
              "            ).addTo(map_812cb4e538371487227b1b2221422d43);\n",
              "        \n",
              "    \n",
              "            var marker_a59ad019e49241b846b2461d4061bbbf = L.marker(\n",
              "                [24.98203, 121.54348],\n",
              "                {}\n",
              "            ).addTo(map_812cb4e538371487227b1b2221422d43);\n",
              "        \n",
              "    \n",
              "            var marker_4ecc3efab33e26175880f5010e3a4b3e = L.marker(\n",
              "                [24.94968, 121.53009],\n",
              "                {}\n",
              "            ).addTo(map_812cb4e538371487227b1b2221422d43);\n",
              "        \n",
              "    \n",
              "            var marker_9246e54171b192b0f3c0bce530765f20 = L.marker(\n",
              "                [24.97254, 121.54059],\n",
              "                {}\n",
              "            ).addTo(map_812cb4e538371487227b1b2221422d43);\n",
              "        \n",
              "    \n",
              "            var marker_d48eec1874579c6c597d589a11aeac95 = L.marker(\n",
              "                [24.95744, 121.53711],\n",
              "                {}\n",
              "            ).addTo(map_812cb4e538371487227b1b2221422d43);\n",
              "        \n",
              "    \n",
              "            var marker_39b0774272eb25eed8c131585f95fa6b = L.marker(\n",
              "                [24.94925, 121.49542],\n",
              "                {}\n",
              "            ).addTo(map_812cb4e538371487227b1b2221422d43);\n",
              "        \n",
              "    \n",
              "            var marker_44ce6004349ee56653e1069c5fad8c59 = L.marker(\n",
              "                [24.95776, 121.53438],\n",
              "                {}\n",
              "            ).addTo(map_812cb4e538371487227b1b2221422d43);\n",
              "        \n",
              "    \n",
              "            var marker_202cfc7ee461701010fcfc607859ea57 = L.marker(\n",
              "                [24.96365, 121.51471],\n",
              "                {}\n",
              "            ).addTo(map_812cb4e538371487227b1b2221422d43);\n",
              "        \n",
              "    \n",
              "            var marker_8f0f1e0c54e4e66bf4d8d58e498efe67 = L.marker(\n",
              "                [24.97585, 121.54516],\n",
              "                {}\n",
              "            ).addTo(map_812cb4e538371487227b1b2221422d43);\n",
              "        \n",
              "    \n",
              "            var marker_331dd141d926c9519ef1b47cfb49429f = L.marker(\n",
              "                [24.96303, 121.51254],\n",
              "                {}\n",
              "            ).addTo(map_812cb4e538371487227b1b2221422d43);\n",
              "        \n",
              "    \n",
              "            var marker_ed18d46c1add0eee9d789e67c4154efb = L.marker(\n",
              "                [24.97445, 121.54765],\n",
              "                {}\n",
              "            ).addTo(map_812cb4e538371487227b1b2221422d43);\n",
              "        \n",
              "    \n",
              "            var marker_5ca6c11917e07c1ae8b22bd268412984 = L.marker(\n",
              "                [24.96305, 121.54915],\n",
              "                {}\n",
              "            ).addTo(map_812cb4e538371487227b1b2221422d43);\n",
              "        \n",
              "    \n",
              "            var marker_69a0ffbca411b5f49853e7ee141778c3 = L.marker(\n",
              "                [24.97635, 121.54329],\n",
              "                {}\n",
              "            ).addTo(map_812cb4e538371487227b1b2221422d43);\n",
              "        \n",
              "    \n",
              "            var marker_7807431ff1d12fb01a9dc889a53a80f1 = L.marker(\n",
              "                [24.96571, 121.54089],\n",
              "                {}\n",
              "            ).addTo(map_812cb4e538371487227b1b2221422d43);\n",
              "        \n",
              "    \n",
              "            var marker_34774b01f83ba0f0216ae7f1e17eefa0 = L.marker(\n",
              "                [24.96674, 121.54067],\n",
              "                {}\n",
              "            ).addTo(map_812cb4e538371487227b1b2221422d43);\n",
              "        \n",
              "    \n",
              "            var marker_e0addbf14d6b8d80a5148d9fdd8ecb56 = L.marker(\n",
              "                [24.97964, 121.53805],\n",
              "                {}\n",
              "            ).addTo(map_812cb4e538371487227b1b2221422d43);\n",
              "        \n",
              "    \n",
              "            var marker_3dfc9b637e0beeeee8310317210aea9a = L.marker(\n",
              "                [24.98746, 121.54391],\n",
              "                {}\n",
              "            ).addTo(map_812cb4e538371487227b1b2221422d43);\n",
              "        \n",
              "    \n",
              "            var marker_30efe22e9092073b16aa7f2ae8fc27d5 = L.marker(\n",
              "                [24.97433, 121.5431],\n",
              "                {}\n",
              "            ).addTo(map_812cb4e538371487227b1b2221422d43);\n",
              "        \n",
              "    \n",
              "            var marker_dde2bb17c13923fc472cc38b1163f8f2 = L.marker(\n",
              "                [24.97563, 121.53715],\n",
              "                {}\n",
              "            ).addTo(map_812cb4e538371487227b1b2221422d43);\n",
              "        \n",
              "    \n",
              "            var marker_af65988fc1692ae2466b3042193de214 = L.marker(\n",
              "                [24.97587, 121.53913],\n",
              "                {}\n",
              "            ).addTo(map_812cb4e538371487227b1b2221422d43);\n",
              "        \n",
              "    \n",
              "            var marker_8fffb504f32ca6c81d23195b94032e31 = L.marker(\n",
              "                [24.94155, 121.50381],\n",
              "                {}\n",
              "            ).addTo(map_812cb4e538371487227b1b2221422d43);\n",
              "        \n",
              "    \n",
              "            var marker_c53a3559bc8915a4318cddb87ec2559d = L.marker(\n",
              "                [24.98343, 121.53762],\n",
              "                {}\n",
              "            ).addTo(map_812cb4e538371487227b1b2221422d43);\n",
              "        \n",
              "    \n",
              "            var marker_9c6bb7ffa7995484f107c3939f97598d = L.marker(\n",
              "                [24.95204, 121.54842],\n",
              "                {}\n",
              "            ).addTo(map_812cb4e538371487227b1b2221422d43);\n",
              "        \n",
              "    \n",
              "            var marker_c2c0987799f533066c1079106279a2f7 = L.marker(\n",
              "                [24.97723, 121.53767],\n",
              "                {}\n",
              "            ).addTo(map_812cb4e538371487227b1b2221422d43);\n",
              "        \n",
              "    \n",
              "            var marker_a795267d06cde654e2eb4be0a8fdf0b5 = L.marker(\n",
              "                [24.96322, 121.51237],\n",
              "                {}\n",
              "            ).addTo(map_812cb4e538371487227b1b2221422d43);\n",
              "        \n",
              "    \n",
              "            var marker_7f0aa016519835012dae817b82c9c23c = L.marker(\n",
              "                [24.97598, 121.53381],\n",
              "                {}\n",
              "            ).addTo(map_812cb4e538371487227b1b2221422d43);\n",
              "        \n",
              "    \n",
              "            var marker_84a76b04acc633c803cfe2b7e78dd172 = L.marker(\n",
              "                [24.95182, 121.54887],\n",
              "                {}\n",
              "            ).addTo(map_812cb4e538371487227b1b2221422d43);\n",
              "        \n",
              "    \n",
              "            var marker_db4ba3734630da3caa485ff9397a7708 = L.marker(\n",
              "                [24.97445, 121.54765],\n",
              "                {}\n",
              "            ).addTo(map_812cb4e538371487227b1b2221422d43);\n",
              "        \n",
              "    \n",
              "            var marker_de70f6433a30ca1039b64943c3a85c39 = L.marker(\n",
              "                [24.96427, 121.53964],\n",
              "                {}\n",
              "            ).addTo(map_812cb4e538371487227b1b2221422d43);\n",
              "        \n",
              "    \n",
              "            var marker_5faa2fb1abea4c0fd8d17272dd9794a4 = L.marker(\n",
              "                [24.96725, 121.54252],\n",
              "                {}\n",
              "            ).addTo(map_812cb4e538371487227b1b2221422d43);\n",
              "        \n",
              "    \n",
              "            var marker_12e8f8c11dfc30bd8f6d61457bc082b4 = L.marker(\n",
              "                [24.96056, 121.50831],\n",
              "                {}\n",
              "            ).addTo(map_812cb4e538371487227b1b2221422d43);\n",
              "        \n",
              "    \n",
              "            var marker_e80f2c9076afbdb273a7d66fbf480e15 = L.marker(\n",
              "                [24.96735, 121.54464],\n",
              "                {}\n",
              "            ).addTo(map_812cb4e538371487227b1b2221422d43);\n",
              "        \n",
              "    \n",
              "            var marker_3418d7dbd9462f46cdfa3dabce8ddf8e = L.marker(\n",
              "                [24.96853, 121.54413],\n",
              "                {}\n",
              "            ).addTo(map_812cb4e538371487227b1b2221422d43);\n",
              "        \n",
              "    \n",
              "            var marker_83ba6b91ac7758e7df6e6773bf4438f9 = L.marker(\n",
              "                [24.9512, 121.549],\n",
              "                {}\n",
              "            ).addTo(map_812cb4e538371487227b1b2221422d43);\n",
              "        \n",
              "    \n",
              "            var marker_ee87e98587c547b7f2d1d30deef5cfbc = L.marker(\n",
              "                [24.94297, 121.50342],\n",
              "                {}\n",
              "            ).addTo(map_812cb4e538371487227b1b2221422d43);\n",
              "        \n",
              "    \n",
              "            var marker_397c08c39b8cac6cdc512a710ea178ef = L.marker(\n",
              "                [24.98573, 121.52758],\n",
              "                {}\n",
              "            ).addTo(map_812cb4e538371487227b1b2221422d43);\n",
              "        \n",
              "    \n",
              "            var marker_1ac07e43e0cd70c8761ff8488deafa00 = L.marker(\n",
              "                [24.94783, 121.50243],\n",
              "                {}\n",
              "            ).addTo(map_812cb4e538371487227b1b2221422d43);\n",
              "        \n",
              "    \n",
              "            var marker_712d0fc0dd7af0e26c6530789e27da72 = L.marker(\n",
              "                [24.9748, 121.53059],\n",
              "                {}\n",
              "            ).addTo(map_812cb4e538371487227b1b2221422d43);\n",
              "        \n",
              "    \n",
              "            var marker_72b13435f70a0563285511ba5c9d3730 = L.marker(\n",
              "                [24.98569, 121.5276],\n",
              "                {}\n",
              "            ).addTo(map_812cb4e538371487227b1b2221422d43);\n",
              "        \n",
              "    \n",
              "            var marker_ea327a8e79cf26b55fe4a43ea5fcf18d = L.marker(\n",
              "                [24.96108, 121.51046],\n",
              "                {}\n",
              "            ).addTo(map_812cb4e538371487227b1b2221422d43);\n",
              "        \n",
              "    \n",
              "            var marker_e43dae831eb3a7d90d2e6c43c8cbb856 = L.marker(\n",
              "                [24.9492, 121.53076],\n",
              "                {}\n",
              "            ).addTo(map_812cb4e538371487227b1b2221422d43);\n",
              "        \n",
              "    \n",
              "            var marker_a31fd2584a922f966060368ade902c0e = L.marker(\n",
              "                [24.9663, 121.54026],\n",
              "                {}\n",
              "            ).addTo(map_812cb4e538371487227b1b2221422d43);\n",
              "        \n",
              "    \n",
              "            var marker_6a2f1b7ee450de535fa5758a79ec10de = L.marker(\n",
              "                [24.96674, 121.54067],\n",
              "                {}\n",
              "            ).addTo(map_812cb4e538371487227b1b2221422d43);\n",
              "        \n",
              "    \n",
              "            var marker_395e9e54b7373b5fef053b049047c948 = L.marker(\n",
              "                [24.97433, 121.5431],\n",
              "                {}\n",
              "            ).addTo(map_812cb4e538371487227b1b2221422d43);\n",
              "        \n",
              "    \n",
              "            var marker_b83dabdb5ea9865f9eddaa483752b94a = L.marker(\n",
              "                [24.97746, 121.53299],\n",
              "                {}\n",
              "            ).addTo(map_812cb4e538371487227b1b2221422d43);\n",
              "        \n",
              "    \n",
              "            var marker_3b94ca81455ea7aa609929f7055b50e6 = L.marker(\n",
              "                [24.98203, 121.54348],\n",
              "                {}\n",
              "            ).addTo(map_812cb4e538371487227b1b2221422d43);\n",
              "        \n",
              "    \n",
              "            var marker_8dd91d91f00ddeec5b962f3f0f5a48f9 = L.marker(\n",
              "                [24.97433, 121.5431],\n",
              "                {}\n",
              "            ).addTo(map_812cb4e538371487227b1b2221422d43);\n",
              "        \n",
              "    \n",
              "            var marker_99905e97159b79dcd15b5d88b2614389 = L.marker(\n",
              "                [24.98872, 121.53411],\n",
              "                {}\n",
              "            ).addTo(map_812cb4e538371487227b1b2221422d43);\n",
              "        \n",
              "    \n",
              "            var marker_3a640145e8a01ef097a5474948730f7e = L.marker(\n",
              "                [24.97371, 121.52984],\n",
              "                {}\n",
              "            ).addTo(map_812cb4e538371487227b1b2221422d43);\n",
              "        \n",
              "    \n",
              "            var marker_769955221eaed2d47da317fae10af469 = L.marker(\n",
              "                [24.96571, 121.54089],\n",
              "                {}\n",
              "            ).addTo(map_812cb4e538371487227b1b2221422d43);\n",
              "        \n",
              "    \n",
              "            var marker_72e09bffa658986ddc74d1f3adac2bed = L.marker(\n",
              "                [24.95618, 121.53844],\n",
              "                {}\n",
              "            ).addTo(map_812cb4e538371487227b1b2221422d43);\n",
              "        \n",
              "    \n",
              "            var marker_17ba07c7ef25a676e55b381c6cca276a = L.marker(\n",
              "                [24.96398, 121.5425],\n",
              "                {}\n",
              "            ).addTo(map_812cb4e538371487227b1b2221422d43);\n",
              "        \n",
              "    \n",
              "            var marker_113e100288e4e56237ef5f76ea5f7746 = L.marker(\n",
              "                [24.97744, 121.54458],\n",
              "                {}\n",
              "            ).addTo(map_812cb4e538371487227b1b2221422d43);\n",
              "        \n",
              "    \n",
              "            var marker_372b1cce7dd38495be59ab4d346007df = L.marker(\n",
              "                [24.97707, 121.54308],\n",
              "                {}\n",
              "            ).addTo(map_812cb4e538371487227b1b2221422d43);\n",
              "        \n",
              "    \n",
              "            var marker_ed26a73ada66cc234f4e4e4aac51e138 = L.marker(\n",
              "                [24.95204, 121.54842],\n",
              "                {}\n",
              "            ).addTo(map_812cb4e538371487227b1b2221422d43);\n",
              "        \n",
              "    \n",
              "            var marker_4a7e861a6fdd93a2b962bfb80f22d7e7 = L.marker(\n",
              "                [24.9726, 121.53561],\n",
              "                {}\n",
              "            ).addTo(map_812cb4e538371487227b1b2221422d43);\n",
              "        \n",
              "    \n",
              "            var marker_cb2ea5988a25f931de5bb7235964a722 = L.marker(\n",
              "                [24.96299, 121.51284],\n",
              "                {}\n",
              "            ).addTo(map_812cb4e538371487227b1b2221422d43);\n",
              "        \n",
              "    \n",
              "            var marker_7c92fd25888185705decf6ce8ee3ffa5 = L.marker(\n",
              "                [24.96674, 121.54067],\n",
              "                {}\n",
              "            ).addTo(map_812cb4e538371487227b1b2221422d43);\n",
              "        \n",
              "    \n",
              "            var marker_6806b9868fe88ba95cf9b3d28ac68e5a = L.marker(\n",
              "                [24.97701, 121.54224],\n",
              "                {}\n",
              "            ).addTo(map_812cb4e538371487227b1b2221422d43);\n",
              "        \n",
              "    \n",
              "            var marker_98af7684ac872cd23e664a49c7a31d0d = L.marker(\n",
              "                [24.96044, 121.51462],\n",
              "                {}\n",
              "            ).addTo(map_812cb4e538371487227b1b2221422d43);\n",
              "        \n",
              "    \n",
              "            var marker_276631ab7886ef7b4cb638d8bc29b132 = L.marker(\n",
              "                [24.96172, 121.53812],\n",
              "                {}\n",
              "            ).addTo(map_812cb4e538371487227b1b2221422d43);\n",
              "        \n",
              "    \n",
              "            var marker_54c4dc7cdafea31861db3dd484b16cf0 = L.marker(\n",
              "                [24.98155, 121.54142],\n",
              "                {}\n",
              "            ).addTo(map_812cb4e538371487227b1b2221422d43);\n",
              "        \n",
              "    \n",
              "            var marker_a99be85148a808dc883fd2b9909061ed = L.marker(\n",
              "                [24.98092, 121.54739],\n",
              "                {}\n",
              "            ).addTo(map_812cb4e538371487227b1b2221422d43);\n",
              "        \n",
              "    \n",
              "            var marker_7ce688d2903c444a3c0ecaebcaee0440 = L.marker(\n",
              "                [24.94375, 121.47883],\n",
              "                {}\n",
              "            ).addTo(map_812cb4e538371487227b1b2221422d43);\n",
              "        \n",
              "    \n",
              "            var marker_271f17853536055639967a43602e8e87 = L.marker(\n",
              "                [24.93885, 121.50383],\n",
              "                {}\n",
              "            ).addTo(map_812cb4e538371487227b1b2221422d43);\n",
              "        \n",
              "    \n",
              "            var marker_dd9d832b139344afb883e84e0023792a = L.marker(\n",
              "                [24.96622, 121.51709],\n",
              "                {}\n",
              "            ).addTo(map_812cb4e538371487227b1b2221422d43);\n",
              "        \n",
              "    \n",
              "            var marker_c90cface7e6087dcc3722f05be4397f1 = L.marker(\n",
              "                [24.98203, 121.54348],\n",
              "                {}\n",
              "            ).addTo(map_812cb4e538371487227b1b2221422d43);\n",
              "        \n",
              "    \n",
              "            var marker_a994f58fcb21543af189936caa9a5799 = L.marker(\n",
              "                [24.96515, 121.53737],\n",
              "                {}\n",
              "            ).addTo(map_812cb4e538371487227b1b2221422d43);\n",
              "        \n",
              "    \n",
              "            var marker_b81615eea0002e089c726abb4d3b6c24 = L.marker(\n",
              "                [24.96515, 121.53737],\n",
              "                {}\n",
              "            ).addTo(map_812cb4e538371487227b1b2221422d43);\n",
              "        \n",
              "    \n",
              "            var marker_71d175ee2f050111edf667ad599c49e2 = L.marker(\n",
              "                [24.98199, 121.54464],\n",
              "                {}\n",
              "            ).addTo(map_812cb4e538371487227b1b2221422d43);\n",
              "        \n",
              "    \n",
              "            var marker_60804da43979bb1bb4d631c24ef75d07 = L.marker(\n",
              "                [24.9711, 121.5317],\n",
              "                {}\n",
              "            ).addTo(map_812cb4e538371487227b1b2221422d43);\n",
              "        \n",
              "    \n",
              "            var marker_bde0fc54ba68be140cf7c12b6b70a26d = L.marker(\n",
              "                [24.97528, 121.54541],\n",
              "                {}\n",
              "            ).addTo(map_812cb4e538371487227b1b2221422d43);\n",
              "        \n",
              "    \n",
              "            var marker_f8c05f71a9fa605a25ea9971f6e83295 = L.marker(\n",
              "                [24.96571, 121.54089],\n",
              "                {}\n",
              "            ).addTo(map_812cb4e538371487227b1b2221422d43);\n",
              "        \n",
              "    \n",
              "            var marker_fad0d185f2cc6e38a4731a0fdc26bc4f = L.marker(\n",
              "                [24.97838, 121.53477],\n",
              "                {}\n",
              "            ).addTo(map_812cb4e538371487227b1b2221422d43);\n",
              "        \n",
              "    \n",
              "            var marker_726773a1eaab67b14d909ef5ef89e73e = L.marker(\n",
              "                [24.98085, 121.54391],\n",
              "                {}\n",
              "            ).addTo(map_812cb4e538371487227b1b2221422d43);\n",
              "        \n",
              "    \n",
              "            var marker_5693596176c7c31a589b5e353de04261 = L.marker(\n",
              "                [24.96674, 121.54039],\n",
              "                {}\n",
              "            ).addTo(map_812cb4e538371487227b1b2221422d43);\n",
              "        \n",
              "    \n",
              "            var marker_d2e34e88994443acc55348b7a21715a3 = L.marker(\n",
              "                [24.98086, 121.54162],\n",
              "                {}\n",
              "            ).addTo(map_812cb4e538371487227b1b2221422d43);\n",
              "        \n",
              "    \n",
              "            var marker_b58abb69c4dadeade6f06c52932e86bd = L.marker(\n",
              "                [24.98092, 121.53653],\n",
              "                {}\n",
              "            ).addTo(map_812cb4e538371487227b1b2221422d43);\n",
              "        \n",
              "    \n",
              "            var marker_b57a7a6051137932a2c2dac4c197a5d6 = L.marker(\n",
              "                [24.96299, 121.51284],\n",
              "                {}\n",
              "            ).addTo(map_812cb4e538371487227b1b2221422d43);\n",
              "        \n",
              "    \n",
              "            var marker_056a2a632703b20ad8295ab00163fcba = L.marker(\n",
              "                [24.97433, 121.53863],\n",
              "                {}\n",
              "            ).addTo(map_812cb4e538371487227b1b2221422d43);\n",
              "        \n",
              "    \n",
              "            var marker_002028bce8262481d48f5114c7d5ed1f = L.marker(\n",
              "                [24.9866, 121.54082],\n",
              "                {}\n",
              "            ).addTo(map_812cb4e538371487227b1b2221422d43);\n",
              "        \n",
              "    \n",
              "            var marker_e2ff6efbde7dbf2191e5e8f190682089 = L.marker(\n",
              "                [24.96604, 121.54211],\n",
              "                {}\n",
              "            ).addTo(map_812cb4e538371487227b1b2221422d43);\n",
              "        \n",
              "    \n",
              "            var marker_c8fb34454fad232234117c5e0fc84963 = L.marker(\n",
              "                [24.96357, 121.54951],\n",
              "                {}\n",
              "            ).addTo(map_812cb4e538371487227b1b2221422d43);\n",
              "        \n",
              "    \n",
              "            var marker_dda225ea968eb19ce95446ea1365dc3d = L.marker(\n",
              "                [24.97937, 121.54245],\n",
              "                {}\n",
              "            ).addTo(map_812cb4e538371487227b1b2221422d43);\n",
              "        \n",
              "    \n",
              "            var marker_b34018815ea0c2ef64a863b168a00bb1 = L.marker(\n",
              "                [24.96495, 121.54277],\n",
              "                {}\n",
              "            ).addTo(map_812cb4e538371487227b1b2221422d43);\n",
              "        \n",
              "    \n",
              "            var marker_97703725329ae9857c97c929336d8d31 = L.marker(\n",
              "                [24.97843, 121.52406],\n",
              "                {}\n",
              "            ).addTo(map_812cb4e538371487227b1b2221422d43);\n",
              "        \n",
              "    \n",
              "            var marker_f9eeb5691cf791c7e67e862afe551b68 = L.marker(\n",
              "                [24.96515, 121.53737],\n",
              "                {}\n",
              "            ).addTo(map_812cb4e538371487227b1b2221422d43);\n",
              "        \n",
              "    \n",
              "            var marker_163811c608e624affcbfc479c90af3a0 = L.marker(\n",
              "                [24.98203, 121.54348],\n",
              "                {}\n",
              "            ).addTo(map_812cb4e538371487227b1b2221422d43);\n",
              "        \n",
              "    \n",
              "            var marker_4b5500b4f2d3e43d75779f83b1b20e9b = L.marker(\n",
              "                [24.97213, 121.51627],\n",
              "                {}\n",
              "            ).addTo(map_812cb4e538371487227b1b2221422d43);\n",
              "        \n",
              "    \n",
              "            var marker_fd8408c0b895be42cb0b4d7a94177203 = L.marker(\n",
              "                [24.97017, 121.54647],\n",
              "                {}\n",
              "            ).addTo(map_812cb4e538371487227b1b2221422d43);\n",
              "        \n",
              "    \n",
              "            var marker_3094f378f6261f638b00dd1371956c3c = L.marker(\n",
              "                [24.96515, 121.53737],\n",
              "                {}\n",
              "            ).addTo(map_812cb4e538371487227b1b2221422d43);\n",
              "        \n",
              "    \n",
              "            var marker_26e6ef5c89c40253fd00376a01764297 = L.marker(\n",
              "                [24.95204, 121.54842],\n",
              "                {}\n",
              "            ).addTo(map_812cb4e538371487227b1b2221422d43);\n",
              "        \n",
              "    \n",
              "            var marker_084ec8a58fc7c4ec0a8763fbf0857c38 = L.marker(\n",
              "                [24.97563, 121.54694],\n",
              "                {}\n",
              "            ).addTo(map_812cb4e538371487227b1b2221422d43);\n",
              "        \n",
              "    \n",
              "            var marker_7f5b6bfce8d05dd3decc1df1a85064af = L.marker(\n",
              "                [24.9711, 121.5317],\n",
              "                {}\n",
              "            ).addTo(map_812cb4e538371487227b1b2221422d43);\n",
              "        \n",
              "    \n",
              "            var marker_70faed9579387d9ac5431519d2d7fefb = L.marker(\n",
              "                [24.97017, 121.54494],\n",
              "                {}\n",
              "            ).addTo(map_812cb4e538371487227b1b2221422d43);\n",
              "        \n",
              "    \n",
              "            var marker_9d34faee411fc448064d36d6c9108f08 = L.marker(\n",
              "                [24.93293, 121.51203],\n",
              "                {}\n",
              "            ).addTo(map_812cb4e538371487227b1b2221422d43);\n",
              "        \n",
              "    \n",
              "            var marker_6fbc181a022856915d4c5b1f32f84667 = L.marker(\n",
              "                [24.97349, 121.54245],\n",
              "                {}\n",
              "            ).addTo(map_812cb4e538371487227b1b2221422d43);\n",
              "        \n",
              "    \n",
              "            var marker_2ba810534c9cfef223a41af65125f372 = L.marker(\n",
              "                [24.96719, 121.54269],\n",
              "                {}\n",
              "            ).addTo(map_812cb4e538371487227b1b2221422d43);\n",
              "        \n",
              "    \n",
              "            var marker_98c2c03e41fe0003cb3b60661d940a10 = L.marker(\n",
              "                [24.98118, 121.53788],\n",
              "                {}\n",
              "            ).addTo(map_812cb4e538371487227b1b2221422d43);\n",
              "        \n",
              "    \n",
              "            var marker_ac6eda7cfa28f84eddfcfae5984af7a6 = L.marker(\n",
              "                [24.95204, 121.54842],\n",
              "                {}\n",
              "            ).addTo(map_812cb4e538371487227b1b2221422d43);\n",
              "        \n",
              "    \n",
              "            var marker_bc5a1373ea3bfd43dfc70cfd4810b8c7 = L.marker(\n",
              "                [24.95418, 121.53713],\n",
              "                {}\n",
              "            ).addTo(map_812cb4e538371487227b1b2221422d43);\n",
              "        \n",
              "    \n",
              "            var marker_c0e4fc2e4edd3b7d02e60c0ed51a85fe = L.marker(\n",
              "                [24.94297, 121.50342],\n",
              "                {}\n",
              "            ).addTo(map_812cb4e538371487227b1b2221422d43);\n",
              "        \n",
              "    \n",
              "            var marker_485874ad090a83572196509f88be984a = L.marker(\n",
              "                [24.94155, 121.50381],\n",
              "                {}\n",
              "            ).addTo(map_812cb4e538371487227b1b2221422d43);\n",
              "        \n",
              "    \n",
              "            var marker_435532f805b0b2ada686759a1bbae60b = L.marker(\n",
              "                [24.94883, 121.52954],\n",
              "                {}\n",
              "            ).addTo(map_812cb4e538371487227b1b2221422d43);\n",
              "        \n",
              "    \n",
              "            var marker_325d451462a7b10daea8193cd31dff4d = L.marker(\n",
              "                [24.97886, 121.53464],\n",
              "                {}\n",
              "            ).addTo(map_812cb4e538371487227b1b2221422d43);\n",
              "        \n",
              "    \n",
              "            var marker_29afcab8fec45c4876a053b696fecd36 = L.marker(\n",
              "                [24.97937, 121.54245],\n",
              "                {}\n",
              "            ).addTo(map_812cb4e538371487227b1b2221422d43);\n",
              "        \n",
              "    \n",
              "            var marker_13429d0f3a388d04e15184a5cf52d447 = L.marker(\n",
              "                [24.97886, 121.53464],\n",
              "                {}\n",
              "            ).addTo(map_812cb4e538371487227b1b2221422d43);\n",
              "        \n",
              "    \n",
              "            var marker_c17e5a83efbb77648b4ad8b75db17f88 = L.marker(\n",
              "                [24.95836, 121.53756],\n",
              "                {}\n",
              "            ).addTo(map_812cb4e538371487227b1b2221422d43);\n",
              "        \n",
              "    \n",
              "            var marker_28e84db04fbf08ed0363197b4d387552 = L.marker(\n",
              "                [24.97723, 121.53767],\n",
              "                {}\n",
              "            ).addTo(map_812cb4e538371487227b1b2221422d43);\n",
              "        \n",
              "    \n",
              "            var marker_84d360a89e3fed6bc10db1c83c53b772 = L.marker(\n",
              "                [24.94297, 121.50342],\n",
              "                {}\n",
              "            ).addTo(map_812cb4e538371487227b1b2221422d43);\n",
              "        \n",
              "    \n",
              "            var marker_ea0afbdf98a043173fc5169d3b42b82b = L.marker(\n",
              "                [24.96674, 121.54067],\n",
              "                {}\n",
              "            ).addTo(map_812cb4e538371487227b1b2221422d43);\n",
              "        \n",
              "    \n",
              "            var marker_25191e4b8ad8a427eecabdcb056a9be7 = L.marker(\n",
              "                [24.9711, 121.5317],\n",
              "                {}\n",
              "            ).addTo(map_812cb4e538371487227b1b2221422d43);\n",
              "        \n",
              "    \n",
              "            var marker_0cf152acf3e7779a746fc3c70063dd63 = L.marker(\n",
              "                [24.97694, 121.55391],\n",
              "                {}\n",
              "            ).addTo(map_812cb4e538371487227b1b2221422d43);\n",
              "        \n",
              "    \n",
              "            var marker_4daf5f7093463f0ad15761d77daa52cc = L.marker(\n",
              "                [24.97744, 121.54458],\n",
              "                {}\n",
              "            ).addTo(map_812cb4e538371487227b1b2221422d43);\n",
              "        \n",
              "    \n",
              "            var marker_51430afc41193586cb5f7bcfb95024c6 = L.marker(\n",
              "                [24.97408, 121.54011],\n",
              "                {}\n",
              "            ).addTo(map_812cb4e538371487227b1b2221422d43);\n",
              "        \n",
              "    \n",
              "            var marker_7ef2e69166e0ebb468a7544c80930152 = L.marker(\n",
              "                [24.96299, 121.5432],\n",
              "                {}\n",
              "            ).addTo(map_812cb4e538371487227b1b2221422d43);\n",
              "        \n",
              "    \n",
              "            var marker_2aa64b6a8e537b3e1fada3e65c6cdfc3 = L.marker(\n",
              "                [24.95468, 121.55481],\n",
              "                {}\n",
              "            ).addTo(map_812cb4e538371487227b1b2221422d43);\n",
              "        \n",
              "    \n",
              "            var marker_a861df72e4a4ce4f31d042ae6f82c598 = L.marker(\n",
              "                [24.94741, 121.49628],\n",
              "                {}\n",
              "            ).addTo(map_812cb4e538371487227b1b2221422d43);\n",
              "        \n",
              "    \n",
              "            var marker_81fa7b776d2c66237bfaeffc9e6e3a11 = L.marker(\n",
              "                [24.98085, 121.54391],\n",
              "                {}\n",
              "            ).addTo(map_812cb4e538371487227b1b2221422d43);\n",
              "        \n",
              "    \n",
              "            var marker_d42b48de4845fd785c8d4446e63df02c = L.marker(\n",
              "                [24.97433, 121.5431],\n",
              "                {}\n",
              "            ).addTo(map_812cb4e538371487227b1b2221422d43);\n",
              "        \n",
              "    \n",
              "            var marker_cd644fcfda827f63588c16c35fe4af5c = L.marker(\n",
              "                [24.98326, 121.5446],\n",
              "                {}\n",
              "            ).addTo(map_812cb4e538371487227b1b2221422d43);\n",
              "        \n",
              "    \n",
              "            var marker_eff544159593ca3c8736a695270fa2b5 = L.marker(\n",
              "                [24.9805, 121.53778],\n",
              "                {}\n",
              "            ).addTo(map_812cb4e538371487227b1b2221422d43);\n",
              "        \n",
              "    \n",
              "            var marker_9257edce7c43dba6de6d8466f2b04cb8 = L.marker(\n",
              "                [24.97005, 121.53758],\n",
              "                {}\n",
              "            ).addTo(map_812cb4e538371487227b1b2221422d43);\n",
              "        \n",
              "    \n",
              "            var marker_d906f98ade19522b07294cb0adb26449 = L.marker(\n",
              "                [24.94867, 121.49507],\n",
              "                {}\n",
              "            ).addTo(map_812cb4e538371487227b1b2221422d43);\n",
              "        \n",
              "    \n",
              "            var marker_f4760f7508d7fc9d3b57fe991570d503 = L.marker(\n",
              "                [24.97697, 121.54262],\n",
              "                {}\n",
              "            ).addTo(map_812cb4e538371487227b1b2221422d43);\n",
              "        \n",
              "    \n",
              "            var marker_574091a74dfdaa204633fa333f0261f6 = L.marker(\n",
              "                [24.99176, 121.53456],\n",
              "                {}\n",
              "            ).addTo(map_812cb4e538371487227b1b2221422d43);\n",
              "        \n",
              "    \n",
              "            var marker_e85b6b8aa97091b7adff849cfd482222 = L.marker(\n",
              "                [24.97493, 121.5273],\n",
              "                {}\n",
              "            ).addTo(map_812cb4e538371487227b1b2221422d43);\n",
              "        \n",
              "    \n",
              "            var marker_4e08176957f6662ffaa2f6b129f1f9d7 = L.marker(\n",
              "                [24.94898, 121.49621],\n",
              "                {}\n",
              "            ).addTo(map_812cb4e538371487227b1b2221422d43);\n",
              "        \n",
              "    \n",
              "            var marker_64521d4e688d46b391b1ac0ee309139f = L.marker(\n",
              "                [24.98489, 121.54121],\n",
              "                {}\n",
              "            ).addTo(map_812cb4e538371487227b1b2221422d43);\n",
              "        \n",
              "    \n",
              "            var marker_12ad72f52fd066bdd46c3f47617b209d = L.marker(\n",
              "                [24.96299, 121.51284],\n",
              "                {}\n",
              "            ).addTo(map_812cb4e538371487227b1b2221422d43);\n",
              "        \n",
              "    \n",
              "            var marker_abd1bb5e8f27c8b4661c0929a0e5c800 = L.marker(\n",
              "                [24.94155, 121.50381],\n",
              "                {}\n",
              "            ).addTo(map_812cb4e538371487227b1b2221422d43);\n",
              "        \n",
              "    \n",
              "            var marker_9cad32656013ebb771170583d1939276 = L.marker(\n",
              "                [24.95495, 121.56174],\n",
              "                {}\n",
              "            ).addTo(map_812cb4e538371487227b1b2221422d43);\n",
              "        \n",
              "    \n",
              "            var marker_7f11996565cd597ec53590b6c51b8881 = L.marker(\n",
              "                [24.97285, 121.5173],\n",
              "                {}\n",
              "            ).addTo(map_812cb4e538371487227b1b2221422d43);\n",
              "        \n",
              "    \n",
              "            var marker_7cb2642b824134904e90e3860494e2c9 = L.marker(\n",
              "                [24.96322, 121.51237],\n",
              "                {}\n",
              "            ).addTo(map_812cb4e538371487227b1b2221422d43);\n",
              "        \n",
              "    \n",
              "            var marker_b7ec0e0a5f4b92df03380968b342f777 = L.marker(\n",
              "                [24.95464, 121.56627],\n",
              "                {}\n",
              "            ).addTo(map_812cb4e538371487227b1b2221422d43);\n",
              "        \n",
              "    \n",
              "            var marker_db3781abf0843b88ffa5d2fc9d4b7d90 = L.marker(\n",
              "                [24.97707, 121.54312],\n",
              "                {}\n",
              "            ).addTo(map_812cb4e538371487227b1b2221422d43);\n",
              "        \n",
              "    \n",
              "            var marker_1954fae6d32df205a86a078504be4f0b = L.marker(\n",
              "                [24.94297, 121.50342],\n",
              "                {}\n",
              "            ).addTo(map_812cb4e538371487227b1b2221422d43);\n",
              "        \n",
              "    \n",
              "            var marker_4250a2d11a100fc5200d51b51bf23e31 = L.marker(\n",
              "                [24.97945, 121.53642],\n",
              "                {}\n",
              "            ).addTo(map_812cb4e538371487227b1b2221422d43);\n",
              "        \n",
              "    \n",
              "            var marker_54633437a8441679c39c5b7367ebc324 = L.marker(\n",
              "                [24.97371, 121.54951],\n",
              "                {}\n",
              "            ).addTo(map_812cb4e538371487227b1b2221422d43);\n",
              "        \n",
              "    \n",
              "            var marker_b59e8d887a694ef187f6774c8fd5fe0b = L.marker(\n",
              "                [24.9675, 121.54069],\n",
              "                {}\n",
              "            ).addTo(map_812cb4e538371487227b1b2221422d43);\n",
              "        \n",
              "    \n",
              "            var marker_567e8471d41706e1e613fb856c6d8332 = L.marker(\n",
              "                [24.98246, 121.54477],\n",
              "                {}\n",
              "            ).addTo(map_812cb4e538371487227b1b2221422d43);\n",
              "        \n",
              "    \n",
              "            var marker_496cdb9f899327f85bdf18a982dcbbf7 = L.marker(\n",
              "                [24.93363, 121.51158],\n",
              "                {}\n",
              "            ).addTo(map_812cb4e538371487227b1b2221422d43);\n",
              "        \n",
              "    \n",
              "            var marker_ee4b92b5fe4443adf86c71fa517e933d = L.marker(\n",
              "                [24.95425, 121.5399],\n",
              "                {}\n",
              "            ).addTo(map_812cb4e538371487227b1b2221422d43);\n",
              "        \n",
              "    \n",
              "            var marker_5bfcebea7e2c84d6bb9e28a8853dbed2 = L.marker(\n",
              "                [24.981, 121.54713],\n",
              "                {}\n",
              "            ).addTo(map_812cb4e538371487227b1b2221422d43);\n",
              "        \n",
              "    \n",
              "            var marker_f2a1053243abb6018b3366f882f1dea7 = L.marker(\n",
              "                [24.96881, 121.54089],\n",
              "                {}\n",
              "            ).addTo(map_812cb4e538371487227b1b2221422d43);\n",
              "        \n",
              "    \n",
              "            var marker_3cab97324651459f496480f15191be15 = L.marker(\n",
              "                [24.96628, 121.54196],\n",
              "                {}\n",
              "            ).addTo(map_812cb4e538371487227b1b2221422d43);\n",
              "        \n",
              "    \n",
              "            var marker_da24932812759fcc66ecbea187328cdd = L.marker(\n",
              "                [24.96945, 121.5449],\n",
              "                {}\n",
              "            ).addTo(map_812cb4e538371487227b1b2221422d43);\n",
              "        \n",
              "    \n",
              "            var marker_c3cffd15a82fae87b641392591afdc20 = L.marker(\n",
              "                [24.96305, 121.54915],\n",
              "                {}\n",
              "            ).addTo(map_812cb4e538371487227b1b2221422d43);\n",
              "        \n",
              "    \n",
              "            var marker_8bc56584cef889c5dd359a70944cf1dc = L.marker(\n",
              "                [24.98746, 121.54391],\n",
              "                {}\n",
              "            ).addTo(map_812cb4e538371487227b1b2221422d43);\n",
              "        \n",
              "    \n",
              "            var marker_5b37a2685289d4114ccdf1621e569810 = L.marker(\n",
              "                [24.97559, 121.53713],\n",
              "                {}\n",
              "            ).addTo(map_812cb4e538371487227b1b2221422d43);\n",
              "        \n",
              "    \n",
              "            var marker_fa2919db5f6d5dc4d0a880a8bb02f732 = L.marker(\n",
              "                [24.98203, 121.54348],\n",
              "                {}\n",
              "            ).addTo(map_812cb4e538371487227b1b2221422d43);\n",
              "        \n",
              "    \n",
              "            var marker_2f2f69b4b9ece40fa40da795ffd34c99 = L.marker(\n",
              "                [24.95182, 121.54887],\n",
              "                {}\n",
              "            ).addTo(map_812cb4e538371487227b1b2221422d43);\n",
              "        \n",
              "    \n",
              "            var marker_149cbf55c7a0cf40cf41da81b2615f35 = L.marker(\n",
              "                [24.97289, 121.51728],\n",
              "                {}\n",
              "            ).addTo(map_812cb4e538371487227b1b2221422d43);\n",
              "        \n",
              "    \n",
              "            var marker_23b751f09043a018c153db35b0c53a06 = L.marker(\n",
              "                [24.98343, 121.53762],\n",
              "                {}\n",
              "            ).addTo(map_812cb4e538371487227b1b2221422d43);\n",
              "        \n",
              "    \n",
              "            var marker_a84b5805868cc8dd34ab36f1efcfc17e = L.marker(\n",
              "                [24.97503, 121.53692],\n",
              "                {}\n",
              "            ).addTo(map_812cb4e538371487227b1b2221422d43);\n",
              "        \n",
              "    \n",
              "            var marker_b2200a3cb164ea2fbd44219275cd5e4f = L.marker(\n",
              "                [24.95204, 121.54842],\n",
              "                {}\n",
              "            ).addTo(map_812cb4e538371487227b1b2221422d43);\n",
              "        \n",
              "    \n",
              "            var marker_fe599b7279d8c43091ae72dbbcfde436 = L.marker(\n",
              "                [24.97347, 121.54271],\n",
              "                {}\n",
              "            ).addTo(map_812cb4e538371487227b1b2221422d43);\n",
              "        \n",
              "    \n",
              "            var marker_42b2368f51927f422f740ca749db485e = L.marker(\n",
              "                [24.97937, 121.54245],\n",
              "                {}\n",
              "            ).addTo(map_812cb4e538371487227b1b2221422d43);\n",
              "        \n",
              "    \n",
              "            var marker_634a7689d707c4760ef0f8a7b513363f = L.marker(\n",
              "                [24.9748, 121.53059],\n",
              "                {}\n",
              "            ).addTo(map_812cb4e538371487227b1b2221422d43);\n",
              "        \n",
              "    \n",
              "            var marker_0a6cd8061ad6b130afbe6fbda427c85b = L.marker(\n",
              "                [24.98672, 121.52091],\n",
              "                {}\n",
              "            ).addTo(map_812cb4e538371487227b1b2221422d43);\n",
              "        \n",
              "    \n",
              "            var marker_e8ea13d49d181daab8ef6c189689d3ef = L.marker(\n",
              "                [24.97433, 121.5431],\n",
              "                {}\n",
              "            ).addTo(map_812cb4e538371487227b1b2221422d43);\n",
              "        \n",
              "    \n",
              "            var marker_31bf9bcdb4b1e3d3d665f1ceb7236dff = L.marker(\n",
              "                [24.96731, 121.51486],\n",
              "                {}\n",
              "            ).addTo(map_812cb4e538371487227b1b2221422d43);\n",
              "        \n",
              "    \n",
              "            var marker_7eb2d585406a6dc7917f72a4e6b39b2c = L.marker(\n",
              "                [24.972, 121.54477],\n",
              "                {}\n",
              "            ).addTo(map_812cb4e538371487227b1b2221422d43);\n",
              "        \n",
              "    \n",
              "            var marker_ff630920092c2fcacf77d97d282afdea = L.marker(\n",
              "                [24.97153, 121.53559],\n",
              "                {}\n",
              "            ).addTo(map_812cb4e538371487227b1b2221422d43);\n",
              "        \n",
              "    \n",
              "            var marker_86bcf7b1902794bf719a4eb1dbb5e428 = L.marker(\n",
              "                [24.97838, 121.54119],\n",
              "                {}\n",
              "            ).addTo(map_812cb4e538371487227b1b2221422d43);\n",
              "        \n",
              "    \n",
              "            var marker_4b5ffde11f7dd4e11bb4ec88ddc0c456 = L.marker(\n",
              "                [24.96515, 121.53737],\n",
              "                {}\n",
              "            ).addTo(map_812cb4e538371487227b1b2221422d43);\n",
              "        \n",
              "    \n",
              "            var marker_49211c1b869c4392362e7add79f231c4 = L.marker(\n",
              "                [24.98102, 121.53655],\n",
              "                {}\n",
              "            ).addTo(map_812cb4e538371487227b1b2221422d43);\n",
              "        \n",
              "    \n",
              "            var marker_9afed32a939026f5c52459fdcbf13baf = L.marker(\n",
              "                [24.97703, 121.54265],\n",
              "                {}\n",
              "            ).addTo(map_812cb4e538371487227b1b2221422d43);\n",
              "        \n",
              "    \n",
              "            var marker_fa0866973ffb7310c40c143cbcb222ae = L.marker(\n",
              "                [24.98569, 121.5276],\n",
              "                {}\n",
              "            ).addTo(map_812cb4e538371487227b1b2221422d43);\n",
              "        \n",
              "    \n",
              "            var marker_eff1051ecdb98222aa1bbb4173939a1f = L.marker(\n",
              "                [24.98123, 121.53743],\n",
              "                {}\n",
              "            ).addTo(map_812cb4e538371487227b1b2221422d43);\n",
              "        \n",
              "    \n",
              "            var marker_654db93486dc4ccb17b7e90e07c03a97 = L.marker(\n",
              "                [24.98569, 121.5276],\n",
              "                {}\n",
              "            ).addTo(map_812cb4e538371487227b1b2221422d43);\n",
              "        \n",
              "    \n",
              "            var marker_fee8181d566c2981f9bf33fdccda75e0 = L.marker(\n",
              "                [24.97814, 121.5417],\n",
              "                {}\n",
              "            ).addTo(map_812cb4e538371487227b1b2221422d43);\n",
              "        \n",
              "    \n",
              "            var marker_2e118c950301737963a692b08a0c563c = L.marker(\n",
              "                [24.96571, 121.54089],\n",
              "                {}\n",
              "            ).addTo(map_812cb4e538371487227b1b2221422d43);\n",
              "        \n",
              "    \n",
              "            var marker_94e17930ca2ea26fb90befcac3302c9f = L.marker(\n",
              "                [24.94155, 121.50381],\n",
              "                {}\n",
              "            ).addTo(map_812cb4e538371487227b1b2221422d43);\n",
              "        \n",
              "    \n",
              "            var marker_d270b3f20824c6f71b5c95ebeee04826 = L.marker(\n",
              "                [24.98059, 121.53986],\n",
              "                {}\n",
              "            ).addTo(map_812cb4e538371487227b1b2221422d43);\n",
              "        \n",
              "    \n",
              "            var marker_bd4a7fd9ae225577430d8b1001175fc4 = L.marker(\n",
              "                [25.00115, 121.51776],\n",
              "                {}\n",
              "            ).addTo(map_812cb4e538371487227b1b2221422d43);\n",
              "        \n",
              "    \n",
              "            var marker_8952e47a91af8f3f4dcc63fddf8aa83e = L.marker(\n",
              "                [24.9489, 121.53095],\n",
              "                {}\n",
              "            ).addTo(map_812cb4e538371487227b1b2221422d43);\n",
              "        \n",
              "    \n",
              "            var marker_ad0458dda9eaa23c343907d80e475321 = L.marker(\n",
              "                [24.96299, 121.51284],\n",
              "                {}\n",
              "            ).addTo(map_812cb4e538371487227b1b2221422d43);\n",
              "        \n",
              "    \n",
              "            var marker_d8648ae25872d65a5b9d1b408c1c4929 = L.marker(\n",
              "                [24.94235, 121.50357],\n",
              "                {}\n",
              "            ).addTo(map_812cb4e538371487227b1b2221422d43);\n",
              "        \n",
              "    \n",
              "            var marker_0622387fce6e430159f6f7d3f26a21a8 = L.marker(\n",
              "                [24.95032, 121.49587],\n",
              "                {}\n",
              "            ).addTo(map_812cb4e538371487227b1b2221422d43);\n",
              "        \n",
              "    \n",
              "            var marker_2be1f634aa2ab9f6fa5b17c67b684507 = L.marker(\n",
              "                [24.98016, 121.53932],\n",
              "                {}\n",
              "            ).addTo(map_812cb4e538371487227b1b2221422d43);\n",
              "        \n",
              "    \n",
              "            var marker_410324ffa9290b02acaec217673d12d2 = L.marker(\n",
              "                [24.96007, 121.51361],\n",
              "                {}\n",
              "            ).addTo(map_812cb4e538371487227b1b2221422d43);\n",
              "        \n",
              "    \n",
              "            var marker_791db319e9b50947fce9cce6d743804c = L.marker(\n",
              "                [24.96606, 121.54297],\n",
              "                {}\n",
              "            ).addTo(map_812cb4e538371487227b1b2221422d43);\n",
              "        \n",
              "    \n",
              "            var marker_a15a29f6e49e9c79b36793bd3a665d32 = L.marker(\n",
              "                [24.98322, 121.53765],\n",
              "                {}\n",
              "            ).addTo(map_812cb4e538371487227b1b2221422d43);\n",
              "        \n",
              "    \n",
              "            var marker_dec4034e8119141990ac0ffbe2c4a0de = L.marker(\n",
              "                [24.97668, 121.52518],\n",
              "                {}\n",
              "            ).addTo(map_812cb4e538371487227b1b2221422d43);\n",
              "        \n",
              "    \n",
              "            var marker_e394c855bae24c1d263ac1b32b870dbe = L.marker(\n",
              "                [24.97668, 121.52518],\n",
              "                {}\n",
              "            ).addTo(map_812cb4e538371487227b1b2221422d43);\n",
              "        \n",
              "    \n",
              "            var marker_f766528589b9a359dc28c0f7aafe37fd = L.marker(\n",
              "                [24.96334, 121.54767],\n",
              "                {}\n",
              "            ).addTo(map_812cb4e538371487227b1b2221422d43);\n",
              "        \n",
              "    \n",
              "            var marker_70577429e4324997f44415a856ad51b5 = L.marker(\n",
              "                [24.96412, 121.5167],\n",
              "                {}\n",
              "            ).addTo(map_812cb4e538371487227b1b2221422d43);\n",
              "        \n",
              "    \n",
              "            var marker_32c63b491caaa56ea898d41c6fbfda8f = L.marker(\n",
              "                [24.96606, 121.54297],\n",
              "                {}\n",
              "            ).addTo(map_812cb4e538371487227b1b2221422d43);\n",
              "        \n",
              "    \n",
              "            var marker_67d9970f68f4e4e4ecd490375f9b1445 = L.marker(\n",
              "                [24.96357, 121.51329],\n",
              "                {}\n",
              "            ).addTo(map_812cb4e538371487227b1b2221422d43);\n",
              "        \n",
              "    \n",
              "            var marker_992e7681dfe26f74f8f593a8fa519b40 = L.marker(\n",
              "                [24.98236, 121.53923],\n",
              "                {}\n",
              "            ).addTo(map_812cb4e538371487227b1b2221422d43);\n",
              "        \n",
              "    \n",
              "            var marker_c381559ae1b84d9e5856763744d870e1 = L.marker(\n",
              "                [24.97213, 121.51627],\n",
              "                {}\n",
              "            ).addTo(map_812cb4e538371487227b1b2221422d43);\n",
              "        \n",
              "    \n",
              "            var marker_34ecdeb1ab5ba301c19229a804879dcf = L.marker(\n",
              "                [24.97258, 121.54814],\n",
              "                {}\n",
              "            ).addTo(map_812cb4e538371487227b1b2221422d43);\n",
              "        \n",
              "    \n",
              "            var marker_e1c67488e46eeefce66e89d8d527c09a = L.marker(\n",
              "                [24.96412, 121.54273],\n",
              "                {}\n",
              "            ).addTo(map_812cb4e538371487227b1b2221422d43);\n",
              "        \n",
              "    \n",
              "            var marker_126ba3482a76c5be91f441c0a2602242 = L.marker(\n",
              "                [24.96211, 121.54928],\n",
              "                {}\n",
              "            ).addTo(map_812cb4e538371487227b1b2221422d43);\n",
              "        \n",
              "    \n",
              "            var marker_726cc4d801375855aa6e380b8a7a1c75 = L.marker(\n",
              "                [24.96357, 121.54951],\n",
              "                {}\n",
              "            ).addTo(map_812cb4e538371487227b1b2221422d43);\n",
              "        \n",
              "    \n",
              "            var marker_cc711c21e9e372f945acf8c4c214b112 = L.marker(\n",
              "                [24.95743, 121.47516],\n",
              "                {}\n",
              "            ).addTo(map_812cb4e538371487227b1b2221422d43);\n",
              "        \n",
              "    \n",
              "            var marker_2c3463192dbc38efb43e907a779f7a34 = L.marker(\n",
              "                [24.97429, 121.53917],\n",
              "                {}\n",
              "            ).addTo(map_812cb4e538371487227b1b2221422d43);\n",
              "        \n",
              "    \n",
              "            var marker_67115ea07c609f5540d54a9da811e9e8 = L.marker(\n",
              "                [24.9496, 121.53018],\n",
              "                {}\n",
              "            ).addTo(map_812cb4e538371487227b1b2221422d43);\n",
              "        \n",
              "    \n",
              "            var marker_01b8ccb8faaca6b040434b7a77e7b302 = L.marker(\n",
              "                [24.97433, 121.5431],\n",
              "                {}\n",
              "            ).addTo(map_812cb4e538371487227b1b2221422d43);\n",
              "        \n",
              "    \n",
              "            var marker_0f7dda28c43d82ea69906655f7078c5a = L.marker(\n",
              "                [24.96464, 121.51623],\n",
              "                {}\n",
              "            ).addTo(map_812cb4e538371487227b1b2221422d43);\n",
              "        \n",
              "    \n",
              "            var marker_ff2dba28a64f53a2f68313c611d132ac = L.marker(\n",
              "                [24.98254, 121.54395],\n",
              "                {}\n",
              "            ).addTo(map_812cb4e538371487227b1b2221422d43);\n",
              "        \n",
              "    \n",
              "            var marker_fbf6d9b5156bbe24fcae03a6cbe14bb9 = L.marker(\n",
              "                [24.95095, 121.48458],\n",
              "                {}\n",
              "            ).addTo(map_812cb4e538371487227b1b2221422d43);\n",
              "        \n",
              "    \n",
              "            var marker_eb77dabb2288a92241f8a18602f8cc36 = L.marker(\n",
              "                [24.97519, 121.53151],\n",
              "                {}\n",
              "            ).addTo(map_812cb4e538371487227b1b2221422d43);\n",
              "        \n",
              "    \n",
              "            var marker_775394ff679ef1c261b71c368a02204e = L.marker(\n",
              "                [24.97501, 121.5273],\n",
              "                {}\n",
              "            ).addTo(map_812cb4e538371487227b1b2221422d43);\n",
              "        \n",
              "    \n",
              "            var marker_68a4742565dddb7a65076b76ed831023 = L.marker(\n",
              "                [24.97744, 121.54458],\n",
              "                {}\n",
              "            ).addTo(map_812cb4e538371487227b1b2221422d43);\n",
              "        \n",
              "    \n",
              "            var marker_82f7238ece23458f5d975847c7ac0036 = L.marker(\n",
              "                [24.96334, 121.54767],\n",
              "                {}\n",
              "            ).addTo(map_812cb4e538371487227b1b2221422d43);\n",
              "        \n",
              "    \n",
              "            var marker_8cf4bfa9d315dd927fb2591929a4c5b3 = L.marker(\n",
              "                [24.97073, 121.517],\n",
              "                {}\n",
              "            ).addTo(map_812cb4e538371487227b1b2221422d43);\n",
              "        \n",
              "    \n",
              "            var marker_3dbfe275516edbaf208a3e040b61347a = L.marker(\n",
              "                [24.95885, 121.51359],\n",
              "                {}\n",
              "            ).addTo(map_812cb4e538371487227b1b2221422d43);\n",
              "        \n",
              "    \n",
              "            var marker_b263abf6f179f63726af580dee910b4a = L.marker(\n",
              "                [24.98203, 121.54348],\n",
              "                {}\n",
              "            ).addTo(map_812cb4e538371487227b1b2221422d43);\n",
              "        \n",
              "    \n",
              "            var marker_987cc0125cee0cdd0a6494a0a102d229 = L.marker(\n",
              "                [24.96299, 121.51284],\n",
              "                {}\n",
              "            ).addTo(map_812cb4e538371487227b1b2221422d43);\n",
              "        \n",
              "    \n",
              "            var marker_c980b7b3e9d8c542354bee4e1c47e8ee = L.marker(\n",
              "                [24.96968, 121.54522],\n",
              "                {}\n",
              "            ).addTo(map_812cb4e538371487227b1b2221422d43);\n",
              "        \n",
              "    \n",
              "            var marker_fb1c74215fb75bc57f06f3445b45cba8 = L.marker(\n",
              "                [24.97886, 121.53464],\n",
              "                {}\n",
              "            ).addTo(map_812cb4e538371487227b1b2221422d43);\n",
              "        \n",
              "    \n",
              "            var marker_a287efc47eef7343e77cc32cabc8b30d = L.marker(\n",
              "                [24.96731, 121.51486],\n",
              "                {}\n",
              "            ).addTo(map_812cb4e538371487227b1b2221422d43);\n",
              "        \n",
              "    \n",
              "            var marker_a8c7deda47de81a53dcd982ca3eb4774 = L.marker(\n",
              "                [24.97433, 121.53863],\n",
              "                {}\n",
              "            ).addTo(map_812cb4e538371487227b1b2221422d43);\n",
              "        \n",
              "    \n",
              "            var marker_79b10a1db9f3a2190b1ed41b135efba1 = L.marker(\n",
              "                [24.97937, 121.54245],\n",
              "                {}\n",
              "            ).addTo(map_812cb4e538371487227b1b2221422d43);\n",
              "        \n",
              "    \n",
              "            var marker_09eb3729fcd6f406f34ba8b874ed6231 = L.marker(\n",
              "                [24.96334, 121.54767],\n",
              "                {}\n",
              "            ).addTo(map_812cb4e538371487227b1b2221422d43);\n",
              "        \n",
              "    \n",
              "            var marker_58d2341f5471075ae31f98a1aee00ae4 = L.marker(\n",
              "                [24.9746, 121.53046],\n",
              "                {}\n",
              "            ).addTo(map_812cb4e538371487227b1b2221422d43);\n",
              "        \n",
              "    \n",
              "            var marker_143829e5758a18b4ddc7873e77723bda = L.marker(\n",
              "                [24.96945, 121.5449],\n",
              "                {}\n",
              "            ).addTo(map_812cb4e538371487227b1b2221422d43);\n",
              "        \n",
              "    \n",
              "            var marker_5f331ba2c4446caa861acc93c8b1a1cc = L.marker(\n",
              "                [24.96515, 121.53737],\n",
              "                {}\n",
              "            ).addTo(map_812cb4e538371487227b1b2221422d43);\n",
              "        \n",
              "    \n",
              "            var marker_4032c3b15d709f4ac1569e96e947422a = L.marker(\n",
              "                [24.97371, 121.52984],\n",
              "                {}\n",
              "            ).addTo(map_812cb4e538371487227b1b2221422d43);\n",
              "        \n",
              "    \n",
              "            var marker_d4128dd64f9411b3a46eeb53ef4f4338 = L.marker(\n",
              "                [24.97305, 121.53994],\n",
              "                {}\n",
              "            ).addTo(map_812cb4e538371487227b1b2221422d43);\n",
              "        \n",
              "    \n",
              "            var marker_3e818c45525bdc2084a01039b96e9f4f = L.marker(\n",
              "                [24.96772, 121.54102],\n",
              "                {}\n",
              "            ).addTo(map_812cb4e538371487227b1b2221422d43);\n",
              "        \n",
              "    \n",
              "            var marker_9104c5b6265240308d11a83ecce9497b = L.marker(\n",
              "                [24.95425, 121.5399],\n",
              "                {}\n",
              "            ).addTo(map_812cb4e538371487227b1b2221422d43);\n",
              "        \n",
              "    \n",
              "            var marker_7ea63b1e0b123559e9d0042b0d9272cb = L.marker(\n",
              "                [24.96322, 121.51237],\n",
              "                {}\n",
              "            ).addTo(map_812cb4e538371487227b1b2221422d43);\n",
              "        \n",
              "    \n",
              "            var marker_b0b272c53596c68c7b4705cb483d614f = L.marker(\n",
              "                [24.95618, 121.53844],\n",
              "                {}\n",
              "            ).addTo(map_812cb4e538371487227b1b2221422d43);\n",
              "        \n",
              "    \n",
              "            var marker_f92177d6b6e48aa9bb3b2319e696d263 = L.marker(\n",
              "                [24.97026, 121.51642],\n",
              "                {}\n",
              "            ).addTo(map_812cb4e538371487227b1b2221422d43);\n",
              "        \n",
              "    \n",
              "            var marker_e3113195580a012d795c9873bb28ff20 = L.marker(\n",
              "                [24.96581, 121.54086],\n",
              "                {}\n",
              "            ).addTo(map_812cb4e538371487227b1b2221422d43);\n",
              "        \n",
              "    \n",
              "            var marker_70c4fc8dbfd47547b6a1188cb8570155 = L.marker(\n",
              "                [24.98118, 121.53788],\n",
              "                {}\n",
              "            ).addTo(map_812cb4e538371487227b1b2221422d43);\n",
              "        \n",
              "    \n",
              "            var marker_198a0bfc2b7f6492c7bc3bd0d08daa70 = L.marker(\n",
              "                [24.9512, 121.549],\n",
              "                {}\n",
              "            ).addTo(map_812cb4e538371487227b1b2221422d43);\n",
              "        \n",
              "    \n",
              "            var marker_42e12f0181b406f593a17dd7bb45bf6e = L.marker(\n",
              "                [24.98674, 121.51844],\n",
              "                {}\n",
              "            ).addTo(map_812cb4e538371487227b1b2221422d43);\n",
              "        \n",
              "    \n",
              "            var marker_b0ff4f8023f8570b3dc39cb96bb67d80 = L.marker(\n",
              "                [24.96735, 121.54464],\n",
              "                {}\n",
              "            ).addTo(map_812cb4e538371487227b1b2221422d43);\n",
              "        \n",
              "    \n",
              "            var marker_e3c697c93510ab108dc02a9e54c61169 = L.marker(\n",
              "                [24.97509, 121.53644],\n",
              "                {}\n",
              "            ).addTo(map_812cb4e538371487227b1b2221422d43);\n",
              "        \n",
              "    \n",
              "            var marker_18b32aa072da7f3a9ccea493893f9122 = L.marker(\n",
              "                [24.97433, 121.5431],\n",
              "                {}\n",
              "            ).addTo(map_812cb4e538371487227b1b2221422d43);\n",
              "        \n",
              "    \n",
              "            var marker_3b0f4e2f49cbf26ae54f748ac80795fb = L.marker(\n",
              "                [24.95425, 121.5399],\n",
              "                {}\n",
              "            ).addTo(map_812cb4e538371487227b1b2221422d43);\n",
              "        \n",
              "    \n",
              "            var marker_f1a2aa552ca072f6704491f2d898f844 = L.marker(\n",
              "                [24.97841, 121.5428],\n",
              "                {}\n",
              "            ).addTo(map_812cb4e538371487227b1b2221422d43);\n",
              "        \n",
              "    \n",
              "            var marker_9fc4deb2403226b97b9da204e00f9a8d = L.marker(\n",
              "                [24.98203, 121.54348],\n",
              "                {}\n",
              "            ).addTo(map_812cb4e538371487227b1b2221422d43);\n",
              "        \n",
              "    \n",
              "            var marker_3d1d403e183a277702f07926411570c9 = L.marker(\n",
              "                [24.97217, 121.53471],\n",
              "                {}\n",
              "            ).addTo(map_812cb4e538371487227b1b2221422d43);\n",
              "        \n",
              "    \n",
              "            var marker_990350e1f748028323697ecfaa8159f3 = L.marker(\n",
              "                [24.95744, 121.53711],\n",
              "                {}\n",
              "            ).addTo(map_812cb4e538371487227b1b2221422d43);\n",
              "        \n",
              "    \n",
              "            var marker_fa9a3d778a90adb6ac8fcaefc4107030 = L.marker(\n",
              "                [24.95674, 121.534],\n",
              "                {}\n",
              "            ).addTo(map_812cb4e538371487227b1b2221422d43);\n",
              "        \n",
              "    \n",
              "            var marker_938e8a657581d9bad55013a291d66b65 = L.marker(\n",
              "                [24.96735, 121.54464],\n",
              "                {}\n",
              "            ).addTo(map_812cb4e538371487227b1b2221422d43);\n",
              "        \n",
              "    \n",
              "            var marker_aee555a1b383ab7bc3b3888af007e135 = L.marker(\n",
              "                [24.9796, 121.5414],\n",
              "                {}\n",
              "            ).addTo(map_812cb4e538371487227b1b2221422d43);\n",
              "        \n",
              "    \n",
              "            var marker_e9d30b63ca1fbf1e77925752d95bf236 = L.marker(\n",
              "                [24.96299, 121.51252],\n",
              "                {}\n",
              "            ).addTo(map_812cb4e538371487227b1b2221422d43);\n",
              "        \n",
              "    \n",
              "            var marker_8fdbd7329051bda97b296469e5474645 = L.marker(\n",
              "                [24.99176, 121.53456],\n",
              "                {}\n",
              "            ).addTo(map_812cb4e538371487227b1b2221422d43);\n",
              "        \n",
              "    \n",
              "            var marker_8082042183de17c0d8abca87b5be959f = L.marker(\n",
              "                [24.97003, 121.5458],\n",
              "                {}\n",
              "            ).addTo(map_812cb4e538371487227b1b2221422d43);\n",
              "        \n",
              "    \n",
              "            var marker_415fdeb5a75feb368ec895c5da4f9806 = L.marker(\n",
              "                [24.94155, 121.50381],\n",
              "                {}\n",
              "            ).addTo(map_812cb4e538371487227b1b2221422d43);\n",
              "        \n",
              "    \n",
              "            var marker_bbf8427ac53bd0fcd42035fa91482ab9 = L.marker(\n",
              "                [24.98178, 121.54059],\n",
              "                {}\n",
              "            ).addTo(map_812cb4e538371487227b1b2221422d43);\n",
              "        \n",
              "    \n",
              "            var marker_d8694809379c84841663b738c0bb26af = L.marker(\n",
              "                [24.96696, 121.53992],\n",
              "                {}\n",
              "            ).addTo(map_812cb4e538371487227b1b2221422d43);\n",
              "        \n",
              "    \n",
              "            var marker_8491d4ec27749c252785c47de11046f9 = L.marker(\n",
              "                [24.97229, 121.53445],\n",
              "                {}\n",
              "            ).addTo(map_812cb4e538371487227b1b2221422d43);\n",
              "        \n",
              "    \n",
              "            var marker_6629fa68b47e6f87aeec8ca8627c84b8 = L.marker(\n",
              "                [24.95885, 121.51359],\n",
              "                {}\n",
              "            ).addTo(map_812cb4e538371487227b1b2221422d43);\n",
              "        \n",
              "    \n",
              "            var marker_9005024d1f4dfb58cd306e2558a9a681 = L.marker(\n",
              "                [24.97161, 121.53423],\n",
              "                {}\n",
              "            ).addTo(map_812cb4e538371487227b1b2221422d43);\n",
              "        \n",
              "    \n",
              "            var marker_9635f9bd9bd88e3b3e487450369ead01 = L.marker(\n",
              "                [24.96622, 121.51668],\n",
              "                {}\n",
              "            ).addTo(map_812cb4e538371487227b1b2221422d43);\n",
              "        \n",
              "    \n",
              "            var marker_d3f573bc360e4f00a8cb3a7e9c645ef0 = L.marker(\n",
              "                [24.98203, 121.54348],\n",
              "                {}\n",
              "            ).addTo(map_812cb4e538371487227b1b2221422d43);\n",
              "        \n",
              "    \n",
              "            var marker_7c4f4c8d29706e9679a850f3937a41ec = L.marker(\n",
              "                [24.97369, 121.52979],\n",
              "                {}\n",
              "            ).addTo(map_812cb4e538371487227b1b2221422d43);\n",
              "        \n",
              "    \n",
              "            var marker_9f877658284264d445884c756f336d91 = L.marker(\n",
              "                [24.9546, 121.56627],\n",
              "                {}\n",
              "            ).addTo(map_812cb4e538371487227b1b2221422d43);\n",
              "        \n",
              "    \n",
              "            var marker_08dce7709d9939839bd49cacb79feca0 = L.marker(\n",
              "                [24.98203, 121.54348],\n",
              "                {}\n",
              "            ).addTo(map_812cb4e538371487227b1b2221422d43);\n",
              "        \n",
              "    \n",
              "            var marker_89cbbc2e3a9b6ca24ada333043aaf3a5 = L.marker(\n",
              "                [24.94883, 121.52954],\n",
              "                {}\n",
              "            ).addTo(map_812cb4e538371487227b1b2221422d43);\n",
              "        \n",
              "    \n",
              "            var marker_be08af4bda1074c9d79a2a37a6a1f854 = L.marker(\n",
              "                [24.95394, 121.55174],\n",
              "                {}\n",
              "            ).addTo(map_812cb4e538371487227b1b2221422d43);\n",
              "        \n",
              "    \n",
              "            var marker_d23a5d2c7c38fe525e997ac6c59f85c9 = L.marker(\n",
              "                [24.97425, 121.53814],\n",
              "                {}\n",
              "            ).addTo(map_812cb4e538371487227b1b2221422d43);\n",
              "        \n",
              "    \n",
              "            var marker_1b663661dd25d22b0ca7f621c4b6264f = L.marker(\n",
              "                [24.97071, 121.54069],\n",
              "                {}\n",
              "            ).addTo(map_812cb4e538371487227b1b2221422d43);\n",
              "        \n",
              "    \n",
              "            var marker_722d025252ca79fdf64bf76f8f5a8c06 = L.marker(\n",
              "                [24.96674, 121.54067],\n",
              "                {}\n",
              "            ).addTo(map_812cb4e538371487227b1b2221422d43);\n",
              "        \n",
              "    \n",
              "            var marker_fb8826510c3df3bd2e80b71b66b73b16 = L.marker(\n",
              "                [24.97201, 121.54722],\n",
              "                {}\n",
              "            ).addTo(map_812cb4e538371487227b1b2221422d43);\n",
              "        \n",
              "    \n",
              "            var marker_abca0b3b0b3880c3048d37c37395cca1 = L.marker(\n",
              "                [24.9832, 121.51812],\n",
              "                {}\n",
              "            ).addTo(map_812cb4e538371487227b1b2221422d43);\n",
              "        \n",
              "    \n",
              "            var marker_664c429e81ea4f10a0a88fbe8ee4d937 = L.marker(\n",
              "                [24.96606, 121.54297],\n",
              "                {}\n",
              "            ).addTo(map_812cb4e538371487227b1b2221422d43);\n",
              "        \n",
              "    \n",
              "            var marker_b9f1dc3ca3de015e012fe4de7b1116a1 = L.marker(\n",
              "                [24.97795, 121.53451],\n",
              "                {}\n",
              "            ).addTo(map_812cb4e538371487227b1b2221422d43);\n",
              "        \n",
              "    \n",
              "            var marker_f4b7b7ae86d20f7ee5721e22097bf7e6 = L.marker(\n",
              "                [24.98343, 121.53762],\n",
              "                {}\n",
              "            ).addTo(map_812cb4e538371487227b1b2221422d43);\n",
              "        \n",
              "    \n",
              "            var marker_3a2196f5e76c79eef92f2f77d265bad2 = L.marker(\n",
              "                [24.95562, 121.53872],\n",
              "                {}\n",
              "            ).addTo(map_812cb4e538371487227b1b2221422d43);\n",
              "        \n",
              "    \n",
              "            var marker_f7aae3570d2243dd716ed8bc9e8dddea = L.marker(\n",
              "                [24.93885, 121.50383],\n",
              "                {}\n",
              "            ).addTo(map_812cb4e538371487227b1b2221422d43);\n",
              "        \n",
              "    \n",
              "            var marker_54ded88ebf5dd88c6ca6012a40f3ec2e = L.marker(\n",
              "                [24.98872, 121.53411],\n",
              "                {}\n",
              "            ).addTo(map_812cb4e538371487227b1b2221422d43);\n",
              "        \n",
              "    \n",
              "            var marker_62d14459199cf5fa9d5ac5bfe1b1ed98 = L.marker(\n",
              "                [24.97388, 121.52981],\n",
              "                {}\n",
              "            ).addTo(map_812cb4e538371487227b1b2221422d43);\n",
              "        \n",
              "    \n",
              "            var marker_34c893ab8ed7c50e0eeccd631179768f = L.marker(\n",
              "                [24.97631, 121.54436],\n",
              "                {}\n",
              "            ).addTo(map_812cb4e538371487227b1b2221422d43);\n",
              "        \n",
              "    \n",
              "            var marker_18b9e4e2372ef592a90d72550665ffad = L.marker(\n",
              "                [24.96412, 121.5167],\n",
              "                {}\n",
              "            ).addTo(map_812cb4e538371487227b1b2221422d43);\n",
              "        \n",
              "    \n",
              "            var marker_f1b773ebdfa8753db33815511db78b91 = L.marker(\n",
              "                [24.97015, 121.54494],\n",
              "                {}\n",
              "            ).addTo(map_812cb4e538371487227b1b2221422d43);\n",
              "        \n",
              "    \n",
              "            var marker_15f25bdc05fc97ba6a7b3950ed5519cd = L.marker(\n",
              "                [24.95744, 121.53711],\n",
              "                {}\n",
              "            ).addTo(map_812cb4e538371487227b1b2221422d43);\n",
              "        \n",
              "    \n",
              "            var marker_0bf350e0339feeaecc619cce320cfb0f = L.marker(\n",
              "                [24.97538, 121.54971],\n",
              "                {}\n",
              "            ).addTo(map_812cb4e538371487227b1b2221422d43);\n",
              "        \n",
              "    \n",
              "            var marker_11b1118922368869cc11696be5f7c4f3 = L.marker(\n",
              "                [24.97003, 121.51696],\n",
              "                {}\n",
              "            ).addTo(map_812cb4e538371487227b1b2221422d43);\n",
              "        \n",
              "    \n",
              "            var marker_33ca9c6ae47c885490d331971f1a7421 = L.marker(\n",
              "                [24.93885, 121.50383],\n",
              "                {}\n",
              "            ).addTo(map_812cb4e538371487227b1b2221422d43);\n",
              "        \n",
              "    \n",
              "            var marker_ef0909953083026db03c4678defee1e0 = L.marker(\n",
              "                [24.94935, 121.53046],\n",
              "                {}\n",
              "            ).addTo(map_812cb4e538371487227b1b2221422d43);\n",
              "        \n",
              "    \n",
              "            var marker_b171bad5719ea51e250ee5829c4fe9df = L.marker(\n",
              "                [24.94826, 121.49587],\n",
              "                {}\n",
              "            ).addTo(map_812cb4e538371487227b1b2221422d43);\n",
              "        \n",
              "    \n",
              "            var marker_684e64b53a8751bdee613261e7f437c6 = L.marker(\n",
              "                [24.97577, 121.53475],\n",
              "                {}\n",
              "            ).addTo(map_812cb4e538371487227b1b2221422d43);\n",
              "        \n",
              "    \n",
              "            var marker_50ebe06830cc1413fec37839023767e8 = L.marker(\n",
              "                [24.96674, 121.54067],\n",
              "                {}\n",
              "            ).addTo(map_812cb4e538371487227b1b2221422d43);\n",
              "        \n",
              "    \n",
              "            var marker_5b436beee1cfbb1b89c110c11629e774 = L.marker(\n",
              "                [24.99006, 121.5346],\n",
              "                {}\n",
              "            ).addTo(map_812cb4e538371487227b1b2221422d43);\n",
              "        \n",
              "    \n",
              "            var marker_f2232812d94ca66a563012bd610a8dfc = L.marker(\n",
              "                [24.96431, 121.54063],\n",
              "                {}\n",
              "            ).addTo(map_812cb4e538371487227b1b2221422d43);\n",
              "        \n",
              "    \n",
              "            var marker_95b1b4caa8c02dc6d06c45face7535a1 = L.marker(\n",
              "                [24.98407, 121.51748],\n",
              "                {}\n",
              "            ).addTo(map_812cb4e538371487227b1b2221422d43);\n",
              "        \n",
              "    \n",
              "            var marker_3d6545ba0d288b0f4cf7112bc238647d = L.marker(\n",
              "                [24.96871, 121.54651],\n",
              "                {}\n",
              "            ).addTo(map_812cb4e538371487227b1b2221422d43);\n",
              "        \n",
              "    \n",
              "            var marker_8695243251ebde732eecd2721d7a649a = L.marker(\n",
              "                [24.96867, 121.54331],\n",
              "                {}\n",
              "            ).addTo(map_812cb4e538371487227b1b2221422d43);\n",
              "        \n",
              "    \n",
              "            var marker_7e9b0e98b0b75b4ef0441748c15c67b8 = L.marker(\n",
              "                [24.98254, 121.54395],\n",
              "                {}\n",
              "            ).addTo(map_812cb4e538371487227b1b2221422d43);\n",
              "        \n",
              "    \n",
              "            var marker_234ae217a9971acf267dc7eda4bf6929 = L.marker(\n",
              "                [24.97281, 121.53265],\n",
              "                {}\n",
              "            ).addTo(map_812cb4e538371487227b1b2221422d43);\n",
              "        \n",
              "    \n",
              "            var marker_8b1b30932393f2056cc50db302201eb1 = L.marker(\n",
              "                [24.97371, 121.54951],\n",
              "                {}\n",
              "            ).addTo(map_812cb4e538371487227b1b2221422d43);\n",
              "        \n",
              "    \n",
              "            var marker_d886aee629b8a13add96689e86383733 = L.marker(\n",
              "                [24.97433, 121.5431],\n",
              "                {}\n",
              "            ).addTo(map_812cb4e538371487227b1b2221422d43);\n",
              "        \n",
              "    \n",
              "            var marker_ec66ded62d9354cc22e11825b2444dbe = L.marker(\n",
              "                [24.98223, 121.53597],\n",
              "                {}\n",
              "            ).addTo(map_812cb4e538371487227b1b2221422d43);\n",
              "        \n",
              "    \n",
              "            var marker_1ab1773a4bab14e2104ae653a55195eb = L.marker(\n",
              "                [24.998, 121.5155],\n",
              "                {}\n",
              "            ).addTo(map_812cb4e538371487227b1b2221422d43);\n",
              "        \n",
              "    \n",
              "            var marker_8d3c8c0fbc6b680b7564b1392f1f79cc = L.marker(\n",
              "                [24.9711, 121.5317],\n",
              "                {}\n",
              "            ).addTo(map_812cb4e538371487227b1b2221422d43);\n",
              "        \n",
              "    \n",
              "            var marker_6ee3118749c8947d03b68170743a3792 = L.marker(\n",
              "                [24.96412, 121.5167],\n",
              "                {}\n",
              "            ).addTo(map_812cb4e538371487227b1b2221422d43);\n",
              "        \n",
              "    \n",
              "            var marker_0699ce931892727d45e236f7dcbf6d53 = L.marker(\n",
              "                [24.95719, 121.47353],\n",
              "                {}\n",
              "            ).addTo(map_812cb4e538371487227b1b2221422d43);\n",
              "        \n",
              "    \n",
              "            var marker_cc7fd0e2bd0e7fd79a30562de87ecaff = L.marker(\n",
              "                [24.97585, 121.54516],\n",
              "                {}\n",
              "            ).addTo(map_812cb4e538371487227b1b2221422d43);\n",
              "        \n",
              "    \n",
              "            var marker_eabec3d5fcbb0844000f85950f545cc4 = L.marker(\n",
              "                [24.96674, 121.54067],\n",
              "                {}\n",
              "            ).addTo(map_812cb4e538371487227b1b2221422d43);\n",
              "        \n",
              "    \n",
              "            var marker_1f807a0061f094bf58f6b03df180b280 = L.marker(\n",
              "                [24.96515, 121.53737],\n",
              "                {}\n",
              "            ).addTo(map_812cb4e538371487227b1b2221422d43);\n",
              "        \n",
              "    \n",
              "            var marker_ed63bfa9a6f0db90dae9499acbe95bf3 = L.marker(\n",
              "                [24.96324, 121.51241],\n",
              "                {}\n",
              "            ).addTo(map_812cb4e538371487227b1b2221422d43);\n",
              "        \n",
              "    \n",
              "            var marker_e82cb5ed41a91496fb2e98d57db88e73 = L.marker(\n",
              "                [24.96143, 121.50827],\n",
              "                {}\n",
              "            ).addTo(map_812cb4e538371487227b1b2221422d43);\n",
              "        \n",
              "    \n",
              "            var marker_de3fe0f5c69c90ab473b3c8ff417c5fa = L.marker(\n",
              "                [24.96299, 121.51284],\n",
              "                {}\n",
              "            ).addTo(map_812cb4e538371487227b1b2221422d43);\n",
              "        \n",
              "    \n",
              "            var marker_42b9463222ba964476da80a1b3ddd1fd = L.marker(\n",
              "                [24.95204, 121.54842],\n",
              "                {}\n",
              "            ).addTo(map_812cb4e538371487227b1b2221422d43);\n",
              "        \n",
              "    \n",
              "            var marker_04c5d8894fb44dcb3664ca3421a09d81 = L.marker(\n",
              "                [24.98085, 121.54391],\n",
              "                {}\n",
              "            ).addTo(map_812cb4e538371487227b1b2221422d43);\n",
              "        \n",
              "    \n",
              "            var marker_03c5eb41c72fa6211b95631dccc35ea3 = L.marker(\n",
              "                [24.97417, 121.52999],\n",
              "                {}\n",
              "            ).addTo(map_812cb4e538371487227b1b2221422d43);\n",
              "        \n",
              "    \n",
              "            var marker_f78d326b11aa5ceee9f033a7dd3886e9 = L.marker(\n",
              "                [24.96853, 121.54413],\n",
              "                {}\n",
              "            ).addTo(map_812cb4e538371487227b1b2221422d43);\n",
              "        \n",
              "    \n",
              "            var marker_2d957363ed2dda2e1be9474af698857e = L.marker(\n",
              "                [24.96571, 121.54089],\n",
              "                {}\n",
              "            ).addTo(map_812cb4e538371487227b1b2221422d43);\n",
              "        \n",
              "    \n",
              "            var marker_b1f758e8af040eba21d5478f11e0de03 = L.marker(\n",
              "                [24.95505, 121.55964],\n",
              "                {}\n",
              "            ).addTo(map_812cb4e538371487227b1b2221422d43);\n",
              "        \n",
              "    \n",
              "            var marker_b8253ef474464057f5db0cb5582ba3f0 = L.marker(\n",
              "                [24.983, 121.54022],\n",
              "                {}\n",
              "            ).addTo(map_812cb4e538371487227b1b2221422d43);\n",
              "        \n",
              "    \n",
              "            var marker_20b9a3f11c881c8733485de11c5d98cc = L.marker(\n",
              "                [24.97345, 121.54093],\n",
              "                {}\n",
              "            ).addTo(map_812cb4e538371487227b1b2221422d43);\n",
              "        \n",
              "    \n",
              "            var marker_920cee4a3ec1a6f0a8e8d9443af1a37e = L.marker(\n",
              "                [24.98872, 121.53408],\n",
              "                {}\n",
              "            ).addTo(map_812cb4e538371487227b1b2221422d43);\n",
              "        \n",
              "    \n",
              "            var marker_2a258633fb75ab0e8e2dd68789915de6 = L.marker(\n",
              "                [24.98182, 121.54086],\n",
              "                {}\n",
              "            ).addTo(map_812cb4e538371487227b1b2221422d43);\n",
              "        \n",
              "    \n",
              "            var marker_670ada68a44d998804fbfbd9ad4081ab = L.marker(\n",
              "                [24.97913, 121.53666],\n",
              "                {}\n",
              "            ).addTo(map_812cb4e538371487227b1b2221422d43);\n",
              "        \n",
              "    \n",
              "            var marker_2fa147dfa77cfb46c6f51590bacc0a0d = L.marker(\n",
              "                [24.96182, 121.51222],\n",
              "                {}\n",
              "            ).addTo(map_812cb4e538371487227b1b2221422d43);\n",
              "        \n",
              "    \n",
              "            var marker_3e0db4745439aa1fb73c22541c0792e4 = L.marker(\n",
              "                [24.95153, 121.55254],\n",
              "                {}\n",
              "            ).addTo(map_812cb4e538371487227b1b2221422d43);\n",
              "        \n",
              "    \n",
              "            var marker_94d23b238f140716b965d6cdd0087b16 = L.marker(\n",
              "                [24.96464, 121.51531],\n",
              "                {}\n",
              "            ).addTo(map_812cb4e538371487227b1b2221422d43);\n",
              "        \n",
              "    \n",
              "            var marker_c23da39971eeaa5c6eacb9cd32bd7711 = L.marker(\n",
              "                [24.97544, 121.53119],\n",
              "                {}\n",
              "            ).addTo(map_812cb4e538371487227b1b2221422d43);\n",
              "        \n",
              "    \n",
              "            var marker_9041c5eeeb64c50d71cab75494fa0982 = L.marker(\n",
              "                [24.96322, 121.51237],\n",
              "                {}\n",
              "            ).addTo(map_812cb4e538371487227b1b2221422d43);\n",
              "        \n",
              "    \n",
              "            var marker_9c28258036a19cd71b7a7779a7c11dcd = L.marker(\n",
              "                [24.98203, 121.54348],\n",
              "                {}\n",
              "            ).addTo(map_812cb4e538371487227b1b2221422d43);\n",
              "        \n",
              "    \n",
              "            var marker_05c2f21048eb979eb2e042b3e69cf22c = L.marker(\n",
              "                [24.95591, 121.53956],\n",
              "                {}\n",
              "            ).addTo(map_812cb4e538371487227b1b2221422d43);\n",
              "        \n",
              "    \n",
              "            var marker_dcd4696ba46a3ffc3fac66908d1b28b0 = L.marker(\n",
              "                [24.96628, 121.54196],\n",
              "                {}\n",
              "            ).addTo(map_812cb4e538371487227b1b2221422d43);\n",
              "        \n",
              "    \n",
              "            var marker_11b18f0dee284ff7dcb258f008fdcf3d = L.marker(\n",
              "                [24.9748, 121.53059],\n",
              "                {}\n",
              "            ).addTo(map_812cb4e538371487227b1b2221422d43);\n",
              "        \n",
              "    \n",
              "            var marker_bad803ae3e6b655e417a9c9647f6e08b = L.marker(\n",
              "                [24.97937, 121.54245],\n",
              "                {}\n",
              "            ).addTo(map_812cb4e538371487227b1b2221422d43);\n",
              "        \n",
              "    \n",
              "            var marker_9901164f4bccb0936fc56db62b932914 = L.marker(\n",
              "                [24.96165, 121.55011],\n",
              "                {}\n",
              "            ).addTo(map_812cb4e538371487227b1b2221422d43);\n",
              "        \n",
              "    \n",
              "            var marker_6da132386ee7e5f42b43f10c558e2432 = L.marker(\n",
              "                [24.96447, 121.51649],\n",
              "                {}\n",
              "            ).addTo(map_812cb4e538371487227b1b2221422d43);\n",
              "        \n",
              "    \n",
              "            var marker_0747ccca71ea27dcecf0aad095e2d025 = L.marker(\n",
              "                [24.95836, 121.53756],\n",
              "                {}\n",
              "            ).addTo(map_812cb4e538371487227b1b2221422d43);\n",
              "        \n",
              "    \n",
              "            var marker_d1ca8310fcaf47901fd3b9dcd2ecc501 = L.marker(\n",
              "                [24.97077, 121.54634],\n",
              "                {}\n",
              "            ).addTo(map_812cb4e538371487227b1b2221422d43);\n",
              "        \n",
              "    \n",
              "            var marker_38b61365498d080636b99a378baca902 = L.marker(\n",
              "                [24.97744, 121.54458],\n",
              "                {}\n",
              "            ).addTo(map_812cb4e538371487227b1b2221422d43);\n",
              "        \n",
              "    \n",
              "            var marker_7771857ee7f59f83745223bdcf4315aa = L.marker(\n",
              "                [24.98203, 121.54348],\n",
              "                {}\n",
              "            ).addTo(map_812cb4e538371487227b1b2221422d43);\n",
              "        \n",
              "    \n",
              "            var marker_de3b0ca167b44d49314997b2938fddf6 = L.marker(\n",
              "                [24.98298, 121.53981],\n",
              "                {}\n",
              "            ).addTo(map_812cb4e538371487227b1b2221422d43);\n",
              "        \n",
              "    \n",
              "            var marker_f34364cbe9705fa69a9e0f9dabe93051 = L.marker(\n",
              "                [24.93207, 121.51597],\n",
              "                {}\n",
              "            ).addTo(map_812cb4e538371487227b1b2221422d43);\n",
              "        \n",
              "    \n",
              "            var marker_bb537952b265be97eccd8aa59d20ca87 = L.marker(\n",
              "                [24.97845, 121.53889],\n",
              "                {}\n",
              "            ).addTo(map_812cb4e538371487227b1b2221422d43);\n",
              "        \n",
              "    \n",
              "            var marker_90fffb4093c4e5aec97e876683a242e7 = L.marker(\n",
              "                [24.94297, 121.50342],\n",
              "                {}\n",
              "            ).addTo(map_812cb4e538371487227b1b2221422d43);\n",
              "        \n",
              "    \n",
              "            var marker_e04e5eb882b0cb2be76bb9e475cef5e8 = L.marker(\n",
              "                [24.983, 121.54026],\n",
              "                {}\n",
              "            ).addTo(map_812cb4e538371487227b1b2221422d43);\n",
              "        \n",
              "    \n",
              "            var marker_d83ab3b9b964d043c892be5497a92480 = L.marker(\n",
              "                [24.9711, 121.5317],\n",
              "                {}\n",
              "            ).addTo(map_812cb4e538371487227b1b2221422d43);\n",
              "        \n",
              "    \n",
              "            var marker_d8c2a6320f4d87d1a09cac93fce1b39b = L.marker(\n",
              "                [24.96042, 121.51462],\n",
              "                {}\n",
              "            ).addTo(map_812cb4e538371487227b1b2221422d43);\n",
              "        \n",
              "    \n",
              "            var marker_7a76414c78dd473630fb82e7aaa8218f = L.marker(\n",
              "                [24.95957, 121.51353],\n",
              "                {}\n",
              "            ).addTo(map_812cb4e538371487227b1b2221422d43);\n",
              "        \n",
              "    \n",
              "            var marker_52321615cbf572b496e96928d4658437 = L.marker(\n",
              "                [24.96756, 121.5423],\n",
              "                {}\n",
              "            ).addTo(map_812cb4e538371487227b1b2221422d43);\n",
              "        \n",
              "    \n",
              "            var marker_834ac378cf57d40b40fd6efc5debf802 = L.marker(\n",
              "                [24.97151, 121.5435],\n",
              "                {}\n",
              "            ).addTo(map_812cb4e538371487227b1b2221422d43);\n",
              "        \n",
              "    \n",
              "            var marker_21393bc5338ec626a48bc31809a0ea02 = L.marker(\n",
              "                [24.95155, 121.55387],\n",
              "                {}\n",
              "            ).addTo(map_812cb4e538371487227b1b2221422d43);\n",
              "        \n",
              "    \n",
              "            var marker_b44f703a628b4a5d4dde361ed6db2c33 = L.marker(\n",
              "                [24.97927, 121.53874],\n",
              "                {}\n",
              "            ).addTo(map_812cb4e538371487227b1b2221422d43);\n",
              "        \n",
              "    \n",
              "            var marker_e8a15ee10312b008f755ef374036b7ae = L.marker(\n",
              "                [24.98872, 121.53408],\n",
              "                {}\n",
              "            ).addTo(map_812cb4e538371487227b1b2221422d43);\n",
              "        \n",
              "    \n",
              "            var marker_3981fc1b357200d475036d9a989cfbe2 = L.marker(\n",
              "                [24.95544, 121.4963],\n",
              "                {}\n",
              "            ).addTo(map_812cb4e538371487227b1b2221422d43);\n",
              "        \n",
              "    \n",
              "            var marker_be96dc7d6d60d8286de07f54bda29cf2 = L.marker(\n",
              "                [24.974, 121.53842],\n",
              "                {}\n",
              "            ).addTo(map_812cb4e538371487227b1b2221422d43);\n",
              "        \n",
              "    \n",
              "            var marker_02e11af82d90135e05b2ee02c9a66ae7 = L.marker(\n",
              "                [24.97198, 121.55063],\n",
              "                {}\n",
              "            ).addTo(map_812cb4e538371487227b1b2221422d43);\n",
              "        \n",
              "    \n",
              "            var marker_3bb934136d65d4dbaa62db56bd11c8de = L.marker(\n",
              "                [24.99156, 121.53406],\n",
              "                {}\n",
              "            ).addTo(map_812cb4e538371487227b1b2221422d43);\n",
              "        \n",
              "    \n",
              "            var marker_4a4c3222ab5906146dd4bc72293316b4 = L.marker(\n",
              "                [24.96447, 121.51649],\n",
              "                {}\n",
              "            ).addTo(map_812cb4e538371487227b1b2221422d43);\n",
              "        \n",
              "    \n",
              "            var marker_ec2c43e927daac3d9d1cb4d3f387c383 = L.marker(\n",
              "                [24.97371, 121.52984],\n",
              "                {}\n",
              "            ).addTo(map_812cb4e538371487227b1b2221422d43);\n",
              "        \n",
              "    \n",
              "            var marker_7c0b020c066ecdcfac8c3b630e8c5bd9 = L.marker(\n",
              "                [24.97433, 121.53863],\n",
              "                {}\n",
              "            ).addTo(map_812cb4e538371487227b1b2221422d43);\n",
              "        \n",
              "    \n",
              "            var marker_4a4a5a21ef76ffc074983a12884e6f54 = L.marker(\n",
              "                [24.96305, 121.51254],\n",
              "                {}\n",
              "            ).addTo(map_812cb4e538371487227b1b2221422d43);\n",
              "        \n",
              "    \n",
              "            var marker_8bb853e5b031e3fa8f0e32e6eb45ee26 = L.marker(\n",
              "                [24.97388, 121.52981],\n",
              "                {}\n",
              "            ).addTo(map_812cb4e538371487227b1b2221422d43);\n",
              "        \n",
              "    \n",
              "            var marker_2bd0a4c8ec3be49e780297ed6b50d3bf = L.marker(\n",
              "                [24.98353, 121.53966],\n",
              "                {}\n",
              "            ).addTo(map_812cb4e538371487227b1b2221422d43);\n",
              "        \n",
              "    \n",
              "            var marker_3a4d50057b981968aba7ef055d7148f6 = L.marker(\n",
              "                [24.98203, 121.54348],\n",
              "                {}\n",
              "            ).addTo(map_812cb4e538371487227b1b2221422d43);\n",
              "        \n",
              "    \n",
              "            var marker_681d10c5f51a1b5178463931d16e39a5 = L.marker(\n",
              "                [24.95663, 121.53765],\n",
              "                {}\n",
              "            ).addTo(map_812cb4e538371487227b1b2221422d43);\n",
              "        \n",
              "    \n",
              "            var marker_a1339f7a7208a9ac9ddb45571b77f134 = L.marker(\n",
              "                [24.97293, 121.54026],\n",
              "                {}\n",
              "            ).addTo(map_812cb4e538371487227b1b2221422d43);\n",
              "        \n",
              "    \n",
              "            var marker_a66442b5515318331b2238c6b5f5f983 = L.marker(\n",
              "                [24.95505, 121.55964],\n",
              "                {}\n",
              "            ).addTo(map_812cb4e538371487227b1b2221422d43);\n",
              "        \n",
              "    \n",
              "            var marker_6bfc29c53aa2131aa3cf479f7ec36c72 = L.marker(\n",
              "                [24.9633, 121.51243],\n",
              "                {}\n",
              "            ).addTo(map_812cb4e538371487227b1b2221422d43);\n",
              "        \n",
              "    \n",
              "            var marker_b728e40060ff8bddeffb721ff4f7e644 = L.marker(\n",
              "                [24.94155, 121.50381],\n",
              "                {}\n",
              "            ).addTo(map_812cb4e538371487227b1b2221422d43);\n",
              "        \n",
              "    \n",
              "            var marker_58accb327a2da8a7f770472fa4b386e3 = L.marker(\n",
              "                [24.97433, 121.5431],\n",
              "                {}\n",
              "            ).addTo(map_812cb4e538371487227b1b2221422d43);\n",
              "        \n",
              "    \n",
              "            var marker_d1cd9bc1e2a6419c45be1f22e5da6778 = L.marker(\n",
              "                [24.97923, 121.53986],\n",
              "                {}\n",
              "            ).addTo(map_812cb4e538371487227b1b2221422d43);\n",
              "        \n",
              "    \n",
              "            var marker_8a276ecd50548a9c184c89a5dad9db30 = L.marker(\n",
              "                [24.96674, 121.54067],\n",
              "                {}\n",
              "            ).addTo(map_812cb4e538371487227b1b2221422d43);\n",
              "        \n",
              "    \n",
              "            var marker_ddf683b9882fc17bb885f390f30265d0 = L.marker(\n",
              "                [24.97433, 121.5431],\n",
              "                {}\n",
              "            ).addTo(map_812cb4e538371487227b1b2221422d43);\n",
              "        \n",
              "&lt;/script&gt;\n",
              "&lt;/html&gt;\" style=\"position:absolute;width:100%;height:100%;left:0;top:0;border:none !important;\" allowfullscreen webkitallowfullscreen mozallowfullscreen></iframe></div></div>"
            ]
          },
          "metadata": {},
          "execution_count": 76
        }
      ]
    },
    {
      "cell_type": "markdown",
      "source": [
        "# **Price prediction**"
      ],
      "metadata": {
        "id": "L9UWEfb4rZit"
      }
    },
    {
      "cell_type": "code",
      "source": [
        "#importing all libraries\n",
        "import tensorflow as tf\n",
        "from sklearn.model_selection import train_test_split\n",
        "from tensorflow.keras.models import Sequential\n",
        "from tensorflow.keras.layers import Dense, Dropout\n",
        "from tensorflow.keras.callbacks import EarlyStopping, LambdaCallback"
      ],
      "metadata": {
        "id": "i1mmXUXj1Dlg"
      },
      "execution_count": 77,
      "outputs": []
    },
    {
      "cell_type": "code",
      "source": [
        "#we use the formula to normalize the data\n",
        "#x_norm = (x-x_min) / (x_max-x_min)\n",
        "df = df.iloc[:,1:]\n",
        "df_norm = (df - df.mean()) / (df.max()-df.min())\n",
        "df_norm.head()"
      ],
      "metadata": {
        "colab": {
          "base_uri": "https://localhost:8080/",
          "height": 268
        },
        "id": "VCbGTTzx1JGK",
        "outputId": "9de2cbe1-23fc-4498-ed5b-033c9d90d8a4"
      },
      "execution_count": 78,
      "outputs": [
        {
          "output_type": "execute_result",
          "data": {
            "text/plain": [
              "   House Age  Distance from nearest Metro station (km)  \\\n",
              "0   0.326197                                 -0.154534   \n",
              "1   0.040809                                 -0.120237   \n",
              "2  -0.100743                                 -0.080732   \n",
              "3  -0.100743                                 -0.080732   \n",
              "4  -0.290241                                 -0.107248   \n",
              "\n",
              "   Number of convenience stores  latitude  longitude  Number of bedrooms  \\\n",
              "0                       0.59058  0.169049   0.074174           -0.493961   \n",
              "1                       0.49058  0.137057   0.066303            0.006039   \n",
              "2                       0.09058  0.223339   0.113747            0.506039   \n",
              "3                       0.09058  0.223339   0.113747            0.006039   \n",
              "4                       0.09058  0.125302   0.098004           -0.493961   \n",
              "\n",
              "   House size (sqft)  House price of unit area  \n",
              "0          -0.324659                 -0.000730  \n",
              "1           0.280987                  0.038397  \n",
              "2           0.117053                  0.084803  \n",
              "3          -0.051435                  0.153046  \n",
              "4          -0.401162                  0.046586  "
            ],
            "text/html": [
              "\n",
              "  <div id=\"df-b511336f-5969-4615-bf74-d19316e3fdf5\">\n",
              "    <div class=\"colab-df-container\">\n",
              "      <div>\n",
              "<style scoped>\n",
              "    .dataframe tbody tr th:only-of-type {\n",
              "        vertical-align: middle;\n",
              "    }\n",
              "\n",
              "    .dataframe tbody tr th {\n",
              "        vertical-align: top;\n",
              "    }\n",
              "\n",
              "    .dataframe thead th {\n",
              "        text-align: right;\n",
              "    }\n",
              "</style>\n",
              "<table border=\"1\" class=\"dataframe\">\n",
              "  <thead>\n",
              "    <tr style=\"text-align: right;\">\n",
              "      <th></th>\n",
              "      <th>House Age</th>\n",
              "      <th>Distance from nearest Metro station (km)</th>\n",
              "      <th>Number of convenience stores</th>\n",
              "      <th>latitude</th>\n",
              "      <th>longitude</th>\n",
              "      <th>Number of bedrooms</th>\n",
              "      <th>House size (sqft)</th>\n",
              "      <th>House price of unit area</th>\n",
              "    </tr>\n",
              "  </thead>\n",
              "  <tbody>\n",
              "    <tr>\n",
              "      <th>0</th>\n",
              "      <td>0.326197</td>\n",
              "      <td>-0.154534</td>\n",
              "      <td>0.59058</td>\n",
              "      <td>0.169049</td>\n",
              "      <td>0.074174</td>\n",
              "      <td>-0.493961</td>\n",
              "      <td>-0.324659</td>\n",
              "      <td>-0.000730</td>\n",
              "    </tr>\n",
              "    <tr>\n",
              "      <th>1</th>\n",
              "      <td>0.040809</td>\n",
              "      <td>-0.120237</td>\n",
              "      <td>0.49058</td>\n",
              "      <td>0.137057</td>\n",
              "      <td>0.066303</td>\n",
              "      <td>0.006039</td>\n",
              "      <td>0.280987</td>\n",
              "      <td>0.038397</td>\n",
              "    </tr>\n",
              "    <tr>\n",
              "      <th>2</th>\n",
              "      <td>-0.100743</td>\n",
              "      <td>-0.080732</td>\n",
              "      <td>0.09058</td>\n",
              "      <td>0.223339</td>\n",
              "      <td>0.113747</td>\n",
              "      <td>0.506039</td>\n",
              "      <td>0.117053</td>\n",
              "      <td>0.084803</td>\n",
              "    </tr>\n",
              "    <tr>\n",
              "      <th>3</th>\n",
              "      <td>-0.100743</td>\n",
              "      <td>-0.080732</td>\n",
              "      <td>0.09058</td>\n",
              "      <td>0.223339</td>\n",
              "      <td>0.113747</td>\n",
              "      <td>0.006039</td>\n",
              "      <td>-0.051435</td>\n",
              "      <td>0.153046</td>\n",
              "    </tr>\n",
              "    <tr>\n",
              "      <th>4</th>\n",
              "      <td>-0.290241</td>\n",
              "      <td>-0.107248</td>\n",
              "      <td>0.09058</td>\n",
              "      <td>0.125302</td>\n",
              "      <td>0.098004</td>\n",
              "      <td>-0.493961</td>\n",
              "      <td>-0.401162</td>\n",
              "      <td>0.046586</td>\n",
              "    </tr>\n",
              "  </tbody>\n",
              "</table>\n",
              "</div>\n",
              "      <button class=\"colab-df-convert\" onclick=\"convertToInteractive('df-b511336f-5969-4615-bf74-d19316e3fdf5')\"\n",
              "              title=\"Convert this dataframe to an interactive table.\"\n",
              "              style=\"display:none;\">\n",
              "        \n",
              "  <svg xmlns=\"http://www.w3.org/2000/svg\" height=\"24px\"viewBox=\"0 0 24 24\"\n",
              "       width=\"24px\">\n",
              "    <path d=\"M0 0h24v24H0V0z\" fill=\"none\"/>\n",
              "    <path d=\"M18.56 5.44l.94 2.06.94-2.06 2.06-.94-2.06-.94-.94-2.06-.94 2.06-2.06.94zm-11 1L8.5 8.5l.94-2.06 2.06-.94-2.06-.94L8.5 2.5l-.94 2.06-2.06.94zm10 10l.94 2.06.94-2.06 2.06-.94-2.06-.94-.94-2.06-.94 2.06-2.06.94z\"/><path d=\"M17.41 7.96l-1.37-1.37c-.4-.4-.92-.59-1.43-.59-.52 0-1.04.2-1.43.59L10.3 9.45l-7.72 7.72c-.78.78-.78 2.05 0 2.83L4 21.41c.39.39.9.59 1.41.59.51 0 1.02-.2 1.41-.59l7.78-7.78 2.81-2.81c.8-.78.8-2.07 0-2.86zM5.41 20L4 18.59l7.72-7.72 1.47 1.35L5.41 20z\"/>\n",
              "  </svg>\n",
              "      </button>\n",
              "      \n",
              "  <style>\n",
              "    .colab-df-container {\n",
              "      display:flex;\n",
              "      flex-wrap:wrap;\n",
              "      gap: 12px;\n",
              "    }\n",
              "\n",
              "    .colab-df-convert {\n",
              "      background-color: #E8F0FE;\n",
              "      border: none;\n",
              "      border-radius: 50%;\n",
              "      cursor: pointer;\n",
              "      display: none;\n",
              "      fill: #1967D2;\n",
              "      height: 32px;\n",
              "      padding: 0 0 0 0;\n",
              "      width: 32px;\n",
              "    }\n",
              "\n",
              "    .colab-df-convert:hover {\n",
              "      background-color: #E2EBFA;\n",
              "      box-shadow: 0px 1px 2px rgba(60, 64, 67, 0.3), 0px 1px 3px 1px rgba(60, 64, 67, 0.15);\n",
              "      fill: #174EA6;\n",
              "    }\n",
              "\n",
              "    [theme=dark] .colab-df-convert {\n",
              "      background-color: #3B4455;\n",
              "      fill: #D2E3FC;\n",
              "    }\n",
              "\n",
              "    [theme=dark] .colab-df-convert:hover {\n",
              "      background-color: #434B5C;\n",
              "      box-shadow: 0px 1px 3px 1px rgba(0, 0, 0, 0.15);\n",
              "      filter: drop-shadow(0px 1px 2px rgba(0, 0, 0, 0.3));\n",
              "      fill: #FFFFFF;\n",
              "    }\n",
              "  </style>\n",
              "\n",
              "      <script>\n",
              "        const buttonEl =\n",
              "          document.querySelector('#df-b511336f-5969-4615-bf74-d19316e3fdf5 button.colab-df-convert');\n",
              "        buttonEl.style.display =\n",
              "          google.colab.kernel.accessAllowed ? 'block' : 'none';\n",
              "\n",
              "        async function convertToInteractive(key) {\n",
              "          const element = document.querySelector('#df-b511336f-5969-4615-bf74-d19316e3fdf5');\n",
              "          const dataTable =\n",
              "            await google.colab.kernel.invokeFunction('convertToInteractive',\n",
              "                                                     [key], {});\n",
              "          if (!dataTable) return;\n",
              "\n",
              "          const docLinkHtml = 'Like what you see? Visit the ' +\n",
              "            '<a target=\"_blank\" href=https://colab.research.google.com/notebooks/data_table.ipynb>data table notebook</a>'\n",
              "            + ' to learn more about interactive tables.';\n",
              "          element.innerHTML = '';\n",
              "          dataTable['output_type'] = 'display_data';\n",
              "          await google.colab.output.renderOutput(dataTable, element);\n",
              "          const docLink = document.createElement('div');\n",
              "          docLink.innerHTML = docLinkHtml;\n",
              "          element.appendChild(docLink);\n",
              "        }\n",
              "      </script>\n",
              "    </div>\n",
              "  </div>\n",
              "  "
            ]
          },
          "metadata": {},
          "execution_count": 78
        }
      ]
    },
    {
      "cell_type": "code",
      "source": [
        "#to see the correlation in normalized data\n",
        "df_norm.corr()"
      ],
      "metadata": {
        "colab": {
          "base_uri": "https://localhost:8080/",
          "height": 396
        },
        "id": "YSBrkqOZ1M3C",
        "outputId": "c8a064b8-0378-49a6-92f8-88619d6b105f"
      },
      "execution_count": 79,
      "outputs": [
        {
          "output_type": "execute_result",
          "data": {
            "text/plain": [
              "                                          House Age  \\\n",
              "House Age                                  1.000000   \n",
              "Distance from nearest Metro station (km)   0.025622   \n",
              "Number of convenience stores               0.049593   \n",
              "latitude                                   0.054420   \n",
              "longitude                                 -0.048520   \n",
              "Number of bedrooms                        -0.008756   \n",
              "House size (sqft)                         -0.060361   \n",
              "House price of unit area                  -0.210567   \n",
              "\n",
              "                                          Distance from nearest Metro station (km)  \\\n",
              "House Age                                                                 0.025622   \n",
              "Distance from nearest Metro station (km)                                  1.000000   \n",
              "Number of convenience stores                                             -0.602519   \n",
              "latitude                                                                 -0.591067   \n",
              "longitude                                                                -0.806317   \n",
              "Number of bedrooms                                                       -0.046856   \n",
              "House size (sqft)                                                         0.001795   \n",
              "House price of unit area                                                 -0.673613   \n",
              "\n",
              "                                          Number of convenience stores  \\\n",
              "House Age                                                     0.049593   \n",
              "Distance from nearest Metro station (km)                     -0.602519   \n",
              "Number of convenience stores                                  1.000000   \n",
              "latitude                                                      0.444143   \n",
              "longitude                                                     0.449099   \n",
              "Number of bedrooms                                            0.043638   \n",
              "House size (sqft)                                             0.033286   \n",
              "House price of unit area                                      0.571005   \n",
              "\n",
              "                                          latitude  longitude  \\\n",
              "House Age                                 0.054420  -0.048520   \n",
              "Distance from nearest Metro station (km) -0.591067  -0.806317   \n",
              "Number of convenience stores              0.444143   0.449099   \n",
              "latitude                                  1.000000   0.412924   \n",
              "longitude                                 0.412924   1.000000   \n",
              "Number of bedrooms                        0.043921   0.041680   \n",
              "House size (sqft)                         0.031696   0.009322   \n",
              "House price of unit area                  0.546307   0.523287   \n",
              "\n",
              "                                          Number of bedrooms  \\\n",
              "House Age                                          -0.008756   \n",
              "Distance from nearest Metro station (km)           -0.046856   \n",
              "Number of convenience stores                        0.043638   \n",
              "latitude                                            0.043921   \n",
              "longitude                                           0.041680   \n",
              "Number of bedrooms                                  1.000000   \n",
              "House size (sqft)                                   0.752276   \n",
              "House price of unit area                            0.050265   \n",
              "\n",
              "                                          House size (sqft)  \\\n",
              "House Age                                         -0.060361   \n",
              "Distance from nearest Metro station (km)           0.001795   \n",
              "Number of convenience stores                       0.033286   \n",
              "latitude                                           0.031696   \n",
              "longitude                                          0.009322   \n",
              "Number of bedrooms                                 0.752276   \n",
              "House size (sqft)                                  1.000000   \n",
              "House price of unit area                           0.046489   \n",
              "\n",
              "                                          House price of unit area  \n",
              "House Age                                                -0.210567  \n",
              "Distance from nearest Metro station (km)                 -0.673613  \n",
              "Number of convenience stores                              0.571005  \n",
              "latitude                                                  0.546307  \n",
              "longitude                                                 0.523287  \n",
              "Number of bedrooms                                        0.050265  \n",
              "House size (sqft)                                         0.046489  \n",
              "House price of unit area                                  1.000000  "
            ],
            "text/html": [
              "\n",
              "  <div id=\"df-4ff90583-07c5-42a7-82f3-8769869a2bd2\">\n",
              "    <div class=\"colab-df-container\">\n",
              "      <div>\n",
              "<style scoped>\n",
              "    .dataframe tbody tr th:only-of-type {\n",
              "        vertical-align: middle;\n",
              "    }\n",
              "\n",
              "    .dataframe tbody tr th {\n",
              "        vertical-align: top;\n",
              "    }\n",
              "\n",
              "    .dataframe thead th {\n",
              "        text-align: right;\n",
              "    }\n",
              "</style>\n",
              "<table border=\"1\" class=\"dataframe\">\n",
              "  <thead>\n",
              "    <tr style=\"text-align: right;\">\n",
              "      <th></th>\n",
              "      <th>House Age</th>\n",
              "      <th>Distance from nearest Metro station (km)</th>\n",
              "      <th>Number of convenience stores</th>\n",
              "      <th>latitude</th>\n",
              "      <th>longitude</th>\n",
              "      <th>Number of bedrooms</th>\n",
              "      <th>House size (sqft)</th>\n",
              "      <th>House price of unit area</th>\n",
              "    </tr>\n",
              "  </thead>\n",
              "  <tbody>\n",
              "    <tr>\n",
              "      <th>House Age</th>\n",
              "      <td>1.000000</td>\n",
              "      <td>0.025622</td>\n",
              "      <td>0.049593</td>\n",
              "      <td>0.054420</td>\n",
              "      <td>-0.048520</td>\n",
              "      <td>-0.008756</td>\n",
              "      <td>-0.060361</td>\n",
              "      <td>-0.210567</td>\n",
              "    </tr>\n",
              "    <tr>\n",
              "      <th>Distance from nearest Metro station (km)</th>\n",
              "      <td>0.025622</td>\n",
              "      <td>1.000000</td>\n",
              "      <td>-0.602519</td>\n",
              "      <td>-0.591067</td>\n",
              "      <td>-0.806317</td>\n",
              "      <td>-0.046856</td>\n",
              "      <td>0.001795</td>\n",
              "      <td>-0.673613</td>\n",
              "    </tr>\n",
              "    <tr>\n",
              "      <th>Number of convenience stores</th>\n",
              "      <td>0.049593</td>\n",
              "      <td>-0.602519</td>\n",
              "      <td>1.000000</td>\n",
              "      <td>0.444143</td>\n",
              "      <td>0.449099</td>\n",
              "      <td>0.043638</td>\n",
              "      <td>0.033286</td>\n",
              "      <td>0.571005</td>\n",
              "    </tr>\n",
              "    <tr>\n",
              "      <th>latitude</th>\n",
              "      <td>0.054420</td>\n",
              "      <td>-0.591067</td>\n",
              "      <td>0.444143</td>\n",
              "      <td>1.000000</td>\n",
              "      <td>0.412924</td>\n",
              "      <td>0.043921</td>\n",
              "      <td>0.031696</td>\n",
              "      <td>0.546307</td>\n",
              "    </tr>\n",
              "    <tr>\n",
              "      <th>longitude</th>\n",
              "      <td>-0.048520</td>\n",
              "      <td>-0.806317</td>\n",
              "      <td>0.449099</td>\n",
              "      <td>0.412924</td>\n",
              "      <td>1.000000</td>\n",
              "      <td>0.041680</td>\n",
              "      <td>0.009322</td>\n",
              "      <td>0.523287</td>\n",
              "    </tr>\n",
              "    <tr>\n",
              "      <th>Number of bedrooms</th>\n",
              "      <td>-0.008756</td>\n",
              "      <td>-0.046856</td>\n",
              "      <td>0.043638</td>\n",
              "      <td>0.043921</td>\n",
              "      <td>0.041680</td>\n",
              "      <td>1.000000</td>\n",
              "      <td>0.752276</td>\n",
              "      <td>0.050265</td>\n",
              "    </tr>\n",
              "    <tr>\n",
              "      <th>House size (sqft)</th>\n",
              "      <td>-0.060361</td>\n",
              "      <td>0.001795</td>\n",
              "      <td>0.033286</td>\n",
              "      <td>0.031696</td>\n",
              "      <td>0.009322</td>\n",
              "      <td>0.752276</td>\n",
              "      <td>1.000000</td>\n",
              "      <td>0.046489</td>\n",
              "    </tr>\n",
              "    <tr>\n",
              "      <th>House price of unit area</th>\n",
              "      <td>-0.210567</td>\n",
              "      <td>-0.673613</td>\n",
              "      <td>0.571005</td>\n",
              "      <td>0.546307</td>\n",
              "      <td>0.523287</td>\n",
              "      <td>0.050265</td>\n",
              "      <td>0.046489</td>\n",
              "      <td>1.000000</td>\n",
              "    </tr>\n",
              "  </tbody>\n",
              "</table>\n",
              "</div>\n",
              "      <button class=\"colab-df-convert\" onclick=\"convertToInteractive('df-4ff90583-07c5-42a7-82f3-8769869a2bd2')\"\n",
              "              title=\"Convert this dataframe to an interactive table.\"\n",
              "              style=\"display:none;\">\n",
              "        \n",
              "  <svg xmlns=\"http://www.w3.org/2000/svg\" height=\"24px\"viewBox=\"0 0 24 24\"\n",
              "       width=\"24px\">\n",
              "    <path d=\"M0 0h24v24H0V0z\" fill=\"none\"/>\n",
              "    <path d=\"M18.56 5.44l.94 2.06.94-2.06 2.06-.94-2.06-.94-.94-2.06-.94 2.06-2.06.94zm-11 1L8.5 8.5l.94-2.06 2.06-.94-2.06-.94L8.5 2.5l-.94 2.06-2.06.94zm10 10l.94 2.06.94-2.06 2.06-.94-2.06-.94-.94-2.06-.94 2.06-2.06.94z\"/><path d=\"M17.41 7.96l-1.37-1.37c-.4-.4-.92-.59-1.43-.59-.52 0-1.04.2-1.43.59L10.3 9.45l-7.72 7.72c-.78.78-.78 2.05 0 2.83L4 21.41c.39.39.9.59 1.41.59.51 0 1.02-.2 1.41-.59l7.78-7.78 2.81-2.81c.8-.78.8-2.07 0-2.86zM5.41 20L4 18.59l7.72-7.72 1.47 1.35L5.41 20z\"/>\n",
              "  </svg>\n",
              "      </button>\n",
              "      \n",
              "  <style>\n",
              "    .colab-df-container {\n",
              "      display:flex;\n",
              "      flex-wrap:wrap;\n",
              "      gap: 12px;\n",
              "    }\n",
              "\n",
              "    .colab-df-convert {\n",
              "      background-color: #E8F0FE;\n",
              "      border: none;\n",
              "      border-radius: 50%;\n",
              "      cursor: pointer;\n",
              "      display: none;\n",
              "      fill: #1967D2;\n",
              "      height: 32px;\n",
              "      padding: 0 0 0 0;\n",
              "      width: 32px;\n",
              "    }\n",
              "\n",
              "    .colab-df-convert:hover {\n",
              "      background-color: #E2EBFA;\n",
              "      box-shadow: 0px 1px 2px rgba(60, 64, 67, 0.3), 0px 1px 3px 1px rgba(60, 64, 67, 0.15);\n",
              "      fill: #174EA6;\n",
              "    }\n",
              "\n",
              "    [theme=dark] .colab-df-convert {\n",
              "      background-color: #3B4455;\n",
              "      fill: #D2E3FC;\n",
              "    }\n",
              "\n",
              "    [theme=dark] .colab-df-convert:hover {\n",
              "      background-color: #434B5C;\n",
              "      box-shadow: 0px 1px 3px 1px rgba(0, 0, 0, 0.15);\n",
              "      filter: drop-shadow(0px 1px 2px rgba(0, 0, 0, 0.3));\n",
              "      fill: #FFFFFF;\n",
              "    }\n",
              "  </style>\n",
              "\n",
              "      <script>\n",
              "        const buttonEl =\n",
              "          document.querySelector('#df-4ff90583-07c5-42a7-82f3-8769869a2bd2 button.colab-df-convert');\n",
              "        buttonEl.style.display =\n",
              "          google.colab.kernel.accessAllowed ? 'block' : 'none';\n",
              "\n",
              "        async function convertToInteractive(key) {\n",
              "          const element = document.querySelector('#df-4ff90583-07c5-42a7-82f3-8769869a2bd2');\n",
              "          const dataTable =\n",
              "            await google.colab.kernel.invokeFunction('convertToInteractive',\n",
              "                                                     [key], {});\n",
              "          if (!dataTable) return;\n",
              "\n",
              "          const docLinkHtml = 'Like what you see? Visit the ' +\n",
              "            '<a target=\"_blank\" href=https://colab.research.google.com/notebooks/data_table.ipynb>data table notebook</a>'\n",
              "            + ' to learn more about interactive tables.';\n",
              "          element.innerHTML = '';\n",
              "          dataTable['output_type'] = 'display_data';\n",
              "          await google.colab.output.renderOutput(dataTable, element);\n",
              "          const docLink = document.createElement('div');\n",
              "          docLink.innerHTML = docLinkHtml;\n",
              "          element.appendChild(docLink);\n",
              "        }\n",
              "      </script>\n",
              "    </div>\n",
              "  </div>\n",
              "  "
            ]
          },
          "metadata": {},
          "execution_count": 79
        }
      ]
    },
    {
      "cell_type": "code",
      "source": [
        "#converting back the normalized price to real value of price\n",
        "y_mean = df['House price of unit area'].mean()\n",
        "y_std = df['House price of unit area'].std()\n",
        "def convert_label_value(pred):\n",
        "    return int(pred * y_std + y_mean)"
      ],
      "metadata": {
        "id": "sVVzninK1Q_4"
      },
      "execution_count": 80,
      "outputs": []
    },
    {
      "cell_type": "code",
      "source": [
        "print(convert_label_value(0.12))"
      ],
      "metadata": {
        "colab": {
          "base_uri": "https://localhost:8080/"
        },
        "id": "cFnjMowe1USU",
        "outputId": "df0bbffc-6c8b-4f97-ee1b-a2d110ecd7f0"
      },
      "execution_count": 81,
      "outputs": [
        {
          "output_type": "stream",
          "name": "stdout",
          "text": [
            "39\n"
          ]
        }
      ]
    },
    {
      "cell_type": "markdown",
      "source": [
        "# **Creating Training and Testing sets**"
      ],
      "metadata": {
        "id": "oarblPkEyJn5"
      }
    },
    {
      "cell_type": "markdown",
      "source": [
        "Creating Training and Testing sets\n"
      ],
      "metadata": {
        "id": "otMrzb6wyJJi"
      }
    },
    {
      "cell_type": "code",
      "source": [
        "#input features\n",
        "X = df_norm.iloc[:, :6]\n",
        "X.head()"
      ],
      "metadata": {
        "colab": {
          "base_uri": "https://localhost:8080/",
          "height": 206
        },
        "id": "rTQqwh9I5cYv",
        "outputId": "7ef9aad5-b709-40c7-d396-5d1a6f0d264c"
      },
      "execution_count": 82,
      "outputs": [
        {
          "output_type": "execute_result",
          "data": {
            "text/plain": [
              "   House Age  Distance from nearest Metro station (km)  \\\n",
              "0   0.326197                                 -0.154534   \n",
              "1   0.040809                                 -0.120237   \n",
              "2  -0.100743                                 -0.080732   \n",
              "3  -0.100743                                 -0.080732   \n",
              "4  -0.290241                                 -0.107248   \n",
              "\n",
              "   Number of convenience stores  latitude  longitude  Number of bedrooms  \n",
              "0                       0.59058  0.169049   0.074174           -0.493961  \n",
              "1                       0.49058  0.137057   0.066303            0.006039  \n",
              "2                       0.09058  0.223339   0.113747            0.506039  \n",
              "3                       0.09058  0.223339   0.113747            0.006039  \n",
              "4                       0.09058  0.125302   0.098004           -0.493961  "
            ],
            "text/html": [
              "\n",
              "  <div id=\"df-f276e861-8673-48e6-91c2-16d813b2f02b\">\n",
              "    <div class=\"colab-df-container\">\n",
              "      <div>\n",
              "<style scoped>\n",
              "    .dataframe tbody tr th:only-of-type {\n",
              "        vertical-align: middle;\n",
              "    }\n",
              "\n",
              "    .dataframe tbody tr th {\n",
              "        vertical-align: top;\n",
              "    }\n",
              "\n",
              "    .dataframe thead th {\n",
              "        text-align: right;\n",
              "    }\n",
              "</style>\n",
              "<table border=\"1\" class=\"dataframe\">\n",
              "  <thead>\n",
              "    <tr style=\"text-align: right;\">\n",
              "      <th></th>\n",
              "      <th>House Age</th>\n",
              "      <th>Distance from nearest Metro station (km)</th>\n",
              "      <th>Number of convenience stores</th>\n",
              "      <th>latitude</th>\n",
              "      <th>longitude</th>\n",
              "      <th>Number of bedrooms</th>\n",
              "    </tr>\n",
              "  </thead>\n",
              "  <tbody>\n",
              "    <tr>\n",
              "      <th>0</th>\n",
              "      <td>0.326197</td>\n",
              "      <td>-0.154534</td>\n",
              "      <td>0.59058</td>\n",
              "      <td>0.169049</td>\n",
              "      <td>0.074174</td>\n",
              "      <td>-0.493961</td>\n",
              "    </tr>\n",
              "    <tr>\n",
              "      <th>1</th>\n",
              "      <td>0.040809</td>\n",
              "      <td>-0.120237</td>\n",
              "      <td>0.49058</td>\n",
              "      <td>0.137057</td>\n",
              "      <td>0.066303</td>\n",
              "      <td>0.006039</td>\n",
              "    </tr>\n",
              "    <tr>\n",
              "      <th>2</th>\n",
              "      <td>-0.100743</td>\n",
              "      <td>-0.080732</td>\n",
              "      <td>0.09058</td>\n",
              "      <td>0.223339</td>\n",
              "      <td>0.113747</td>\n",
              "      <td>0.506039</td>\n",
              "    </tr>\n",
              "    <tr>\n",
              "      <th>3</th>\n",
              "      <td>-0.100743</td>\n",
              "      <td>-0.080732</td>\n",
              "      <td>0.09058</td>\n",
              "      <td>0.223339</td>\n",
              "      <td>0.113747</td>\n",
              "      <td>0.006039</td>\n",
              "    </tr>\n",
              "    <tr>\n",
              "      <th>4</th>\n",
              "      <td>-0.290241</td>\n",
              "      <td>-0.107248</td>\n",
              "      <td>0.09058</td>\n",
              "      <td>0.125302</td>\n",
              "      <td>0.098004</td>\n",
              "      <td>-0.493961</td>\n",
              "    </tr>\n",
              "  </tbody>\n",
              "</table>\n",
              "</div>\n",
              "      <button class=\"colab-df-convert\" onclick=\"convertToInteractive('df-f276e861-8673-48e6-91c2-16d813b2f02b')\"\n",
              "              title=\"Convert this dataframe to an interactive table.\"\n",
              "              style=\"display:none;\">\n",
              "        \n",
              "  <svg xmlns=\"http://www.w3.org/2000/svg\" height=\"24px\"viewBox=\"0 0 24 24\"\n",
              "       width=\"24px\">\n",
              "    <path d=\"M0 0h24v24H0V0z\" fill=\"none\"/>\n",
              "    <path d=\"M18.56 5.44l.94 2.06.94-2.06 2.06-.94-2.06-.94-.94-2.06-.94 2.06-2.06.94zm-11 1L8.5 8.5l.94-2.06 2.06-.94-2.06-.94L8.5 2.5l-.94 2.06-2.06.94zm10 10l.94 2.06.94-2.06 2.06-.94-2.06-.94-.94-2.06-.94 2.06-2.06.94z\"/><path d=\"M17.41 7.96l-1.37-1.37c-.4-.4-.92-.59-1.43-.59-.52 0-1.04.2-1.43.59L10.3 9.45l-7.72 7.72c-.78.78-.78 2.05 0 2.83L4 21.41c.39.39.9.59 1.41.59.51 0 1.02-.2 1.41-.59l7.78-7.78 2.81-2.81c.8-.78.8-2.07 0-2.86zM5.41 20L4 18.59l7.72-7.72 1.47 1.35L5.41 20z\"/>\n",
              "  </svg>\n",
              "      </button>\n",
              "      \n",
              "  <style>\n",
              "    .colab-df-container {\n",
              "      display:flex;\n",
              "      flex-wrap:wrap;\n",
              "      gap: 12px;\n",
              "    }\n",
              "\n",
              "    .colab-df-convert {\n",
              "      background-color: #E8F0FE;\n",
              "      border: none;\n",
              "      border-radius: 50%;\n",
              "      cursor: pointer;\n",
              "      display: none;\n",
              "      fill: #1967D2;\n",
              "      height: 32px;\n",
              "      padding: 0 0 0 0;\n",
              "      width: 32px;\n",
              "    }\n",
              "\n",
              "    .colab-df-convert:hover {\n",
              "      background-color: #E2EBFA;\n",
              "      box-shadow: 0px 1px 2px rgba(60, 64, 67, 0.3), 0px 1px 3px 1px rgba(60, 64, 67, 0.15);\n",
              "      fill: #174EA6;\n",
              "    }\n",
              "\n",
              "    [theme=dark] .colab-df-convert {\n",
              "      background-color: #3B4455;\n",
              "      fill: #D2E3FC;\n",
              "    }\n",
              "\n",
              "    [theme=dark] .colab-df-convert:hover {\n",
              "      background-color: #434B5C;\n",
              "      box-shadow: 0px 1px 3px 1px rgba(0, 0, 0, 0.15);\n",
              "      filter: drop-shadow(0px 1px 2px rgba(0, 0, 0, 0.3));\n",
              "      fill: #FFFFFF;\n",
              "    }\n",
              "  </style>\n",
              "\n",
              "      <script>\n",
              "        const buttonEl =\n",
              "          document.querySelector('#df-f276e861-8673-48e6-91c2-16d813b2f02b button.colab-df-convert');\n",
              "        buttonEl.style.display =\n",
              "          google.colab.kernel.accessAllowed ? 'block' : 'none';\n",
              "\n",
              "        async function convertToInteractive(key) {\n",
              "          const element = document.querySelector('#df-f276e861-8673-48e6-91c2-16d813b2f02b');\n",
              "          const dataTable =\n",
              "            await google.colab.kernel.invokeFunction('convertToInteractive',\n",
              "                                                     [key], {});\n",
              "          if (!dataTable) return;\n",
              "\n",
              "          const docLinkHtml = 'Like what you see? Visit the ' +\n",
              "            '<a target=\"_blank\" href=https://colab.research.google.com/notebooks/data_table.ipynb>data table notebook</a>'\n",
              "            + ' to learn more about interactive tables.';\n",
              "          element.innerHTML = '';\n",
              "          dataTable['output_type'] = 'display_data';\n",
              "          await google.colab.output.renderOutput(dataTable, element);\n",
              "          const docLink = document.createElement('div');\n",
              "          docLink.innerHTML = docLinkHtml;\n",
              "          element.appendChild(docLink);\n",
              "        }\n",
              "      </script>\n",
              "    </div>\n",
              "  </div>\n",
              "  "
            ]
          },
          "metadata": {},
          "execution_count": 82
        }
      ]
    },
    {
      "cell_type": "code",
      "source": [
        "# y value\n",
        "y = df_norm.iloc[:, -1]\n",
        "y.head()"
      ],
      "metadata": {
        "colab": {
          "base_uri": "https://localhost:8080/"
        },
        "id": "u44B6MaK1mLP",
        "outputId": "5a01f860-969c-435d-8bd1-eadf96b365e2"
      },
      "execution_count": 83,
      "outputs": [
        {
          "output_type": "execute_result",
          "data": {
            "text/plain": [
              "0   -0.000730\n",
              "1    0.038397\n",
              "2    0.084803\n",
              "3    0.153046\n",
              "4    0.046586\n",
              "Name: House price of unit area, dtype: float64"
            ]
          },
          "metadata": {},
          "execution_count": 83
        }
      ]
    },
    {
      "cell_type": "code",
      "source": [
        "#Feature and label values\n",
        "X_arr = X.values\n",
        "y_arr = y.values"
      ],
      "metadata": {
        "id": "CDQdbK491rMT"
      },
      "execution_count": 84,
      "outputs": []
    },
    {
      "cell_type": "code",
      "source": [
        "X_train, X_test, y_train, y_test = train_test_split(X_arr, y_arr, test_size = 0.2, shuffle = True, random_state=7)\n",
        "print('X_train shape: ', X_train.shape)\n",
        "print('y_train shape: ', y_train.shape)\n",
        "print('X_test shape: ', X_test.shape)\n",
        "print('y_test shape: ', y_test.shape)"
      ],
      "metadata": {
        "colab": {
          "base_uri": "https://localhost:8080/"
        },
        "id": "lsHlelM-1xQU",
        "outputId": "82bbc951-0bbe-4fd8-8400-57d57a5951bf"
      },
      "execution_count": 85,
      "outputs": [
        {
          "output_type": "stream",
          "name": "stdout",
          "text": [
            "X_train shape:  (331, 6)\n",
            "y_train shape:  (331,)\n",
            "X_test shape:  (83, 6)\n",
            "y_test shape:  (83,)\n"
          ]
        }
      ]
    },
    {
      "cell_type": "markdown",
      "source": [
        "# **Creating the Model**"
      ],
      "metadata": {
        "id": "h7HwBJvNycLg"
      }
    },
    {
      "cell_type": "code",
      "source": [
        "def get_model():\n",
        "    model = Sequential([\n",
        "        Dense(5, input_shape = (6,), activation = 'relu'),\n",
        "        Dense(12, activation = 'sigmoid'),\n",
        "        Dense(6, activation = 'relu'),\n",
        "        Dense(1)\n",
        "    ])\n",
        "    model.compile(\n",
        "        loss='mse',\n",
        "        optimizer='adadelta'\n",
        "    )\n",
        "    return model\n",
        "model = get_model()\n",
        "model.summary()"
      ],
      "metadata": {
        "colab": {
          "base_uri": "https://localhost:8080/"
        },
        "id": "YcVI5ARp5pd1",
        "outputId": "4477e753-0fde-4b01-afad-662882b714bc"
      },
      "execution_count": 86,
      "outputs": [
        {
          "output_type": "stream",
          "name": "stdout",
          "text": [
            "Model: \"sequential_2\"\n",
            "_________________________________________________________________\n",
            " Layer (type)                Output Shape              Param #   \n",
            "=================================================================\n",
            " dense_8 (Dense)             (None, 5)                 35        \n",
            "                                                                 \n",
            " dense_9 (Dense)             (None, 12)                72        \n",
            "                                                                 \n",
            " dense_10 (Dense)            (None, 6)                 78        \n",
            "                                                                 \n",
            " dense_11 (Dense)            (None, 1)                 7         \n",
            "                                                                 \n",
            "=================================================================\n",
            "Total params: 192\n",
            "Trainable params: 192\n",
            "Non-trainable params: 0\n",
            "_________________________________________________________________\n"
          ]
        }
      ]
    },
    {
      "cell_type": "markdown",
      "source": [
        "# **Training the Model using Train data**"
      ],
      "metadata": {
        "id": "jnIeHy_OyqCm"
      }
    },
    {
      "cell_type": "code",
      "source": [
        "early_stopping = EarlyStopping(monitor='accuracy', patience = 5)\n",
        "history = model.fit(\n",
        "    X_train, y_train,\n",
        "    validation_data = (X_test, y_test),\n",
        "    epochs = 100,\n",
        "    callbacks = [early_stopping]\n",
        ")"
      ],
      "metadata": {
        "colab": {
          "base_uri": "https://localhost:8080/"
        },
        "id": "8UprMAQx5xB8",
        "outputId": "0a19f40b-3c2b-4f01-ebbb-804e198a0095"
      },
      "execution_count": 87,
      "outputs": [
        {
          "output_type": "stream",
          "name": "stdout",
          "text": [
            "Epoch 1/100\n",
            " 1/11 [=>............................] - ETA: 3s - loss: 0.8006"
          ]
        },
        {
          "output_type": "stream",
          "name": "stderr",
          "text": [
            "WARNING:tensorflow:Early stopping conditioned on metric `accuracy` which is not available. Available metrics are: loss,val_loss\n"
          ]
        },
        {
          "output_type": "stream",
          "name": "stdout",
          "text": [
            "\b\b\b\b\b\b\b\b\b\b\b\b\b\b\b\b\b\b\b\b\b\b\b\b\b\b\b\b\b\b\b\b\b\b\b\b\b\b\b\b\b\b\b\b\b\b\b\b\b\b\b\b\b\b\b\b\b\b\b\b\b\b\b\r11/11 [==============================] - 1s 16ms/step - loss: 0.7779 - val_loss: 0.7712\n",
            "Epoch 2/100\n",
            " 1/11 [=>............................] - ETA: 0s - loss: 0.7411"
          ]
        },
        {
          "output_type": "stream",
          "name": "stderr",
          "text": [
            "WARNING:tensorflow:Early stopping conditioned on metric `accuracy` which is not available. Available metrics are: loss,val_loss\n"
          ]
        },
        {
          "output_type": "stream",
          "name": "stdout",
          "text": [
            "\b\b\b\b\b\b\b\b\b\b\b\b\b\b\b\b\b\b\b\b\b\b\b\b\b\b\b\b\b\b\b\b\b\b\b\b\b\b\b\b\b\b\b\b\b\b\b\b\b\b\b\b\b\b\b\b\b\b\b\b\b\b\b\r11/11 [==============================] - 0s 4ms/step - loss: 0.7773 - val_loss: 0.7706\n",
            "Epoch 3/100\n",
            " 1/11 [=>............................] - ETA: 0s - loss: 0.7596"
          ]
        },
        {
          "output_type": "stream",
          "name": "stderr",
          "text": [
            "WARNING:tensorflow:Early stopping conditioned on metric `accuracy` which is not available. Available metrics are: loss,val_loss\n"
          ]
        },
        {
          "output_type": "stream",
          "name": "stdout",
          "text": [
            "\b\b\b\b\b\b\b\b\b\b\b\b\b\b\b\b\b\b\b\b\b\b\b\b\b\b\b\b\b\b\b\b\b\b\b\b\b\b\b\b\b\b\b\b\b\b\b\b\b\b\b\b\b\b\b\b\b\b\b\b\b\b\b\r11/11 [==============================] - 0s 4ms/step - loss: 0.7767 - val_loss: 0.7700\n",
            "Epoch 4/100\n",
            " 1/11 [=>............................] - ETA: 0s - loss: 0.7304"
          ]
        },
        {
          "output_type": "stream",
          "name": "stderr",
          "text": [
            "WARNING:tensorflow:Early stopping conditioned on metric `accuracy` which is not available. Available metrics are: loss,val_loss\n"
          ]
        },
        {
          "output_type": "stream",
          "name": "stdout",
          "text": [
            "\b\b\b\b\b\b\b\b\b\b\b\b\b\b\b\b\b\b\b\b\b\b\b\b\b\b\b\b\b\b\b\b\b\b\b\b\b\b\b\b\b\b\b\b\b\b\b\b\b\b\b\b\b\b\b\b\b\b\b\b\b\b\b\r11/11 [==============================] - 0s 4ms/step - loss: 0.7762 - val_loss: 0.7694\n",
            "Epoch 5/100\n",
            " 1/11 [=>............................] - ETA: 0s - loss: 0.7896"
          ]
        },
        {
          "output_type": "stream",
          "name": "stderr",
          "text": [
            "WARNING:tensorflow:Early stopping conditioned on metric `accuracy` which is not available. Available metrics are: loss,val_loss\n"
          ]
        },
        {
          "output_type": "stream",
          "name": "stdout",
          "text": [
            "\b\b\b\b\b\b\b\b\b\b\b\b\b\b\b\b\b\b\b\b\b\b\b\b\b\b\b\b\b\b\b\b\b\b\b\b\b\b\b\b\b\b\b\b\b\b\b\b\b\b\b\b\b\b\b\b\b\b\b\b\b\b\b\r11/11 [==============================] - 0s 4ms/step - loss: 0.7756 - val_loss: 0.7688\n",
            "Epoch 6/100\n",
            " 1/11 [=>............................] - ETA: 0s - loss: 0.7830"
          ]
        },
        {
          "output_type": "stream",
          "name": "stderr",
          "text": [
            "WARNING:tensorflow:Early stopping conditioned on metric `accuracy` which is not available. Available metrics are: loss,val_loss\n"
          ]
        },
        {
          "output_type": "stream",
          "name": "stdout",
          "text": [
            "\b\b\b\b\b\b\b\b\b\b\b\b\b\b\b\b\b\b\b\b\b\b\b\b\b\b\b\b\b\b\b\b\b\b\b\b\b\b\b\b\b\b\b\b\b\b\b\b\b\b\b\b\b\b\b\b\b\b\b\b\b\b\b\r11/11 [==============================] - 0s 7ms/step - loss: 0.7750 - val_loss: 0.7682\n",
            "Epoch 7/100\n",
            " 1/11 [=>............................] - ETA: 0s - loss: 0.7999"
          ]
        },
        {
          "output_type": "stream",
          "name": "stderr",
          "text": [
            "WARNING:tensorflow:Early stopping conditioned on metric `accuracy` which is not available. Available metrics are: loss,val_loss\n"
          ]
        },
        {
          "output_type": "stream",
          "name": "stdout",
          "text": [
            "\b\b\b\b\b\b\b\b\b\b\b\b\b\b\b\b\b\b\b\b\b\b\b\b\b\b\b\b\b\b\b\b\b\b\b\b\b\b\b\b\b\b\b\b\b\b\b\b\b\b\b\b\b\b\b\b\b\b\b\b\b\b\b\r11/11 [==============================] - 0s 6ms/step - loss: 0.7743 - val_loss: 0.7676\n",
            "Epoch 8/100\n",
            " 1/11 [=>............................] - ETA: 0s - loss: 0.8362"
          ]
        },
        {
          "output_type": "stream",
          "name": "stderr",
          "text": [
            "WARNING:tensorflow:Early stopping conditioned on metric `accuracy` which is not available. Available metrics are: loss,val_loss\n"
          ]
        },
        {
          "output_type": "stream",
          "name": "stdout",
          "text": [
            "\b\b\b\b\b\b\b\b\b\b\b\b\b\b\b\b\b\b\b\b\b\b\b\b\b\b\b\b\b\b\b\b\b\b\b\b\b\b\b\b\b\b\b\b\b\b\b\b\b\b\b\b\b\b\b\b\b\b\b\b\b\b\b\r11/11 [==============================] - 0s 4ms/step - loss: 0.7737 - val_loss: 0.7670\n",
            "Epoch 9/100\n",
            " 1/11 [=>............................] - ETA: 0s - loss: 0.7689"
          ]
        },
        {
          "output_type": "stream",
          "name": "stderr",
          "text": [
            "WARNING:tensorflow:Early stopping conditioned on metric `accuracy` which is not available. Available metrics are: loss,val_loss\n"
          ]
        },
        {
          "output_type": "stream",
          "name": "stdout",
          "text": [
            "\b\b\b\b\b\b\b\b\b\b\b\b\b\b\b\b\b\b\b\b\b\b\b\b\b\b\b\b\b\b\b\b\b\b\b\b\b\b\b\b\b\b\b\b\b\b\b\b\b\b\b\b\b\b\b\b\b\b\b\b\b\b\b\r11/11 [==============================] - 0s 4ms/step - loss: 0.7731 - val_loss: 0.7664\n",
            "Epoch 10/100\n",
            " 1/11 [=>............................] - ETA: 0s - loss: 0.7661"
          ]
        },
        {
          "output_type": "stream",
          "name": "stderr",
          "text": [
            "WARNING:tensorflow:Early stopping conditioned on metric `accuracy` which is not available. Available metrics are: loss,val_loss\n"
          ]
        },
        {
          "output_type": "stream",
          "name": "stdout",
          "text": [
            "\b\b\b\b\b\b\b\b\b\b\b\b\b\b\b\b\b\b\b\b\b\b\b\b\b\b\b\b\b\b\b\b\b\b\b\b\b\b\b\b\b\b\b\b\b\b\b\b\b\b\b\b\b\b\b\b\b\b\b\b\b\b\b\r11/11 [==============================] - 0s 4ms/step - loss: 0.7725 - val_loss: 0.7657\n",
            "Epoch 11/100\n",
            " 1/11 [=>............................] - ETA: 0s - loss: 0.7961"
          ]
        },
        {
          "output_type": "stream",
          "name": "stderr",
          "text": [
            "WARNING:tensorflow:Early stopping conditioned on metric `accuracy` which is not available. Available metrics are: loss,val_loss\n"
          ]
        },
        {
          "output_type": "stream",
          "name": "stdout",
          "text": [
            "\b\b\b\b\b\b\b\b\b\b\b\b\b\b\b\b\b\b\b\b\b\b\b\b\b\b\b\b\b\b\b\b\b\b\b\b\b\b\b\b\b\b\b\b\b\b\b\b\b\b\b\b\b\b\b\b\b\b\b\b\b\b\b\r11/11 [==============================] - 0s 4ms/step - loss: 0.7718 - val_loss: 0.7651\n",
            "Epoch 12/100\n",
            " 1/11 [=>............................] - ETA: 0s - loss: 0.7566"
          ]
        },
        {
          "output_type": "stream",
          "name": "stderr",
          "text": [
            "WARNING:tensorflow:Early stopping conditioned on metric `accuracy` which is not available. Available metrics are: loss,val_loss\n"
          ]
        },
        {
          "output_type": "stream",
          "name": "stdout",
          "text": [
            "\b\b\b\b\b\b\b\b\b\b\b\b\b\b\b\b\b\b\b\b\b\b\b\b\b\b\b\b\b\b\b\b\b\b\b\b\b\b\b\b\b\b\b\b\b\b\b\b\b\b\b\b\b\b\b\b\b\b\b\b\b\b\b\r11/11 [==============================] - 0s 4ms/step - loss: 0.7712 - val_loss: 0.7645\n",
            "Epoch 13/100\n",
            " 1/11 [=>............................] - ETA: 0s - loss: 0.7988"
          ]
        },
        {
          "output_type": "stream",
          "name": "stderr",
          "text": [
            "WARNING:tensorflow:Early stopping conditioned on metric `accuracy` which is not available. Available metrics are: loss,val_loss\n"
          ]
        },
        {
          "output_type": "stream",
          "name": "stdout",
          "text": [
            "\b\b\b\b\b\b\b\b\b\b\b\b\b\b\b\b\b\b\b\b\b\b\b\b\b\b\b\b\b\b\b\b\b\b\b\b\b\b\b\b\b\b\b\b\b\b\b\b\b\b\b\b\b\b\b\b\b\b\b\b\b\b\b\r11/11 [==============================] - 0s 5ms/step - loss: 0.7705 - val_loss: 0.7638\n",
            "Epoch 14/100\n",
            " 1/11 [=>............................] - ETA: 0s - loss: 0.7658"
          ]
        },
        {
          "output_type": "stream",
          "name": "stderr",
          "text": [
            "WARNING:tensorflow:Early stopping conditioned on metric `accuracy` which is not available. Available metrics are: loss,val_loss\n"
          ]
        },
        {
          "output_type": "stream",
          "name": "stdout",
          "text": [
            "\b\b\b\b\b\b\b\b\b\b\b\b\b\b\b\b\b\b\b\b\b\b\b\b\b\b\b\b\b\b\b\b\b\b\b\b\b\b\b\b\b\b\b\b\b\b\b\b\b\b\b\b\b\b\b\b\b\b\b\b\b\b\b\r11/11 [==============================] - 0s 4ms/step - loss: 0.7699 - val_loss: 0.7631\n",
            "Epoch 15/100\n",
            " 1/11 [=>............................] - ETA: 0s - loss: 0.7564"
          ]
        },
        {
          "output_type": "stream",
          "name": "stderr",
          "text": [
            "WARNING:tensorflow:Early stopping conditioned on metric `accuracy` which is not available. Available metrics are: loss,val_loss\n"
          ]
        },
        {
          "output_type": "stream",
          "name": "stdout",
          "text": [
            "\b\b\b\b\b\b\b\b\b\b\b\b\b\b\b\b\b\b\b\b\b\b\b\b\b\b\b\b\b\b\b\b\b\b\b\b\b\b\b\b\b\b\b\b\b\b\b\b\b\b\b\b\b\b\b\b\b\b\b\b\b\b\b\r11/11 [==============================] - 0s 4ms/step - loss: 0.7692 - val_loss: 0.7625\n",
            "Epoch 16/100\n",
            " 1/11 [=>............................] - ETA: 0s - loss: 0.6910"
          ]
        },
        {
          "output_type": "stream",
          "name": "stderr",
          "text": [
            "WARNING:tensorflow:Early stopping conditioned on metric `accuracy` which is not available. Available metrics are: loss,val_loss\n"
          ]
        },
        {
          "output_type": "stream",
          "name": "stdout",
          "text": [
            "\b\b\b\b\b\b\b\b\b\b\b\b\b\b\b\b\b\b\b\b\b\b\b\b\b\b\b\b\b\b\b\b\b\b\b\b\b\b\b\b\b\b\b\b\b\b\b\b\b\b\b\b\b\b\b\b\b\b\b\b\b\b\b\r11/11 [==============================] - 0s 4ms/step - loss: 0.7686 - val_loss: 0.7618\n",
            "Epoch 17/100\n",
            " 1/11 [=>............................] - ETA: 0s - loss: 0.7364"
          ]
        },
        {
          "output_type": "stream",
          "name": "stderr",
          "text": [
            "WARNING:tensorflow:Early stopping conditioned on metric `accuracy` which is not available. Available metrics are: loss,val_loss\n"
          ]
        },
        {
          "output_type": "stream",
          "name": "stdout",
          "text": [
            "\b\b\b\b\b\b\b\b\b\b\b\b\b\b\b\b\b\b\b\b\b\b\b\b\b\b\b\b\b\b\b\b\b\b\b\b\b\b\b\b\b\b\b\b\b\b\b\b\b\b\b\b\b\b\b\b\b\b\b\b\b\b\b\r11/11 [==============================] - 0s 4ms/step - loss: 0.7679 - val_loss: 0.7611\n",
            "Epoch 18/100\n",
            " 1/11 [=>............................] - ETA: 0s - loss: 0.8341"
          ]
        },
        {
          "output_type": "stream",
          "name": "stderr",
          "text": [
            "WARNING:tensorflow:Early stopping conditioned on metric `accuracy` which is not available. Available metrics are: loss,val_loss\n"
          ]
        },
        {
          "output_type": "stream",
          "name": "stdout",
          "text": [
            "\b\b\b\b\b\b\b\b\b\b\b\b\b\b\b\b\b\b\b\b\b\b\b\b\b\b\b\b\b\b\b\b\b\b\b\b\b\b\b\b\b\b\b\b\b\b\b\b\b\b\b\b\b\b\b\b\b\b\b\b\b\b\b\r11/11 [==============================] - 0s 6ms/step - loss: 0.7672 - val_loss: 0.7605\n",
            "Epoch 19/100\n",
            " 1/11 [=>............................] - ETA: 0s - loss: 0.7519"
          ]
        },
        {
          "output_type": "stream",
          "name": "stderr",
          "text": [
            "WARNING:tensorflow:Early stopping conditioned on metric `accuracy` which is not available. Available metrics are: loss,val_loss\n"
          ]
        },
        {
          "output_type": "stream",
          "name": "stdout",
          "text": [
            "\b\b\b\b\b\b\b\b\b\b\b\b\b\b\b\b\b\b\b\b\b\b\b\b\b\b\b\b\b\b\b\b\b\b\b\b\b\b\b\b\b\b\b\b\b\b\b\b\b\b\b\b\b\b\b\b\b\b\b\b\b\b\b\r11/11 [==============================] - 0s 6ms/step - loss: 0.7665 - val_loss: 0.7598\n",
            "Epoch 20/100\n",
            " 1/11 [=>............................] - ETA: 0s - loss: 0.7419"
          ]
        },
        {
          "output_type": "stream",
          "name": "stderr",
          "text": [
            "WARNING:tensorflow:Early stopping conditioned on metric `accuracy` which is not available. Available metrics are: loss,val_loss\n"
          ]
        },
        {
          "output_type": "stream",
          "name": "stdout",
          "text": [
            "\b\b\b\b\b\b\b\b\b\b\b\b\b\b\b\b\b\b\b\b\b\b\b\b\b\b\b\b\b\b\b\b\b\b\b\b\b\b\b\b\b\b\b\b\b\b\b\b\b\b\b\b\b\b\b\b\b\b\b\b\b\b\b\r11/11 [==============================] - 0s 4ms/step - loss: 0.7659 - val_loss: 0.7591\n",
            "Epoch 21/100\n",
            " 1/11 [=>............................] - ETA: 0s - loss: 0.7416"
          ]
        },
        {
          "output_type": "stream",
          "name": "stderr",
          "text": [
            "WARNING:tensorflow:Early stopping conditioned on metric `accuracy` which is not available. Available metrics are: loss,val_loss\n"
          ]
        },
        {
          "output_type": "stream",
          "name": "stdout",
          "text": [
            "\b\b\b\b\b\b\b\b\b\b\b\b\b\b\b\b\b\b\b\b\b\b\b\b\b\b\b\b\b\b\b\b\b\b\b\b\b\b\b\b\b\b\b\b\b\b\b\b\b\b\b\b\b\b\b\b\b\b\b\b\b\b\b\r11/11 [==============================] - 0s 6ms/step - loss: 0.7652 - val_loss: 0.7584\n",
            "Epoch 22/100\n",
            " 1/11 [=>............................] - ETA: 0s - loss: 0.7948"
          ]
        },
        {
          "output_type": "stream",
          "name": "stderr",
          "text": [
            "WARNING:tensorflow:Early stopping conditioned on metric `accuracy` which is not available. Available metrics are: loss,val_loss\n"
          ]
        },
        {
          "output_type": "stream",
          "name": "stdout",
          "text": [
            "\b\b\b\b\b\b\b\b\b\b\b\b\b\b\b\b\b\b\b\b\b\b\b\b\b\b\b\b\b\b\b\b\b\b\b\b\b\b\b\b\b\b\b\b\b\b\b\b\b\b\b\b\b\b\b\b\b\b\b\b\b\b\b\r11/11 [==============================] - 0s 5ms/step - loss: 0.7645 - val_loss: 0.7577\n",
            "Epoch 23/100\n",
            " 1/11 [=>............................] - ETA: 0s - loss: 0.7673"
          ]
        },
        {
          "output_type": "stream",
          "name": "stderr",
          "text": [
            "WARNING:tensorflow:Early stopping conditioned on metric `accuracy` which is not available. Available metrics are: loss,val_loss\n"
          ]
        },
        {
          "output_type": "stream",
          "name": "stdout",
          "text": [
            "\b\b\b\b\b\b\b\b\b\b\b\b\b\b\b\b\b\b\b\b\b\b\b\b\b\b\b\b\b\b\b\b\b\b\b\b\b\b\b\b\b\b\b\b\b\b\b\b\b\b\b\b\b\b\b\b\b\b\b\b\b\b\b\r11/11 [==============================] - 0s 5ms/step - loss: 0.7638 - val_loss: 0.7570\n",
            "Epoch 24/100\n",
            " 1/11 [=>............................] - ETA: 0s - loss: 0.7423"
          ]
        },
        {
          "output_type": "stream",
          "name": "stderr",
          "text": [
            "WARNING:tensorflow:Early stopping conditioned on metric `accuracy` which is not available. Available metrics are: loss,val_loss\n"
          ]
        },
        {
          "output_type": "stream",
          "name": "stdout",
          "text": [
            "\b\b\b\b\b\b\b\b\b\b\b\b\b\b\b\b\b\b\b\b\b\b\b\b\b\b\b\b\b\b\b\b\b\b\b\b\b\b\b\b\b\b\b\b\b\b\b\b\b\b\b\b\b\b\b\b\b\b\b\b\b\b\b\r11/11 [==============================] - 0s 5ms/step - loss: 0.7631 - val_loss: 0.7563\n",
            "Epoch 25/100\n",
            " 1/11 [=>............................] - ETA: 0s - loss: 0.7348"
          ]
        },
        {
          "output_type": "stream",
          "name": "stderr",
          "text": [
            "WARNING:tensorflow:Early stopping conditioned on metric `accuracy` which is not available. Available metrics are: loss,val_loss\n"
          ]
        },
        {
          "output_type": "stream",
          "name": "stdout",
          "text": [
            "\b\b\b\b\b\b\b\b\b\b\b\b\b\b\b\b\b\b\b\b\b\b\b\b\b\b\b\b\b\b\b\b\b\b\b\b\b\b\b\b\b\b\b\b\b\b\b\b\b\b\b\b\b\b\b\b\b\b\b\b\b\b\b\r11/11 [==============================] - 0s 5ms/step - loss: 0.7624 - val_loss: 0.7556\n",
            "Epoch 26/100\n",
            " 1/11 [=>............................] - ETA: 0s - loss: 0.8073"
          ]
        },
        {
          "output_type": "stream",
          "name": "stderr",
          "text": [
            "WARNING:tensorflow:Early stopping conditioned on metric `accuracy` which is not available. Available metrics are: loss,val_loss\n"
          ]
        },
        {
          "output_type": "stream",
          "name": "stdout",
          "text": [
            "\b\b\b\b\b\b\b\b\b\b\b\b\b\b\b\b\b\b\b\b\b\b\b\b\b\b\b\b\b\b\b\b\b\b\b\b\b\b\b\b\b\b\b\b\b\b\b\b\b\b\b\b\b\b\b\b\b\b\b\b\b\b\b\r11/11 [==============================] - 0s 4ms/step - loss: 0.7616 - val_loss: 0.7549\n",
            "Epoch 27/100\n",
            " 1/11 [=>............................] - ETA: 0s - loss: 0.7575"
          ]
        },
        {
          "output_type": "stream",
          "name": "stderr",
          "text": [
            "WARNING:tensorflow:Early stopping conditioned on metric `accuracy` which is not available. Available metrics are: loss,val_loss\n"
          ]
        },
        {
          "output_type": "stream",
          "name": "stdout",
          "text": [
            "\b\b\b\b\b\b\b\b\b\b\b\b\b\b\b\b\b\b\b\b\b\b\b\b\b\b\b\b\b\b\b\b\b\b\b\b\b\b\b\b\b\b\b\b\b\b\b\b\b\b\b\b\b\b\b\b\b\b\b\b\b\b\b\r11/11 [==============================] - 0s 6ms/step - loss: 0.7609 - val_loss: 0.7542\n",
            "Epoch 28/100\n",
            " 1/11 [=>............................] - ETA: 0s - loss: 0.7999"
          ]
        },
        {
          "output_type": "stream",
          "name": "stderr",
          "text": [
            "WARNING:tensorflow:Early stopping conditioned on metric `accuracy` which is not available. Available metrics are: loss,val_loss\n"
          ]
        },
        {
          "output_type": "stream",
          "name": "stdout",
          "text": [
            "\b\b\b\b\b\b\b\b\b\b\b\b\b\b\b\b\b\b\b\b\b\b\b\b\b\b\b\b\b\b\b\b\b\b\b\b\b\b\b\b\b\b\b\b\b\b\b\b\b\b\b\b\b\b\b\b\b\b\b\b\b\b\b\r11/11 [==============================] - 0s 4ms/step - loss: 0.7602 - val_loss: 0.7534\n",
            "Epoch 29/100\n",
            " 1/11 [=>............................] - ETA: 0s - loss: 0.6454"
          ]
        },
        {
          "output_type": "stream",
          "name": "stderr",
          "text": [
            "WARNING:tensorflow:Early stopping conditioned on metric `accuracy` which is not available. Available metrics are: loss,val_loss\n"
          ]
        },
        {
          "output_type": "stream",
          "name": "stdout",
          "text": [
            "\b\b\b\b\b\b\b\b\b\b\b\b\b\b\b\b\b\b\b\b\b\b\b\b\b\b\b\b\b\b\b\b\b\b\b\b\b\b\b\b\b\b\b\b\b\b\b\b\b\b\b\b\b\b\b\b\b\b\b\b\b\b\b\r11/11 [==============================] - 0s 4ms/step - loss: 0.7595 - val_loss: 0.7527\n",
            "Epoch 30/100\n",
            " 1/11 [=>............................] - ETA: 0s - loss: 0.7513"
          ]
        },
        {
          "output_type": "stream",
          "name": "stderr",
          "text": [
            "WARNING:tensorflow:Early stopping conditioned on metric `accuracy` which is not available. Available metrics are: loss,val_loss\n"
          ]
        },
        {
          "output_type": "stream",
          "name": "stdout",
          "text": [
            "\b\b\b\b\b\b\b\b\b\b\b\b\b\b\b\b\b\b\b\b\b\b\b\b\b\b\b\b\b\b\b\b\b\b\b\b\b\b\b\b\b\b\b\b\b\b\b\b\b\b\b\b\b\b\b\b\b\b\b\b\b\b\b\r11/11 [==============================] - 0s 5ms/step - loss: 0.7587 - val_loss: 0.7520\n",
            "Epoch 31/100\n",
            " 1/11 [=>............................] - ETA: 0s - loss: 0.7674"
          ]
        },
        {
          "output_type": "stream",
          "name": "stderr",
          "text": [
            "WARNING:tensorflow:Early stopping conditioned on metric `accuracy` which is not available. Available metrics are: loss,val_loss\n"
          ]
        },
        {
          "output_type": "stream",
          "name": "stdout",
          "text": [
            "\b\b\b\b\b\b\b\b\b\b\b\b\b\b\b\b\b\b\b\b\b\b\b\b\b\b\b\b\b\b\b\b\b\b\b\b\b\b\b\b\b\b\b\b\b\b\b\b\b\b\b\b\b\b\b\b\b\b\b\b\b\b\b\r11/11 [==============================] - 0s 4ms/step - loss: 0.7580 - val_loss: 0.7512\n",
            "Epoch 32/100\n",
            " 1/11 [=>............................] - ETA: 0s - loss: 0.8014"
          ]
        },
        {
          "output_type": "stream",
          "name": "stderr",
          "text": [
            "WARNING:tensorflow:Early stopping conditioned on metric `accuracy` which is not available. Available metrics are: loss,val_loss\n"
          ]
        },
        {
          "output_type": "stream",
          "name": "stdout",
          "text": [
            "\b\b\b\b\b\b\b\b\b\b\b\b\b\b\b\b\b\b\b\b\b\b\b\b\b\b\b\b\b\b\b\b\b\b\b\b\b\b\b\b\b\b\b\b\b\b\b\b\b\b\b\b\b\b\b\b\b\b\b\b\b\b\b\r11/11 [==============================] - 0s 4ms/step - loss: 0.7573 - val_loss: 0.7505\n",
            "Epoch 33/100\n",
            " 1/11 [=>............................] - ETA: 0s - loss: 0.7160"
          ]
        },
        {
          "output_type": "stream",
          "name": "stderr",
          "text": [
            "WARNING:tensorflow:Early stopping conditioned on metric `accuracy` which is not available. Available metrics are: loss,val_loss\n"
          ]
        },
        {
          "output_type": "stream",
          "name": "stdout",
          "text": [
            "\b\b\b\b\b\b\b\b\b\b\b\b\b\b\b\b\b\b\b\b\b\b\b\b\b\b\b\b\b\b\b\b\b\b\b\b\b\b\b\b\b\b\b\b\b\b\b\b\b\b\b\b\b\b\b\b\b\b\b\b\b\b\b\r11/11 [==============================] - 0s 4ms/step - loss: 0.7565 - val_loss: 0.7497\n",
            "Epoch 34/100\n",
            " 1/11 [=>............................] - ETA: 0s - loss: 0.7413"
          ]
        },
        {
          "output_type": "stream",
          "name": "stderr",
          "text": [
            "WARNING:tensorflow:Early stopping conditioned on metric `accuracy` which is not available. Available metrics are: loss,val_loss\n"
          ]
        },
        {
          "output_type": "stream",
          "name": "stdout",
          "text": [
            "\b\b\b\b\b\b\b\b\b\b\b\b\b\b\b\b\b\b\b\b\b\b\b\b\b\b\b\b\b\b\b\b\b\b\b\b\b\b\b\b\b\b\b\b\b\b\b\b\b\b\b\b\b\b\b\b\b\b\b\b\b\b\b\r11/11 [==============================] - 0s 6ms/step - loss: 0.7558 - val_loss: 0.7490\n",
            "Epoch 35/100\n",
            " 1/11 [=>............................] - ETA: 0s - loss: 0.7957"
          ]
        },
        {
          "output_type": "stream",
          "name": "stderr",
          "text": [
            "WARNING:tensorflow:Early stopping conditioned on metric `accuracy` which is not available. Available metrics are: loss,val_loss\n"
          ]
        },
        {
          "output_type": "stream",
          "name": "stdout",
          "text": [
            "\b\b\b\b\b\b\b\b\b\b\b\b\b\b\b\b\b\b\b\b\b\b\b\b\b\b\b\b\b\b\b\b\b\b\b\b\b\b\b\b\b\b\b\b\b\b\b\b\b\b\b\b\b\b\b\b\b\b\b\b\b\b\b\r11/11 [==============================] - 0s 4ms/step - loss: 0.7550 - val_loss: 0.7482\n",
            "Epoch 36/100\n",
            " 1/11 [=>............................] - ETA: 0s - loss: 0.7281"
          ]
        },
        {
          "output_type": "stream",
          "name": "stderr",
          "text": [
            "WARNING:tensorflow:Early stopping conditioned on metric `accuracy` which is not available. Available metrics are: loss,val_loss\n"
          ]
        },
        {
          "output_type": "stream",
          "name": "stdout",
          "text": [
            "\b\b\b\b\b\b\b\b\b\b\b\b\b\b\b\b\b\b\b\b\b\b\b\b\b\b\b\b\b\b\b\b\b\b\b\b\b\b\b\b\b\b\b\b\b\b\b\b\b\b\b\b\b\b\b\b\b\b\b\b\b\b\b\r11/11 [==============================] - 0s 6ms/step - loss: 0.7542 - val_loss: 0.7475\n",
            "Epoch 37/100\n",
            " 1/11 [=>............................] - ETA: 0s - loss: 0.7534"
          ]
        },
        {
          "output_type": "stream",
          "name": "stderr",
          "text": [
            "WARNING:tensorflow:Early stopping conditioned on metric `accuracy` which is not available. Available metrics are: loss,val_loss\n"
          ]
        },
        {
          "output_type": "stream",
          "name": "stdout",
          "text": [
            "\b\b\b\b\b\b\b\b\b\b\b\b\b\b\b\b\b\b\b\b\b\b\b\b\b\b\b\b\b\b\b\b\b\b\b\b\b\b\b\b\b\b\b\b\b\b\b\b\b\b\b\b\b\b\b\b\b\b\b\b\b\b\b\r11/11 [==============================] - 0s 5ms/step - loss: 0.7535 - val_loss: 0.7467\n",
            "Epoch 38/100\n",
            " 1/11 [=>............................] - ETA: 0s - loss: 0.7569"
          ]
        },
        {
          "output_type": "stream",
          "name": "stderr",
          "text": [
            "WARNING:tensorflow:Early stopping conditioned on metric `accuracy` which is not available. Available metrics are: loss,val_loss\n"
          ]
        },
        {
          "output_type": "stream",
          "name": "stdout",
          "text": [
            "\b\b\b\b\b\b\b\b\b\b\b\b\b\b\b\b\b\b\b\b\b\b\b\b\b\b\b\b\b\b\b\b\b\b\b\b\b\b\b\b\b\b\b\b\b\b\b\b\b\b\b\b\b\b\b\b\b\b\b\b\b\b\b\r11/11 [==============================] - 0s 4ms/step - loss: 0.7527 - val_loss: 0.7459\n",
            "Epoch 39/100\n",
            " 1/11 [=>............................] - ETA: 0s - loss: 0.7120"
          ]
        },
        {
          "output_type": "stream",
          "name": "stderr",
          "text": [
            "WARNING:tensorflow:Early stopping conditioned on metric `accuracy` which is not available. Available metrics are: loss,val_loss\n"
          ]
        },
        {
          "output_type": "stream",
          "name": "stdout",
          "text": [
            "\b\b\b\b\b\b\b\b\b\b\b\b\b\b\b\b\b\b\b\b\b\b\b\b\b\b\b\b\b\b\b\b\b\b\b\b\b\b\b\b\b\b\b\b\b\b\b\b\b\b\b\b\b\b\b\b\b\b\b\b\b\b\b\r11/11 [==============================] - 0s 4ms/step - loss: 0.7519 - val_loss: 0.7451\n",
            "Epoch 40/100\n",
            " 1/11 [=>............................] - ETA: 0s - loss: 0.7460"
          ]
        },
        {
          "output_type": "stream",
          "name": "stderr",
          "text": [
            "WARNING:tensorflow:Early stopping conditioned on metric `accuracy` which is not available. Available metrics are: loss,val_loss\n"
          ]
        },
        {
          "output_type": "stream",
          "name": "stdout",
          "text": [
            "\b\b\b\b\b\b\b\b\b\b\b\b\b\b\b\b\b\b\b\b\b\b\b\b\b\b\b\b\b\b\b\b\b\b\b\b\b\b\b\b\b\b\b\b\b\b\b\b\b\b\b\b\b\b\b\b\b\b\b\b\b\b\b\r11/11 [==============================] - 0s 5ms/step - loss: 0.7512 - val_loss: 0.7444\n",
            "Epoch 41/100\n",
            " 1/11 [=>............................] - ETA: 0s - loss: 0.7463"
          ]
        },
        {
          "output_type": "stream",
          "name": "stderr",
          "text": [
            "WARNING:tensorflow:Early stopping conditioned on metric `accuracy` which is not available. Available metrics are: loss,val_loss\n"
          ]
        },
        {
          "output_type": "stream",
          "name": "stdout",
          "text": [
            "\b\b\b\b\b\b\b\b\b\b\b\b\b\b\b\b\b\b\b\b\b\b\b\b\b\b\b\b\b\b\b\b\b\b\b\b\b\b\b\b\b\b\b\b\b\b\b\b\b\b\b\b\b\b\b\b\b\b\b\b\b\b\b\r11/11 [==============================] - 0s 4ms/step - loss: 0.7504 - val_loss: 0.7436\n",
            "Epoch 42/100\n",
            " 1/11 [=>............................] - ETA: 0s - loss: 0.7829"
          ]
        },
        {
          "output_type": "stream",
          "name": "stderr",
          "text": [
            "WARNING:tensorflow:Early stopping conditioned on metric `accuracy` which is not available. Available metrics are: loss,val_loss\n"
          ]
        },
        {
          "output_type": "stream",
          "name": "stdout",
          "text": [
            "\b\b\b\b\b\b\b\b\b\b\b\b\b\b\b\b\b\b\b\b\b\b\b\b\b\b\b\b\b\b\b\b\b\b\b\b\b\b\b\b\b\b\b\b\b\b\b\b\b\b\b\b\b\b\b\b\b\b\b\b\b\b\b\r11/11 [==============================] - 0s 5ms/step - loss: 0.7496 - val_loss: 0.7428\n",
            "Epoch 43/100\n",
            " 1/11 [=>............................] - ETA: 0s - loss: 0.7933"
          ]
        },
        {
          "output_type": "stream",
          "name": "stderr",
          "text": [
            "WARNING:tensorflow:Early stopping conditioned on metric `accuracy` which is not available. Available metrics are: loss,val_loss\n"
          ]
        },
        {
          "output_type": "stream",
          "name": "stdout",
          "text": [
            "\b\b\b\b\b\b\b\b\b\b\b\b\b\b\b\b\b\b\b\b\b\b\b\b\b\b\b\b\b\b\b\b\b\b\b\b\b\b\b\b\b\b\b\b\b\b\b\b\b\b\b\b\b\b\b\b\b\b\b\b\b\b\b\r11/11 [==============================] - 0s 6ms/step - loss: 0.7488 - val_loss: 0.7420\n",
            "Epoch 44/100\n",
            " 1/11 [=>............................] - ETA: 0s - loss: 0.8085"
          ]
        },
        {
          "output_type": "stream",
          "name": "stderr",
          "text": [
            "WARNING:tensorflow:Early stopping conditioned on metric `accuracy` which is not available. Available metrics are: loss,val_loss\n"
          ]
        },
        {
          "output_type": "stream",
          "name": "stdout",
          "text": [
            "\b\b\b\b\b\b\b\b\b\b\b\b\b\b\b\b\b\b\b\b\b\b\b\b\b\b\b\b\b\b\b\b\b\b\b\b\b\b\b\b\b\b\b\b\b\b\b\b\b\b\b\b\b\b\b\b\b\b\b\b\b\b\b\r11/11 [==============================] - 0s 4ms/step - loss: 0.7480 - val_loss: 0.7412\n",
            "Epoch 45/100\n",
            " 1/11 [=>............................] - ETA: 0s - loss: 0.7190"
          ]
        },
        {
          "output_type": "stream",
          "name": "stderr",
          "text": [
            "WARNING:tensorflow:Early stopping conditioned on metric `accuracy` which is not available. Available metrics are: loss,val_loss\n"
          ]
        },
        {
          "output_type": "stream",
          "name": "stdout",
          "text": [
            "\b\b\b\b\b\b\b\b\b\b\b\b\b\b\b\b\b\b\b\b\b\b\b\b\b\b\b\b\b\b\b\b\b\b\b\b\b\b\b\b\b\b\b\b\b\b\b\b\b\b\b\b\b\b\b\b\b\b\b\b\b\b\b\r11/11 [==============================] - 0s 4ms/step - loss: 0.7472 - val_loss: 0.7404\n",
            "Epoch 46/100\n",
            " 1/11 [=>............................] - ETA: 0s - loss: 0.7732"
          ]
        },
        {
          "output_type": "stream",
          "name": "stderr",
          "text": [
            "WARNING:tensorflow:Early stopping conditioned on metric `accuracy` which is not available. Available metrics are: loss,val_loss\n"
          ]
        },
        {
          "output_type": "stream",
          "name": "stdout",
          "text": [
            "\b\b\b\b\b\b\b\b\b\b\b\b\b\b\b\b\b\b\b\b\b\b\b\b\b\b\b\b\b\b\b\b\b\b\b\b\b\b\b\b\b\b\b\b\b\b\b\b\b\b\b\b\b\b\b\b\b\b\b\b\b\b\b\r11/11 [==============================] - 0s 4ms/step - loss: 0.7464 - val_loss: 0.7396\n",
            "Epoch 47/100\n",
            " 1/11 [=>............................] - ETA: 0s - loss: 0.7945"
          ]
        },
        {
          "output_type": "stream",
          "name": "stderr",
          "text": [
            "WARNING:tensorflow:Early stopping conditioned on metric `accuracy` which is not available. Available metrics are: loss,val_loss\n"
          ]
        },
        {
          "output_type": "stream",
          "name": "stdout",
          "text": [
            "\b\b\b\b\b\b\b\b\b\b\b\b\b\b\b\b\b\b\b\b\b\b\b\b\b\b\b\b\b\b\b\b\b\b\b\b\b\b\b\b\b\b\b\b\b\b\b\b\b\b\b\b\b\b\b\b\b\b\b\b\b\b\b\r11/11 [==============================] - 0s 7ms/step - loss: 0.7456 - val_loss: 0.7388\n",
            "Epoch 48/100\n",
            " 1/11 [=>............................] - ETA: 0s - loss: 0.7668"
          ]
        },
        {
          "output_type": "stream",
          "name": "stderr",
          "text": [
            "WARNING:tensorflow:Early stopping conditioned on metric `accuracy` which is not available. Available metrics are: loss,val_loss\n"
          ]
        },
        {
          "output_type": "stream",
          "name": "stdout",
          "text": [
            "\b\b\b\b\b\b\b\b\b\b\b\b\b\b\b\b\b\b\b\b\b\b\b\b\b\b\b\b\b\b\b\b\b\b\b\b\b\b\b\b\b\b\b\b\b\b\b\b\b\b\b\b\b\b\b\b\b\b\b\b\b\b\b\r11/11 [==============================] - 0s 5ms/step - loss: 0.7448 - val_loss: 0.7380\n",
            "Epoch 49/100\n",
            " 1/11 [=>............................] - ETA: 0s - loss: 0.8211"
          ]
        },
        {
          "output_type": "stream",
          "name": "stderr",
          "text": [
            "WARNING:tensorflow:Early stopping conditioned on metric `accuracy` which is not available. Available metrics are: loss,val_loss\n"
          ]
        },
        {
          "output_type": "stream",
          "name": "stdout",
          "text": [
            "\b\b\b\b\b\b\b\b\b\b\b\b\b\b\b\b\b\b\b\b\b\b\b\b\b\b\b\b\b\b\b\b\b\b\b\b\b\b\b\b\b\b\b\b\b\b\b\b\b\b\b\b\b\b\b\b\b\b\b\b\b\b\b\r11/11 [==============================] - 0s 6ms/step - loss: 0.7440 - val_loss: 0.7372\n",
            "Epoch 50/100\n",
            " 1/11 [=>............................] - ETA: 0s - loss: 0.7231"
          ]
        },
        {
          "output_type": "stream",
          "name": "stderr",
          "text": [
            "WARNING:tensorflow:Early stopping conditioned on metric `accuracy` which is not available. Available metrics are: loss,val_loss\n"
          ]
        },
        {
          "output_type": "stream",
          "name": "stdout",
          "text": [
            "\b\b\b\b\b\b\b\b\b\b\b\b\b\b\b\b\b\b\b\b\b\b\b\b\b\b\b\b\b\b\b\b\b\b\b\b\b\b\b\b\b\b\b\b\b\b\b\b\b\b\b\b\b\b\b\b\b\b\b\b\b\b\b\r11/11 [==============================] - 0s 4ms/step - loss: 0.7432 - val_loss: 0.7364\n",
            "Epoch 51/100\n",
            " 1/11 [=>............................] - ETA: 0s - loss: 0.7506"
          ]
        },
        {
          "output_type": "stream",
          "name": "stderr",
          "text": [
            "WARNING:tensorflow:Early stopping conditioned on metric `accuracy` which is not available. Available metrics are: loss,val_loss\n"
          ]
        },
        {
          "output_type": "stream",
          "name": "stdout",
          "text": [
            "\b\b\b\b\b\b\b\b\b\b\b\b\b\b\b\b\b\b\b\b\b\b\b\b\b\b\b\b\b\b\b\b\b\b\b\b\b\b\b\b\b\b\b\b\b\b\b\b\b\b\b\b\b\b\b\b\b\b\b\b\b\b\b\r11/11 [==============================] - 0s 4ms/step - loss: 0.7423 - val_loss: 0.7355\n",
            "Epoch 52/100\n",
            " 1/11 [=>............................] - ETA: 0s - loss: 0.7752"
          ]
        },
        {
          "output_type": "stream",
          "name": "stderr",
          "text": [
            "WARNING:tensorflow:Early stopping conditioned on metric `accuracy` which is not available. Available metrics are: loss,val_loss\n"
          ]
        },
        {
          "output_type": "stream",
          "name": "stdout",
          "text": [
            "\b\b\b\b\b\b\b\b\b\b\b\b\b\b\b\b\b\b\b\b\b\b\b\b\b\b\b\b\b\b\b\b\b\b\b\b\b\b\b\b\b\b\b\b\b\b\b\b\b\b\b\b\b\b\b\b\b\b\b\b\b\b\b\r11/11 [==============================] - 0s 4ms/step - loss: 0.7415 - val_loss: 0.7347\n",
            "Epoch 53/100\n",
            " 1/11 [=>............................] - ETA: 0s - loss: 0.7585"
          ]
        },
        {
          "output_type": "stream",
          "name": "stderr",
          "text": [
            "WARNING:tensorflow:Early stopping conditioned on metric `accuracy` which is not available. Available metrics are: loss,val_loss\n"
          ]
        },
        {
          "output_type": "stream",
          "name": "stdout",
          "text": [
            "\b\b\b\b\b\b\b\b\b\b\b\b\b\b\b\b\b\b\b\b\b\b\b\b\b\b\b\b\b\b\b\b\b\b\b\b\b\b\b\b\b\b\b\b\b\b\b\b\b\b\b\b\b\b\b\b\b\b\b\b\b\b\b\r11/11 [==============================] - 0s 4ms/step - loss: 0.7407 - val_loss: 0.7339\n",
            "Epoch 54/100\n",
            " 1/11 [=>............................] - ETA: 0s - loss: 0.7756"
          ]
        },
        {
          "output_type": "stream",
          "name": "stderr",
          "text": [
            "WARNING:tensorflow:Early stopping conditioned on metric `accuracy` which is not available. Available metrics are: loss,val_loss\n"
          ]
        },
        {
          "output_type": "stream",
          "name": "stdout",
          "text": [
            "\b\b\b\b\b\b\b\b\b\b\b\b\b\b\b\b\b\b\b\b\b\b\b\b\b\b\b\b\b\b\b\b\b\b\b\b\b\b\b\b\b\b\b\b\b\b\b\b\b\b\b\b\b\b\b\b\b\b\b\b\b\b\b\r11/11 [==============================] - 0s 6ms/step - loss: 0.7399 - val_loss: 0.7331\n",
            "Epoch 55/100\n",
            " 1/11 [=>............................] - ETA: 0s - loss: 0.7416"
          ]
        },
        {
          "output_type": "stream",
          "name": "stderr",
          "text": [
            "WARNING:tensorflow:Early stopping conditioned on metric `accuracy` which is not available. Available metrics are: loss,val_loss\n"
          ]
        },
        {
          "output_type": "stream",
          "name": "stdout",
          "text": [
            "\b\b\b\b\b\b\b\b\b\b\b\b\b\b\b\b\b\b\b\b\b\b\b\b\b\b\b\b\b\b\b\b\b\b\b\b\b\b\b\b\b\b\b\b\b\b\b\b\b\b\b\b\b\b\b\b\b\b\b\b\b\b\b\r11/11 [==============================] - 0s 4ms/step - loss: 0.7390 - val_loss: 0.7322\n",
            "Epoch 56/100\n",
            " 1/11 [=>............................] - ETA: 0s - loss: 0.7899"
          ]
        },
        {
          "output_type": "stream",
          "name": "stderr",
          "text": [
            "WARNING:tensorflow:Early stopping conditioned on metric `accuracy` which is not available. Available metrics are: loss,val_loss\n"
          ]
        },
        {
          "output_type": "stream",
          "name": "stdout",
          "text": [
            "\b\b\b\b\b\b\b\b\b\b\b\b\b\b\b\b\b\b\b\b\b\b\b\b\b\b\b\b\b\b\b\b\b\b\b\b\b\b\b\b\b\b\b\b\b\b\b\b\b\b\b\b\b\b\b\b\b\b\b\b\b\b\b\r11/11 [==============================] - 0s 5ms/step - loss: 0.7382 - val_loss: 0.7314\n",
            "Epoch 57/100\n",
            " 1/11 [=>............................] - ETA: 0s - loss: 0.7922"
          ]
        },
        {
          "output_type": "stream",
          "name": "stderr",
          "text": [
            "WARNING:tensorflow:Early stopping conditioned on metric `accuracy` which is not available. Available metrics are: loss,val_loss\n"
          ]
        },
        {
          "output_type": "stream",
          "name": "stdout",
          "text": [
            "\b\b\b\b\b\b\b\b\b\b\b\b\b\b\b\b\b\b\b\b\b\b\b\b\b\b\b\b\b\b\b\b\b\b\b\b\b\b\b\b\b\b\b\b\b\b\b\b\b\b\b\b\b\b\b\b\b\b\b\b\b\b\b\r11/11 [==============================] - 0s 4ms/step - loss: 0.7373 - val_loss: 0.7305\n",
            "Epoch 58/100\n",
            " 1/11 [=>............................] - ETA: 0s - loss: 0.8023"
          ]
        },
        {
          "output_type": "stream",
          "name": "stderr",
          "text": [
            "WARNING:tensorflow:Early stopping conditioned on metric `accuracy` which is not available. Available metrics are: loss,val_loss\n"
          ]
        },
        {
          "output_type": "stream",
          "name": "stdout",
          "text": [
            "\b\b\b\b\b\b\b\b\b\b\b\b\b\b\b\b\b\b\b\b\b\b\b\b\b\b\b\b\b\b\b\b\b\b\b\b\b\b\b\b\b\b\b\b\b\b\b\b\b\b\b\b\b\b\b\b\b\b\b\b\b\b\b\r11/11 [==============================] - 0s 6ms/step - loss: 0.7365 - val_loss: 0.7297\n",
            "Epoch 59/100\n",
            " 1/11 [=>............................] - ETA: 0s - loss: 0.7334"
          ]
        },
        {
          "output_type": "stream",
          "name": "stderr",
          "text": [
            "WARNING:tensorflow:Early stopping conditioned on metric `accuracy` which is not available. Available metrics are: loss,val_loss\n"
          ]
        },
        {
          "output_type": "stream",
          "name": "stdout",
          "text": [
            "\b\b\b\b\b\b\b\b\b\b\b\b\b\b\b\b\b\b\b\b\b\b\b\b\b\b\b\b\b\b\b\b\b\b\b\b\b\b\b\b\b\b\b\b\b\b\b\b\b\b\b\b\b\b\b\b\b\b\b\b\b\b\b\r11/11 [==============================] - 0s 5ms/step - loss: 0.7357 - val_loss: 0.7289\n",
            "Epoch 60/100\n",
            " 1/11 [=>............................] - ETA: 0s - loss: 0.7664"
          ]
        },
        {
          "output_type": "stream",
          "name": "stderr",
          "text": [
            "WARNING:tensorflow:Early stopping conditioned on metric `accuracy` which is not available. Available metrics are: loss,val_loss\n"
          ]
        },
        {
          "output_type": "stream",
          "name": "stdout",
          "text": [
            "\b\b\b\b\b\b\b\b\b\b\b\b\b\b\b\b\b\b\b\b\b\b\b\b\b\b\b\b\b\b\b\b\b\b\b\b\b\b\b\b\b\b\b\b\b\b\b\b\b\b\b\b\b\b\b\b\b\b\b\b\b\b\b\r11/11 [==============================] - 0s 4ms/step - loss: 0.7348 - val_loss: 0.7280\n",
            "Epoch 61/100\n",
            " 1/11 [=>............................] - ETA: 0s - loss: 0.7020"
          ]
        },
        {
          "output_type": "stream",
          "name": "stderr",
          "text": [
            "WARNING:tensorflow:Early stopping conditioned on metric `accuracy` which is not available. Available metrics are: loss,val_loss\n"
          ]
        },
        {
          "output_type": "stream",
          "name": "stdout",
          "text": [
            "\b\b\b\b\b\b\b\b\b\b\b\b\b\b\b\b\b\b\b\b\b\b\b\b\b\b\b\b\b\b\b\b\b\b\b\b\b\b\b\b\b\b\b\b\b\b\b\b\b\b\b\b\b\b\b\b\b\b\b\b\b\b\b\r11/11 [==============================] - 0s 4ms/step - loss: 0.7340 - val_loss: 0.7271\n",
            "Epoch 62/100\n",
            " 1/11 [=>............................] - ETA: 0s - loss: 0.7012"
          ]
        },
        {
          "output_type": "stream",
          "name": "stderr",
          "text": [
            "WARNING:tensorflow:Early stopping conditioned on metric `accuracy` which is not available. Available metrics are: loss,val_loss\n"
          ]
        },
        {
          "output_type": "stream",
          "name": "stdout",
          "text": [
            "\b\b\b\b\b\b\b\b\b\b\b\b\b\b\b\b\b\b\b\b\b\b\b\b\b\b\b\b\b\b\b\b\b\b\b\b\b\b\b\b\b\b\b\b\b\b\b\b\b\b\b\b\b\b\b\b\b\b\b\b\b\b\b\r11/11 [==============================] - 0s 4ms/step - loss: 0.7331 - val_loss: 0.7263\n",
            "Epoch 63/100\n",
            " 1/11 [=>............................] - ETA: 0s - loss: 0.6675"
          ]
        },
        {
          "output_type": "stream",
          "name": "stderr",
          "text": [
            "WARNING:tensorflow:Early stopping conditioned on metric `accuracy` which is not available. Available metrics are: loss,val_loss\n"
          ]
        },
        {
          "output_type": "stream",
          "name": "stdout",
          "text": [
            "\b\b\b\b\b\b\b\b\b\b\b\b\b\b\b\b\b\b\b\b\b\b\b\b\b\b\b\b\b\b\b\b\b\b\b\b\b\b\b\b\b\b\b\b\b\b\b\b\b\b\b\b\b\b\b\b\b\b\b\b\b\b\b\r11/11 [==============================] - 0s 4ms/step - loss: 0.7322 - val_loss: 0.7254\n",
            "Epoch 64/100\n",
            " 1/11 [=>............................] - ETA: 0s - loss: 0.7188"
          ]
        },
        {
          "output_type": "stream",
          "name": "stderr",
          "text": [
            "WARNING:tensorflow:Early stopping conditioned on metric `accuracy` which is not available. Available metrics are: loss,val_loss\n"
          ]
        },
        {
          "output_type": "stream",
          "name": "stdout",
          "text": [
            "\b\b\b\b\b\b\b\b\b\b\b\b\b\b\b\b\b\b\b\b\b\b\b\b\b\b\b\b\b\b\b\b\b\b\b\b\b\b\b\b\b\b\b\b\b\b\b\b\b\b\b\b\b\b\b\b\b\b\b\b\b\b\b\r11/11 [==============================] - 0s 5ms/step - loss: 0.7314 - val_loss: 0.7246\n",
            "Epoch 65/100\n",
            " 1/11 [=>............................] - ETA: 0s - loss: 0.6847"
          ]
        },
        {
          "output_type": "stream",
          "name": "stderr",
          "text": [
            "WARNING:tensorflow:Early stopping conditioned on metric `accuracy` which is not available. Available metrics are: loss,val_loss\n"
          ]
        },
        {
          "output_type": "stream",
          "name": "stdout",
          "text": [
            "\b\b\b\b\b\b\b\b\b\b\b\b\b\b\b\b\b\b\b\b\b\b\b\b\b\b\b\b\b\b\b\b\b\b\b\b\b\b\b\b\b\b\b\b\b\b\b\b\b\b\b\b\b\b\b\b\b\b\b\b\b\b\b\r11/11 [==============================] - 0s 5ms/step - loss: 0.7305 - val_loss: 0.7237\n",
            "Epoch 66/100\n",
            " 1/11 [=>............................] - ETA: 0s - loss: 0.7058"
          ]
        },
        {
          "output_type": "stream",
          "name": "stderr",
          "text": [
            "WARNING:tensorflow:Early stopping conditioned on metric `accuracy` which is not available. Available metrics are: loss,val_loss\n"
          ]
        },
        {
          "output_type": "stream",
          "name": "stdout",
          "text": [
            "\b\b\b\b\b\b\b\b\b\b\b\b\b\b\b\b\b\b\b\b\b\b\b\b\b\b\b\b\b\b\b\b\b\b\b\b\b\b\b\b\b\b\b\b\b\b\b\b\b\b\b\b\b\b\b\b\b\b\b\b\b\b\b\r11/11 [==============================] - 0s 4ms/step - loss: 0.7296 - val_loss: 0.7228\n",
            "Epoch 67/100\n",
            " 1/11 [=>............................] - ETA: 0s - loss: 0.7034"
          ]
        },
        {
          "output_type": "stream",
          "name": "stderr",
          "text": [
            "WARNING:tensorflow:Early stopping conditioned on metric `accuracy` which is not available. Available metrics are: loss,val_loss\n"
          ]
        },
        {
          "output_type": "stream",
          "name": "stdout",
          "text": [
            "\b\b\b\b\b\b\b\b\b\b\b\b\b\b\b\b\b\b\b\b\b\b\b\b\b\b\b\b\b\b\b\b\b\b\b\b\b\b\b\b\b\b\b\b\b\b\b\b\b\b\b\b\b\b\b\b\b\b\b\b\b\b\b\r11/11 [==============================] - 0s 6ms/step - loss: 0.7287 - val_loss: 0.7219\n",
            "Epoch 68/100\n",
            " 1/11 [=>............................] - ETA: 0s - loss: 0.7629"
          ]
        },
        {
          "output_type": "stream",
          "name": "stderr",
          "text": [
            "WARNING:tensorflow:Early stopping conditioned on metric `accuracy` which is not available. Available metrics are: loss,val_loss\n"
          ]
        },
        {
          "output_type": "stream",
          "name": "stdout",
          "text": [
            "\b\b\b\b\b\b\b\b\b\b\b\b\b\b\b\b\b\b\b\b\b\b\b\b\b\b\b\b\b\b\b\b\b\b\b\b\b\b\b\b\b\b\b\b\b\b\b\b\b\b\b\b\b\b\b\b\b\b\b\b\b\b\b\r11/11 [==============================] - 0s 4ms/step - loss: 0.7279 - val_loss: 0.7211\n",
            "Epoch 69/100\n",
            " 1/11 [=>............................] - ETA: 0s - loss: 0.7924"
          ]
        },
        {
          "output_type": "stream",
          "name": "stderr",
          "text": [
            "WARNING:tensorflow:Early stopping conditioned on metric `accuracy` which is not available. Available metrics are: loss,val_loss\n"
          ]
        },
        {
          "output_type": "stream",
          "name": "stdout",
          "text": [
            "\b\b\b\b\b\b\b\b\b\b\b\b\b\b\b\b\b\b\b\b\b\b\b\b\b\b\b\b\b\b\b\b\b\b\b\b\b\b\b\b\b\b\b\b\b\b\b\b\b\b\b\b\b\b\b\b\b\b\b\b\b\b\b\r11/11 [==============================] - 0s 6ms/step - loss: 0.7270 - val_loss: 0.7202\n",
            "Epoch 70/100\n",
            " 1/11 [=>............................] - ETA: 0s - loss: 0.7966"
          ]
        },
        {
          "output_type": "stream",
          "name": "stderr",
          "text": [
            "WARNING:tensorflow:Early stopping conditioned on metric `accuracy` which is not available. Available metrics are: loss,val_loss\n"
          ]
        },
        {
          "output_type": "stream",
          "name": "stdout",
          "text": [
            "\b\b\b\b\b\b\b\b\b\b\b\b\b\b\b\b\b\b\b\b\b\b\b\b\b\b\b\b\b\b\b\b\b\b\b\b\b\b\b\b\b\b\b\b\b\b\b\b\b\b\b\b\b\b\b\b\b\b\b\b\b\b\b\r11/11 [==============================] - 0s 5ms/step - loss: 0.7261 - val_loss: 0.7193\n",
            "Epoch 71/100\n",
            " 1/11 [=>............................] - ETA: 0s - loss: 0.7167"
          ]
        },
        {
          "output_type": "stream",
          "name": "stderr",
          "text": [
            "WARNING:tensorflow:Early stopping conditioned on metric `accuracy` which is not available. Available metrics are: loss,val_loss\n"
          ]
        },
        {
          "output_type": "stream",
          "name": "stdout",
          "text": [
            "\b\b\b\b\b\b\b\b\b\b\b\b\b\b\b\b\b\b\b\b\b\b\b\b\b\b\b\b\b\b\b\b\b\b\b\b\b\b\b\b\b\b\b\b\b\b\b\b\b\b\b\b\b\b\b\b\b\b\b\b\b\b\b\r11/11 [==============================] - 0s 4ms/step - loss: 0.7252 - val_loss: 0.7184\n",
            "Epoch 72/100\n",
            " 1/11 [=>............................] - ETA: 0s - loss: 0.7248"
          ]
        },
        {
          "output_type": "stream",
          "name": "stderr",
          "text": [
            "WARNING:tensorflow:Early stopping conditioned on metric `accuracy` which is not available. Available metrics are: loss,val_loss\n"
          ]
        },
        {
          "output_type": "stream",
          "name": "stdout",
          "text": [
            "\b\b\b\b\b\b\b\b\b\b\b\b\b\b\b\b\b\b\b\b\b\b\b\b\b\b\b\b\b\b\b\b\b\b\b\b\b\b\b\b\b\b\b\b\b\b\b\b\b\b\b\b\b\b\b\b\b\b\b\b\b\b\b\r11/11 [==============================] - 0s 6ms/step - loss: 0.7243 - val_loss: 0.7175\n",
            "Epoch 73/100\n",
            " 1/11 [=>............................] - ETA: 0s - loss: 0.7362"
          ]
        },
        {
          "output_type": "stream",
          "name": "stderr",
          "text": [
            "WARNING:tensorflow:Early stopping conditioned on metric `accuracy` which is not available. Available metrics are: loss,val_loss\n"
          ]
        },
        {
          "output_type": "stream",
          "name": "stdout",
          "text": [
            "\b\b\b\b\b\b\b\b\b\b\b\b\b\b\b\b\b\b\b\b\b\b\b\b\b\b\b\b\b\b\b\b\b\b\b\b\b\b\b\b\b\b\b\b\b\b\b\b\b\b\b\b\b\b\b\b\b\b\b\b\b\b\b\r11/11 [==============================] - 0s 4ms/step - loss: 0.7234 - val_loss: 0.7166\n",
            "Epoch 74/100\n",
            " 1/11 [=>............................] - ETA: 0s - loss: 0.7248"
          ]
        },
        {
          "output_type": "stream",
          "name": "stderr",
          "text": [
            "WARNING:tensorflow:Early stopping conditioned on metric `accuracy` which is not available. Available metrics are: loss,val_loss\n"
          ]
        },
        {
          "output_type": "stream",
          "name": "stdout",
          "text": [
            "\b\b\b\b\b\b\b\b\b\b\b\b\b\b\b\b\b\b\b\b\b\b\b\b\b\b\b\b\b\b\b\b\b\b\b\b\b\b\b\b\b\b\b\b\b\b\b\b\b\b\b\b\b\b\b\b\b\b\b\b\b\b\b\r11/11 [==============================] - 0s 4ms/step - loss: 0.7225 - val_loss: 0.7157\n",
            "Epoch 75/100\n",
            " 1/11 [=>............................] - ETA: 0s - loss: 0.7040"
          ]
        },
        {
          "output_type": "stream",
          "name": "stderr",
          "text": [
            "WARNING:tensorflow:Early stopping conditioned on metric `accuracy` which is not available. Available metrics are: loss,val_loss\n"
          ]
        },
        {
          "output_type": "stream",
          "name": "stdout",
          "text": [
            "\b\b\b\b\b\b\b\b\b\b\b\b\b\b\b\b\b\b\b\b\b\b\b\b\b\b\b\b\b\b\b\b\b\b\b\b\b\b\b\b\b\b\b\b\b\b\b\b\b\b\b\b\b\b\b\b\b\b\b\b\b\b\b\r11/11 [==============================] - 0s 5ms/step - loss: 0.7216 - val_loss: 0.7148\n",
            "Epoch 76/100\n",
            " 1/11 [=>............................] - ETA: 0s - loss: 0.7773"
          ]
        },
        {
          "output_type": "stream",
          "name": "stderr",
          "text": [
            "WARNING:tensorflow:Early stopping conditioned on metric `accuracy` which is not available. Available metrics are: loss,val_loss\n"
          ]
        },
        {
          "output_type": "stream",
          "name": "stdout",
          "text": [
            "\b\b\b\b\b\b\b\b\b\b\b\b\b\b\b\b\b\b\b\b\b\b\b\b\b\b\b\b\b\b\b\b\b\b\b\b\b\b\b\b\b\b\b\b\b\b\b\b\b\b\b\b\b\b\b\b\b\b\b\b\b\b\b\r11/11 [==============================] - 0s 4ms/step - loss: 0.7207 - val_loss: 0.7139\n",
            "Epoch 77/100\n",
            " 1/11 [=>............................] - ETA: 0s - loss: 0.6916"
          ]
        },
        {
          "output_type": "stream",
          "name": "stderr",
          "text": [
            "WARNING:tensorflow:Early stopping conditioned on metric `accuracy` which is not available. Available metrics are: loss,val_loss\n"
          ]
        },
        {
          "output_type": "stream",
          "name": "stdout",
          "text": [
            "\b\b\b\b\b\b\b\b\b\b\b\b\b\b\b\b\b\b\b\b\b\b\b\b\b\b\b\b\b\b\b\b\b\b\b\b\b\b\b\b\b\b\b\b\b\b\b\b\b\b\b\b\b\b\b\b\b\b\b\b\b\b\b\r11/11 [==============================] - 0s 6ms/step - loss: 0.7198 - val_loss: 0.7130\n",
            "Epoch 78/100\n",
            " 1/11 [=>............................] - ETA: 0s - loss: 0.6942"
          ]
        },
        {
          "output_type": "stream",
          "name": "stderr",
          "text": [
            "WARNING:tensorflow:Early stopping conditioned on metric `accuracy` which is not available. Available metrics are: loss,val_loss\n"
          ]
        },
        {
          "output_type": "stream",
          "name": "stdout",
          "text": [
            "\b\b\b\b\b\b\b\b\b\b\b\b\b\b\b\b\b\b\b\b\b\b\b\b\b\b\b\b\b\b\b\b\b\b\b\b\b\b\b\b\b\b\b\b\b\b\b\b\b\b\b\b\b\b\b\b\b\b\b\b\b\b\b\r11/11 [==============================] - 0s 4ms/step - loss: 0.7189 - val_loss: 0.7121\n",
            "Epoch 79/100\n",
            " 1/11 [=>............................] - ETA: 0s - loss: 0.6147"
          ]
        },
        {
          "output_type": "stream",
          "name": "stderr",
          "text": [
            "WARNING:tensorflow:Early stopping conditioned on metric `accuracy` which is not available. Available metrics are: loss,val_loss\n"
          ]
        },
        {
          "output_type": "stream",
          "name": "stdout",
          "text": [
            "\b\b\b\b\b\b\b\b\b\b\b\b\b\b\b\b\b\b\b\b\b\b\b\b\b\b\b\b\b\b\b\b\b\b\b\b\b\b\b\b\b\b\b\b\b\b\b\b\b\b\b\b\b\b\b\b\b\b\b\b\b\b\b\r11/11 [==============================] - 0s 5ms/step - loss: 0.7180 - val_loss: 0.7112\n",
            "Epoch 80/100\n",
            " 1/11 [=>............................] - ETA: 0s - loss: 0.6893"
          ]
        },
        {
          "output_type": "stream",
          "name": "stderr",
          "text": [
            "WARNING:tensorflow:Early stopping conditioned on metric `accuracy` which is not available. Available metrics are: loss,val_loss\n"
          ]
        },
        {
          "output_type": "stream",
          "name": "stdout",
          "text": [
            "\b\b\b\b\b\b\b\b\b\b\b\b\b\b\b\b\b\b\b\b\b\b\b\b\b\b\b\b\b\b\b\b\b\b\b\b\b\b\b\b\b\b\b\b\b\b\b\b\b\b\b\b\b\b\b\b\b\b\b\b\b\b\b\r11/11 [==============================] - 0s 6ms/step - loss: 0.7171 - val_loss: 0.7103\n",
            "Epoch 81/100\n",
            " 1/11 [=>............................] - ETA: 0s - loss: 0.6524"
          ]
        },
        {
          "output_type": "stream",
          "name": "stderr",
          "text": [
            "WARNING:tensorflow:Early stopping conditioned on metric `accuracy` which is not available. Available metrics are: loss,val_loss\n"
          ]
        },
        {
          "output_type": "stream",
          "name": "stdout",
          "text": [
            "\b\b\b\b\b\b\b\b\b\b\b\b\b\b\b\b\b\b\b\b\b\b\b\b\b\b\b\b\b\b\b\b\b\b\b\b\b\b\b\b\b\b\b\b\b\b\b\b\b\b\b\b\b\b\b\b\b\b\b\b\b\b\b\r11/11 [==============================] - 0s 6ms/step - loss: 0.7162 - val_loss: 0.7094\n",
            "Epoch 82/100\n",
            " 1/11 [=>............................] - ETA: 0s - loss: 0.7373"
          ]
        },
        {
          "output_type": "stream",
          "name": "stderr",
          "text": [
            "WARNING:tensorflow:Early stopping conditioned on metric `accuracy` which is not available. Available metrics are: loss,val_loss\n"
          ]
        },
        {
          "output_type": "stream",
          "name": "stdout",
          "text": [
            "\b\b\b\b\b\b\b\b\b\b\b\b\b\b\b\b\b\b\b\b\b\b\b\b\b\b\b\b\b\b\b\b\b\b\b\b\b\b\b\b\b\b\b\b\b\b\b\b\b\b\b\b\b\b\b\b\b\b\b\b\b\b\b\r11/11 [==============================] - 0s 6ms/step - loss: 0.7152 - val_loss: 0.7084\n",
            "Epoch 83/100\n",
            " 1/11 [=>............................] - ETA: 0s - loss: 0.7531"
          ]
        },
        {
          "output_type": "stream",
          "name": "stderr",
          "text": [
            "WARNING:tensorflow:Early stopping conditioned on metric `accuracy` which is not available. Available metrics are: loss,val_loss\n"
          ]
        },
        {
          "output_type": "stream",
          "name": "stdout",
          "text": [
            "\b\b\b\b\b\b\b\b\b\b\b\b\b\b\b\b\b\b\b\b\b\b\b\b\b\b\b\b\b\b\b\b\b\b\b\b\b\b\b\b\b\b\b\b\b\b\b\b\b\b\b\b\b\b\b\b\b\b\b\b\b\b\b\r11/11 [==============================] - 0s 4ms/step - loss: 0.7143 - val_loss: 0.7075\n",
            "Epoch 84/100\n",
            " 1/11 [=>............................] - ETA: 0s - loss: 0.6887"
          ]
        },
        {
          "output_type": "stream",
          "name": "stderr",
          "text": [
            "WARNING:tensorflow:Early stopping conditioned on metric `accuracy` which is not available. Available metrics are: loss,val_loss\n"
          ]
        },
        {
          "output_type": "stream",
          "name": "stdout",
          "text": [
            "\b\b\b\b\b\b\b\b\b\b\b\b\b\b\b\b\b\b\b\b\b\b\b\b\b\b\b\b\b\b\b\b\b\b\b\b\b\b\b\b\b\b\b\b\b\b\b\b\b\b\b\b\b\b\b\b\b\b\b\b\b\b\b\r11/11 [==============================] - 0s 4ms/step - loss: 0.7134 - val_loss: 0.7066\n",
            "Epoch 85/100\n",
            " 1/11 [=>............................] - ETA: 0s - loss: 0.7377"
          ]
        },
        {
          "output_type": "stream",
          "name": "stderr",
          "text": [
            "WARNING:tensorflow:Early stopping conditioned on metric `accuracy` which is not available. Available metrics are: loss,val_loss\n"
          ]
        },
        {
          "output_type": "stream",
          "name": "stdout",
          "text": [
            "\b\b\b\b\b\b\b\b\b\b\b\b\b\b\b\b\b\b\b\b\b\b\b\b\b\b\b\b\b\b\b\b\b\b\b\b\b\b\b\b\b\b\b\b\b\b\b\b\b\b\b\b\b\b\b\b\b\b\b\b\b\b\b\r11/11 [==============================] - 0s 4ms/step - loss: 0.7125 - val_loss: 0.7056\n",
            "Epoch 86/100\n",
            " 1/11 [=>............................] - ETA: 0s - loss: 0.7058"
          ]
        },
        {
          "output_type": "stream",
          "name": "stderr",
          "text": [
            "WARNING:tensorflow:Early stopping conditioned on metric `accuracy` which is not available. Available metrics are: loss,val_loss\n"
          ]
        },
        {
          "output_type": "stream",
          "name": "stdout",
          "text": [
            "\b\b\b\b\b\b\b\b\b\b\b\b\b\b\b\b\b\b\b\b\b\b\b\b\b\b\b\b\b\b\b\b\b\b\b\b\b\b\b\b\b\b\b\b\b\b\b\b\b\b\b\b\b\b\b\b\b\b\b\b\b\b\b\r11/11 [==============================] - 0s 5ms/step - loss: 0.7115 - val_loss: 0.7047\n",
            "Epoch 87/100\n",
            " 1/11 [=>............................] - ETA: 0s - loss: 0.6486"
          ]
        },
        {
          "output_type": "stream",
          "name": "stderr",
          "text": [
            "WARNING:tensorflow:Early stopping conditioned on metric `accuracy` which is not available. Available metrics are: loss,val_loss\n"
          ]
        },
        {
          "output_type": "stream",
          "name": "stdout",
          "text": [
            "\b\b\b\b\b\b\b\b\b\b\b\b\b\b\b\b\b\b\b\b\b\b\b\b\b\b\b\b\b\b\b\b\b\b\b\b\b\b\b\b\b\b\b\b\b\b\b\b\b\b\b\b\b\b\b\b\b\b\b\b\b\b\b\r11/11 [==============================] - 0s 4ms/step - loss: 0.7106 - val_loss: 0.7038\n",
            "Epoch 88/100\n",
            " 1/11 [=>............................] - ETA: 0s - loss: 0.7355"
          ]
        },
        {
          "output_type": "stream",
          "name": "stderr",
          "text": [
            "WARNING:tensorflow:Early stopping conditioned on metric `accuracy` which is not available. Available metrics are: loss,val_loss\n"
          ]
        },
        {
          "output_type": "stream",
          "name": "stdout",
          "text": [
            "\b\b\b\b\b\b\b\b\b\b\b\b\b\b\b\b\b\b\b\b\b\b\b\b\b\b\b\b\b\b\b\b\b\b\b\b\b\b\b\b\b\b\b\b\b\b\b\b\b\b\b\b\b\b\b\b\b\b\b\b\b\b\b\r11/11 [==============================] - 0s 4ms/step - loss: 0.7097 - val_loss: 0.7028\n",
            "Epoch 89/100\n",
            " 1/11 [=>............................] - ETA: 0s - loss: 0.7412"
          ]
        },
        {
          "output_type": "stream",
          "name": "stderr",
          "text": [
            "WARNING:tensorflow:Early stopping conditioned on metric `accuracy` which is not available. Available metrics are: loss,val_loss\n"
          ]
        },
        {
          "output_type": "stream",
          "name": "stdout",
          "text": [
            "\b\b\b\b\b\b\b\b\b\b\b\b\b\b\b\b\b\b\b\b\b\b\b\b\b\b\b\b\b\b\b\b\b\b\b\b\b\b\b\b\b\b\b\b\b\b\b\b\b\b\b\b\b\b\b\b\b\b\b\b\b\b\b\r11/11 [==============================] - 0s 4ms/step - loss: 0.7087 - val_loss: 0.7019\n",
            "Epoch 90/100\n",
            " 1/11 [=>............................] - ETA: 0s - loss: 0.7304"
          ]
        },
        {
          "output_type": "stream",
          "name": "stderr",
          "text": [
            "WARNING:tensorflow:Early stopping conditioned on metric `accuracy` which is not available. Available metrics are: loss,val_loss\n"
          ]
        },
        {
          "output_type": "stream",
          "name": "stdout",
          "text": [
            "\b\b\b\b\b\b\b\b\b\b\b\b\b\b\b\b\b\b\b\b\b\b\b\b\b\b\b\b\b\b\b\b\b\b\b\b\b\b\b\b\b\b\b\b\b\b\b\b\b\b\b\b\b\b\b\b\b\b\b\b\b\b\b\r11/11 [==============================] - 0s 4ms/step - loss: 0.7078 - val_loss: 0.7010\n",
            "Epoch 91/100\n",
            " 1/11 [=>............................] - ETA: 0s - loss: 0.7060"
          ]
        },
        {
          "output_type": "stream",
          "name": "stderr",
          "text": [
            "WARNING:tensorflow:Early stopping conditioned on metric `accuracy` which is not available. Available metrics are: loss,val_loss\n"
          ]
        },
        {
          "output_type": "stream",
          "name": "stdout",
          "text": [
            "\b\b\b\b\b\b\b\b\b\b\b\b\b\b\b\b\b\b\b\b\b\b\b\b\b\b\b\b\b\b\b\b\b\b\b\b\b\b\b\b\b\b\b\b\b\b\b\b\b\b\b\b\b\b\b\b\b\b\b\b\b\b\b\r11/11 [==============================] - 0s 4ms/step - loss: 0.7068 - val_loss: 0.7000\n",
            "Epoch 92/100\n",
            " 1/11 [=>............................] - ETA: 0s - loss: 0.7231"
          ]
        },
        {
          "output_type": "stream",
          "name": "stderr",
          "text": [
            "WARNING:tensorflow:Early stopping conditioned on metric `accuracy` which is not available. Available metrics are: loss,val_loss\n"
          ]
        },
        {
          "output_type": "stream",
          "name": "stdout",
          "text": [
            "\b\b\b\b\b\b\b\b\b\b\b\b\b\b\b\b\b\b\b\b\b\b\b\b\b\b\b\b\b\b\b\b\b\b\b\b\b\b\b\b\b\b\b\b\b\b\b\b\b\b\b\b\b\b\b\b\b\b\b\b\b\b\b\r11/11 [==============================] - 0s 6ms/step - loss: 0.7059 - val_loss: 0.6991\n",
            "Epoch 93/100\n",
            " 1/11 [=>............................] - ETA: 0s - loss: 0.7273"
          ]
        },
        {
          "output_type": "stream",
          "name": "stderr",
          "text": [
            "WARNING:tensorflow:Early stopping conditioned on metric `accuracy` which is not available. Available metrics are: loss,val_loss\n"
          ]
        },
        {
          "output_type": "stream",
          "name": "stdout",
          "text": [
            "\b\b\b\b\b\b\b\b\b\b\b\b\b\b\b\b\b\b\b\b\b\b\b\b\b\b\b\b\b\b\b\b\b\b\b\b\b\b\b\b\b\b\b\b\b\b\b\b\b\b\b\b\b\b\b\b\b\b\b\b\b\b\b\r11/11 [==============================] - 0s 7ms/step - loss: 0.7049 - val_loss: 0.6981\n",
            "Epoch 94/100\n",
            " 1/11 [=>............................] - ETA: 0s - loss: 0.7152"
          ]
        },
        {
          "output_type": "stream",
          "name": "stderr",
          "text": [
            "WARNING:tensorflow:Early stopping conditioned on metric `accuracy` which is not available. Available metrics are: loss,val_loss\n"
          ]
        },
        {
          "output_type": "stream",
          "name": "stdout",
          "text": [
            "\b\b\b\b\b\b\b\b\b\b\b\b\b\b\b\b\b\b\b\b\b\b\b\b\b\b\b\b\b\b\b\b\b\b\b\b\b\b\b\b\b\b\b\b\b\b\b\b\b\b\b\b\b\b\b\b\b\b\b\b\b\b\b\r11/11 [==============================] - 0s 4ms/step - loss: 0.7040 - val_loss: 0.6972\n",
            "Epoch 95/100\n",
            " 1/11 [=>............................] - ETA: 0s - loss: 0.6561"
          ]
        },
        {
          "output_type": "stream",
          "name": "stderr",
          "text": [
            "WARNING:tensorflow:Early stopping conditioned on metric `accuracy` which is not available. Available metrics are: loss,val_loss\n"
          ]
        },
        {
          "output_type": "stream",
          "name": "stdout",
          "text": [
            "\b\b\b\b\b\b\b\b\b\b\b\b\b\b\b\b\b\b\b\b\b\b\b\b\b\b\b\b\b\b\b\b\b\b\b\b\b\b\b\b\b\b\b\b\b\b\b\b\b\b\b\b\b\b\b\b\b\b\b\b\b\b\b\r11/11 [==============================] - 0s 4ms/step - loss: 0.7030 - val_loss: 0.6962\n",
            "Epoch 96/100\n",
            " 1/11 [=>............................] - ETA: 0s - loss: 0.7667"
          ]
        },
        {
          "output_type": "stream",
          "name": "stderr",
          "text": [
            "WARNING:tensorflow:Early stopping conditioned on metric `accuracy` which is not available. Available metrics are: loss,val_loss\n"
          ]
        },
        {
          "output_type": "stream",
          "name": "stdout",
          "text": [
            "\b\b\b\b\b\b\b\b\b\b\b\b\b\b\b\b\b\b\b\b\b\b\b\b\b\b\b\b\b\b\b\b\b\b\b\b\b\b\b\b\b\b\b\b\b\b\b\b\b\b\b\b\b\b\b\b\b\b\b\b\b\b\b\r11/11 [==============================] - 0s 7ms/step - loss: 0.7021 - val_loss: 0.6953\n",
            "Epoch 97/100\n",
            " 1/11 [=>............................] - ETA: 0s - loss: 0.6502"
          ]
        },
        {
          "output_type": "stream",
          "name": "stderr",
          "text": [
            "WARNING:tensorflow:Early stopping conditioned on metric `accuracy` which is not available. Available metrics are: loss,val_loss\n"
          ]
        },
        {
          "output_type": "stream",
          "name": "stdout",
          "text": [
            "\b\b\b\b\b\b\b\b\b\b\b\b\b\b\b\b\b\b\b\b\b\b\b\b\b\b\b\b\b\b\b\b\b\b\b\b\b\b\b\b\b\b\b\b\b\b\b\b\b\b\b\b\b\b\b\b\b\b\b\b\b\b\b\r11/11 [==============================] - 0s 4ms/step - loss: 0.7011 - val_loss: 0.6943\n",
            "Epoch 98/100\n",
            " 1/11 [=>............................] - ETA: 0s - loss: 0.7352"
          ]
        },
        {
          "output_type": "stream",
          "name": "stderr",
          "text": [
            "WARNING:tensorflow:Early stopping conditioned on metric `accuracy` which is not available. Available metrics are: loss,val_loss\n"
          ]
        },
        {
          "output_type": "stream",
          "name": "stdout",
          "text": [
            "\b\b\b\b\b\b\b\b\b\b\b\b\b\b\b\b\b\b\b\b\b\b\b\b\b\b\b\b\b\b\b\b\b\b\b\b\b\b\b\b\b\b\b\b\b\b\b\b\b\b\b\b\b\b\b\b\b\b\b\b\b\b\b\r11/11 [==============================] - 0s 4ms/step - loss: 0.7002 - val_loss: 0.6934\n",
            "Epoch 99/100\n",
            " 1/11 [=>............................] - ETA: 0s - loss: 0.7227"
          ]
        },
        {
          "output_type": "stream",
          "name": "stderr",
          "text": [
            "WARNING:tensorflow:Early stopping conditioned on metric `accuracy` which is not available. Available metrics are: loss,val_loss\n"
          ]
        },
        {
          "output_type": "stream",
          "name": "stdout",
          "text": [
            "\b\b\b\b\b\b\b\b\b\b\b\b\b\b\b\b\b\b\b\b\b\b\b\b\b\b\b\b\b\b\b\b\b\b\b\b\b\b\b\b\b\b\b\b\b\b\b\b\b\b\b\b\b\b\b\b\b\b\b\b\b\b\b\r11/11 [==============================] - 0s 6ms/step - loss: 0.6992 - val_loss: 0.6924\n",
            "Epoch 100/100\n",
            " 1/11 [=>............................] - ETA: 0s - loss: 0.7036"
          ]
        },
        {
          "output_type": "stream",
          "name": "stderr",
          "text": [
            "WARNING:tensorflow:Early stopping conditioned on metric `accuracy` which is not available. Available metrics are: loss,val_loss\n"
          ]
        },
        {
          "output_type": "stream",
          "name": "stdout",
          "text": [
            "\b\b\b\b\b\b\b\b\b\b\b\b\b\b\b\b\b\b\b\b\b\b\b\b\b\b\b\b\b\b\b\b\b\b\b\b\b\b\b\b\b\b\b\b\b\b\b\b\b\b\b\b\b\b\b\b\b\b\b\b\b\b\b\r11/11 [==============================] - 0s 6ms/step - loss: 0.6982 - val_loss: 0.6914\n"
          ]
        }
      ]
    },
    {
      "cell_type": "markdown",
      "source": [
        "# **Sample Values**"
      ],
      "metadata": {
        "id": "oNj_KDIOzLvg"
      }
    },
    {
      "cell_type": "code",
      "source": [
        "df2 = df[\"House Age\"].std()\n",
        "print(df2)"
      ],
      "metadata": {
        "colab": {
          "base_uri": "https://localhost:8080/"
        },
        "id": "bA9GhpDDUpe2",
        "outputId": "58024618-60a2-4391-bb78-efe35a9dbced"
      },
      "execution_count": 88,
      "outputs": [
        {
          "output_type": "stream",
          "name": "stdout",
          "text": [
            "11.39248453324253\n"
          ]
        }
      ]
    },
    {
      "cell_type": "code",
      "source": [
        "df2 = df[\"House Age\"].mean()\n",
        "print(df2)"
      ],
      "metadata": {
        "colab": {
          "base_uri": "https://localhost:8080/"
        },
        "id": "hPkloTSXWWiR",
        "outputId": "5f6f8143-4161-44a2-aaa9-68f9d002437b"
      },
      "execution_count": 89,
      "outputs": [
        {
          "output_type": "stream",
          "name": "stdout",
          "text": [
            "17.71256038647343\n"
          ]
        }
      ]
    },
    {
      "cell_type": "code",
      "source": [
        "House_Age= 23\n",
        "House_Age= (House_Age- 17.71256038647343 )/ 11.39248453324253\n",
        "print(House_Age)"
      ],
      "metadata": {
        "colab": {
          "base_uri": "https://localhost:8080/"
        },
        "id": "gcO8nyxkWiSz",
        "outputId": "8b8e9c54-fd97-41a6-f5aa-5aa7a737950d"
      },
      "execution_count": 90,
      "outputs": [
        {
          "output_type": "stream",
          "name": "stdout",
          "text": [
            "0.4641164618743316\n"
          ]
        }
      ]
    },
    {
      "cell_type": "code",
      "source": [
        "House_price_of_unit_area = 37.9 \n",
        "House_price_of_unit_area = (House_price_of_unit_area- 37.980193236714975 )/ 37.980193236714975\n",
        "print(House_price_of_unit_area)"
      ],
      "metadata": {
        "colab": {
          "base_uri": "https://localhost:8080/"
        },
        "id": "JkAglWcpR7Tf",
        "outputId": "9ae97888-064d-45ee-eb7f-25c0203bf025"
      },
      "execution_count": 91,
      "outputs": [
        {
          "output_type": "stream",
          "name": "stdout",
          "text": [
            "-0.002111448886401511\n"
          ]
        }
      ]
    },
    {
      "cell_type": "code",
      "source": [
        "df2 = df[\"Distance from nearest Metro station (km)\"].mean()\n",
        "print(df2)"
      ],
      "metadata": {
        "colab": {
          "base_uri": "https://localhost:8080/"
        },
        "id": "wZmUuvEGZj7x",
        "outputId": "93e62f6f-332f-4339-853b-3f3bfc29c83a"
      },
      "execution_count": 92,
      "outputs": [
        {
          "output_type": "stream",
          "name": "stdout",
          "text": [
            "1083.8856889130436\n"
          ]
        }
      ]
    },
    {
      "cell_type": "code",
      "source": [
        "df2 = df[\"Distance from nearest Metro station (km)\"].std()\n",
        "print(df2)"
      ],
      "metadata": {
        "colab": {
          "base_uri": "https://localhost:8080/"
        },
        "id": "oxOTUgdlZyyj",
        "outputId": "ad3e1b5f-0a44-4778-838d-1f96534a6a6d"
      },
      "execution_count": 93,
      "outputs": [
        {
          "output_type": "stream",
          "name": "stdout",
          "text": [
            "1262.1095954078512\n"
          ]
        }
      ]
    },
    {
      "cell_type": "code",
      "source": [
        "Distance_from_nearest_Metro_station_km= -0.154534\t\n",
        "Distance_from_nearest_Metro_station_km= (Distance_from_nearest_Metro_station_km- 1083.8856889130436 )/ 1262.1095954078512"
      ],
      "metadata": {
        "id": "uXg6nn4aV8Xt"
      },
      "execution_count": 94,
      "outputs": []
    },
    {
      "cell_type": "code",
      "source": [
        "df2 = df[\"longitude\"].mean()\n",
        "print(df2)"
      ],
      "metadata": {
        "colab": {
          "base_uri": "https://localhost:8080/"
        },
        "id": "mTJKLutdV8UT",
        "outputId": "6b7ddc78-58b8-4f70-c427-e9a74195bfb4"
      },
      "execution_count": 95,
      "outputs": [
        {
          "output_type": "stream",
          "name": "stdout",
          "text": [
            "121.53336108695655\n"
          ]
        }
      ]
    },
    {
      "cell_type": "code",
      "source": [
        "df2 = df[\"longitude\"].std()\n",
        "print(df2)"
      ],
      "metadata": {
        "colab": {
          "base_uri": "https://localhost:8080/"
        },
        "id": "hKaIPjbMbQOi",
        "outputId": "3ffe29cc-f306-48d0-d657-0bd042e4b921"
      },
      "execution_count": 96,
      "outputs": [
        {
          "output_type": "stream",
          "name": "stdout",
          "text": [
            "0.015347183004592205\n"
          ]
        }
      ]
    },
    {
      "cell_type": "code",
      "source": [
        "longitude= 230.074174\n",
        "longitude= (longitude- 121.53336108695655 )/ 0.015347183004592205\n",
        "print(longitude)"
      ],
      "metadata": {
        "colab": {
          "base_uri": "https://localhost:8080/"
        },
        "id": "8USqzn0-bTf1",
        "outputId": "8023fbeb-29bd-4d30-decc-84297a42943e"
      },
      "execution_count": 97,
      "outputs": [
        {
          "output_type": "stream",
          "name": "stdout",
          "text": [
            "7072.360633255348\n"
          ]
        }
      ]
    },
    {
      "cell_type": "code",
      "source": [
        "df2 = df[\"longitude\"].std()\n",
        "print(df2)"
      ],
      "metadata": {
        "id": "tm7yQZqZb0MI",
        "colab": {
          "base_uri": "https://localhost:8080/"
        },
        "outputId": "245cf3b6-f646-467a-abbd-d57ec81db446"
      },
      "execution_count": 98,
      "outputs": [
        {
          "output_type": "stream",
          "name": "stdout",
          "text": [
            "0.015347183004592205\n"
          ]
        }
      ]
    },
    {
      "cell_type": "code",
      "source": [
        "df2 = df[\"Number of convenience stores\"].mean()\n",
        "print(df2)"
      ],
      "metadata": {
        "colab": {
          "base_uri": "https://localhost:8080/"
        },
        "id": "hGTzc_YLcLgs",
        "outputId": "5b3c97bf-d3d7-4a4d-a55f-6e3e77c9b62c"
      },
      "execution_count": 99,
      "outputs": [
        {
          "output_type": "stream",
          "name": "stdout",
          "text": [
            "4.094202898550725\n"
          ]
        }
      ]
    },
    {
      "cell_type": "code",
      "source": [
        "df2 = df[\"Number of convenience stores\"].std()\n",
        "print(df2)"
      ],
      "metadata": {
        "colab": {
          "base_uri": "https://localhost:8080/"
        },
        "id": "8eQePO4wcWG0",
        "outputId": "c915e9a5-2e4f-4a7f-c12b-63d3abe046b0"
      },
      "execution_count": 100,
      "outputs": [
        {
          "output_type": "stream",
          "name": "stdout",
          "text": [
            "2.945561805663618\n"
          ]
        }
      ]
    },
    {
      "cell_type": "code",
      "source": [
        "Number_of_convenience_stores= 0.59058\n",
        "Number_of_convenience_stores= (Number_of_convenience_stores- 4.094202898550725 )/ 2.945561805663618\n",
        "print(Number_of_convenience_stores)"
      ],
      "metadata": {
        "colab": {
          "base_uri": "https://localhost:8080/"
        },
        "id": "1Y2Akfi-cV8I",
        "outputId": "d5b62e23-822c-4be3-8c6e-2966c975cd1d"
      },
      "execution_count": 101,
      "outputs": [
        {
          "output_type": "stream",
          "name": "stdout",
          "text": [
            "-1.189458286637913\n"
          ]
        }
      ]
    },
    {
      "cell_type": "code",
      "source": [
        "df2 = df[\"latitude\"].mean()\n",
        "print(df2)"
      ],
      "metadata": {
        "colab": {
          "base_uri": "https://localhost:8080/"
        },
        "id": "6q57BxWDcVu2",
        "outputId": "ed650962-1bb8-46b5-9252-b5d9a9fbdbe7"
      },
      "execution_count": 102,
      "outputs": [
        {
          "output_type": "stream",
          "name": "stdout",
          "text": [
            "24.969030072463767\n"
          ]
        }
      ]
    },
    {
      "cell_type": "code",
      "source": [
        "df2 = df[\"latitude\"].std()\n",
        "print(df2)"
      ],
      "metadata": {
        "colab": {
          "base_uri": "https://localhost:8080/"
        },
        "id": "p6rVd1M8c9OK",
        "outputId": "0cea2fe1-86f4-4a33-83a1-c85095322cd9"
      },
      "execution_count": 103,
      "outputs": [
        {
          "output_type": "stream",
          "name": "stdout",
          "text": [
            "0.012410196590450338\n"
          ]
        }
      ]
    },
    {
      "cell_type": "code",
      "source": [
        "latitude= 0.169049\n",
        "latitude= (latitude- 24.969030072463767 )/ 0.012410196590450338\n",
        "print(latitude)"
      ],
      "metadata": {
        "colab": {
          "base_uri": "https://localhost:8080/"
        },
        "id": "_NMTH4AidEkZ",
        "outputId": "ca925d9d-fea7-457e-b39d-b2259283b704"
      },
      "execution_count": 104,
      "outputs": [
        {
          "output_type": "stream",
          "name": "stdout",
          "text": [
            "-1998.3552147390947\n"
          ]
        }
      ]
    },
    {
      "cell_type": "code",
      "source": [
        "df2 = df[\"Number of bedrooms\"].mean()\n",
        "print(df2)"
      ],
      "metadata": {
        "colab": {
          "base_uri": "https://localhost:8080/"
        },
        "id": "kzEieZeLdEg_",
        "outputId": "a99472d3-52fa-4f09-f914-eb22075c4643"
      },
      "execution_count": 105,
      "outputs": [
        {
          "output_type": "stream",
          "name": "stdout",
          "text": [
            "1.9879227053140096\n"
          ]
        }
      ]
    },
    {
      "cell_type": "code",
      "source": [
        "df2 = df[\"Number of bedrooms\"].std()\n",
        "print(df2)"
      ],
      "metadata": {
        "colab": {
          "base_uri": "https://localhost:8080/"
        },
        "id": "IMtlW8-ndEeq",
        "outputId": "e1904bb0-6f3a-4ea3-f23e-a9bb9e966fc4"
      },
      "execution_count": 106,
      "outputs": [
        {
          "output_type": "stream",
          "name": "stdout",
          "text": [
            "0.81887481641297\n"
          ]
        }
      ]
    },
    {
      "cell_type": "code",
      "source": [
        "Number_of_bedrooms= -0.493961\n",
        "Number_of_bedrooms= (Number_of_bedrooms- 1.9879227053140096 )/ 0.81887481641297\n",
        "print(Number_of_bedrooms)"
      ],
      "metadata": {
        "colab": {
          "base_uri": "https://localhost:8080/"
        },
        "id": "_Z2I0IQBdEbY",
        "outputId": "e6c085d8-77d9-4d2c-a792-7534197374eb"
      },
      "execution_count": 107,
      "outputs": [
        {
          "output_type": "stream",
          "name": "stdout",
          "text": [
            "-3.030846297344625\n"
          ]
        }
      ]
    },
    {
      "cell_type": "code",
      "source": [
        "df2 = df[\"House size (sqft)\"].mean()\n",
        "print(df2)"
      ],
      "metadata": {
        "colab": {
          "base_uri": "https://localhost:8080/"
        },
        "id": "-KkyGz2neeHm",
        "outputId": "56e1e20f-8082-485d-b547-043ca9151221"
      },
      "execution_count": 108,
      "outputs": [
        {
          "output_type": "stream",
          "name": "stdout",
          "text": [
            "931.475845410628\n"
          ]
        }
      ]
    },
    {
      "cell_type": "code",
      "source": [
        "df2 = df[\"House size (sqft)\"].std()\n",
        "print(df2)"
      ],
      "metadata": {
        "colab": {
          "base_uri": "https://localhost:8080/"
        },
        "id": "Nvd3MNK7eeCW",
        "outputId": "73327145-8eb6-49c1-bafb-be3b92774d27"
      },
      "execution_count": 109,
      "outputs": [
        {
          "output_type": "stream",
          "name": "stdout",
          "text": [
            "348.9102691645236\n"
          ]
        }
      ]
    },
    {
      "cell_type": "code",
      "source": [
        "House_size_sqft= -0.324659\n",
        "House_size_sqft= (House_size_sqft- 931.475845410628)/ 348.9102691645236\n",
        "print(House_size_sqft)"
      ],
      "metadata": {
        "colab": {
          "base_uri": "https://localhost:8080/"
        },
        "id": "h-FEbG3ted7V",
        "outputId": "19b2281f-73b2-465c-968e-220f94c15df4"
      },
      "execution_count": 110,
      "outputs": [
        {
          "output_type": "stream",
          "name": "stdout",
          "text": [
            "-2.670602119684964\n"
          ]
        }
      ]
    },
    {
      "cell_type": "markdown",
      "source": [
        "# **Test Prediction**"
      ],
      "metadata": {
        "id": "bxy5if33zVp1"
      }
    },
    {
      "cell_type": "code",
      "source": [
        "test_input= np.array( [[ House_Age, Distance_from_nearest_Metro_station_km, Number_of_convenience_stores, latitude, longitude, House_size_sqft]] )"
      ],
      "metadata": {
        "id": "0vyUBblVV8Rw"
      },
      "execution_count": 111,
      "outputs": []
    },
    {
      "cell_type": "code",
      "source": [
        "val= model.predict(test_input)\n",
        "res=val[0][0]"
      ],
      "metadata": {
        "colab": {
          "base_uri": "https://localhost:8080/"
        },
        "id": "Nv_CyjmCV8PG",
        "outputId": "55f9e79b-a7ec-4a18-d7f5-80d7edefd9b8"
      },
      "execution_count": 112,
      "outputs": [
        {
          "output_type": "stream",
          "name": "stdout",
          "text": [
            "1/1 [==============================] - 0s 55ms/step\n"
          ]
        }
      ]
    },
    {
      "cell_type": "code",
      "source": [
        "print(\"The predicted price is=\",convert_label_value(res))"
      ],
      "metadata": {
        "colab": {
          "base_uri": "https://localhost:8080/"
        },
        "id": "br7mMk-AV8Hn",
        "outputId": "e0849d2a-de9d-4e78-e529-1719f4a82c3e"
      },
      "execution_count": 113,
      "outputs": [
        {
          "output_type": "stream",
          "name": "stdout",
          "text": [
            "The predicted price is= 52\n"
          ]
        }
      ]
    }
  ]
}